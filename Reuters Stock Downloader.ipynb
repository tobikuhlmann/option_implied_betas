{
 "cells": [
  {
   "cell_type": "code",
   "execution_count": 1,
   "metadata": {},
   "outputs": [
    {
     "ename": "AttributeError",
     "evalue": "module 'eikon' has no attribute 'set_app_key'",
     "output_type": "error",
     "traceback": [
      "\u001b[0;31m---------------------------------------------------------------------------\u001b[0m",
      "\u001b[0;31mAttributeError\u001b[0m                            Traceback (most recent call last)",
      "\u001b[0;32m<ipython-input-1-2372a50ac3c7>\u001b[0m in \u001b[0;36m<module>\u001b[0;34m\u001b[0m\n\u001b[1;32m      3\u001b[0m \u001b[0;32mimport\u001b[0m \u001b[0mpandas\u001b[0m \u001b[0;32mas\u001b[0m \u001b[0mpd\u001b[0m\u001b[0;34m\u001b[0m\u001b[0;34m\u001b[0m\u001b[0m\n\u001b[1;32m      4\u001b[0m \u001b[0;32mimport\u001b[0m \u001b[0mtime\u001b[0m\u001b[0;34m\u001b[0m\u001b[0;34m\u001b[0m\u001b[0m\n\u001b[0;32m----> 5\u001b[0;31m \u001b[0mek\u001b[0m\u001b[0;34m.\u001b[0m\u001b[0mset_app_key\u001b[0m\u001b[0;34m(\u001b[0m\u001b[0;34m'24851b66f5d640999f6bf3c0bef4bd71bc86c619'\u001b[0m\u001b[0;34m)\u001b[0m\u001b[0;34m\u001b[0m\u001b[0;34m\u001b[0m\u001b[0m\n\u001b[0m\u001b[1;32m      6\u001b[0m \u001b[0;31m#Das ist App Key (früher App ID) in Eikon Reuters von dem KIT account <- Search for App Key Generator in Eikon\u001b[0m\u001b[0;34m\u001b[0m\u001b[0;34m\u001b[0m\u001b[0;34m\u001b[0m\u001b[0m\n",
      "\u001b[0;31mAttributeError\u001b[0m: module 'eikon' has no attribute 'set_app_key'"
     ]
    }
   ],
   "source": [
    "import eikon as ek\n",
    "import eikon as tr\n",
    "import pandas as pd\n",
    "import time\n",
    "ek.set_app_key('24851b66f5d640999f6bf3c0bef4bd71bc86c619')\n",
    "#Das ist App Key (früher App ID) in Eikon Reuters von dem KIT account <- Search for App Key Generator in Eikon"
   ]
  },
  {
   "cell_type": "code",
   "execution_count": 8,
   "metadata": {},
   "outputs": [
    {
     "name": "stdout",
     "output_type": "stream",
     "text": [
      "MSFT.O         HIGH  CLOSE    LOW   OPEN     COUNT      VOLUME\n",
      "Date                                                          \n",
      "2016-01-04  54.8000  54.80  53.39  54.32  272781.0  53777963.0\n",
      "2016-01-05  55.3900  55.05  54.54  54.93  180637.0  34079674.0\n",
      "2016-01-06  54.4001  54.05  53.64  54.32  225856.0  39518863.0\n",
      "2016-01-07  53.4850  52.17  52.07  52.70  303271.0  56564852.0\n",
      "2016-01-08  53.2800  52.33  52.15  52.37  261949.0  48753969.0\n"
     ]
    }
   ],
   "source": [
    "test_timeseries = ek.get_timeseries([\"MSFT.O\"], \n",
    "                       start_date=\"2016-01-01\",  \n",
    "                       end_date=\"2016-01-10\")\n",
    "print(test_timeseries)\n"
   ]
  },
  {
   "cell_type": "code",
   "execution_count": 16,
   "metadata": {},
   "outputs": [
    {
     "name": "stdout",
     "output_type": "stream",
     "text": [
      "MSFT.O      CLOSE\n",
      "Date             \n",
      "2017-03-01  64.94\n",
      "2017-03-02  64.01\n",
      "2017-03-03  64.25\n",
      "2017-03-06  64.27\n",
      "2017-03-07  64.40\n",
      "2017-03-08  64.99\n",
      "2017-03-09  64.73\n",
      "2017-03-10  64.93\n"
     ]
    }
   ],
   "source": [
    "test_close_timeseries = ek.get_timeseries([\"MSFT.O\"], fields=\"CLOSE\", start_date=\"2017-03-01\", end_date=\"2017-03-10\", interval=\"daily\", count=None, calendar=\"tradingdays\", corax=None, normalize=False, raw_output=False, debug=False)\n",
    "print(test_close_timeseries)"
   ]
  },
  {
   "cell_type": "code",
   "execution_count": 20,
   "metadata": {},
   "outputs": [
    {
     "name": "stdout",
     "output_type": "stream",
     "text": [
      ".SPX          CLOSE\n",
      "Date               \n",
      "2017-12-01  2642.22\n",
      "2017-12-04  2639.44\n",
      "2017-12-05  2629.57\n",
      "2017-12-06  2629.27\n",
      "2017-12-07  2636.98\n",
      "2017-12-08  2651.50\n",
      "2017-12-11  2659.99\n",
      "2017-12-12  2664.11\n",
      "2017-12-13  2662.85\n",
      "2017-12-14  2652.01\n",
      "2017-12-15  2675.81\n",
      "2017-12-18  2690.16\n",
      "2017-12-19  2681.47\n",
      "2017-12-20  2679.25\n",
      "2017-12-21  2684.57\n",
      "2017-12-22  2683.34\n",
      "2017-12-26  2680.50\n",
      "2017-12-27  2682.62\n",
      "2017-12-28  2687.54\n",
      "2017-12-29  2673.61\n",
      "2018-01-02  2695.81\n",
      "2018-01-03  2713.06\n",
      "2018-01-04  2723.99\n",
      "2018-01-05  2743.15\n",
      "2018-01-08  2747.71\n",
      "2018-01-09  2751.29\n",
      "2018-01-10  2748.23\n"
     ]
    }
   ],
   "source": [
    "close_timeseries_SP500=ek.get_timeseries([\".SPX\"], fields=\"CLOSE\", start_date=\"2017-12-01\", end_date=\"2018-01-10\", interval=\"daily\")\n",
    "print(close_timeseries_SP500)"
   ]
  },
  {
   "cell_type": "code",
   "execution_count": 119,
   "metadata": {},
   "outputs": [],
   "source": [
    "#S&P 500 Joiners und Leavers Liste\n",
    "f = ['TR.IndexJLConstituentChangeDate','TR.IndexJLConstituentName',\n",
    "     'TR.IndexJLConstituentRIC','TR.IndexJLConstituentComName']\n",
    "test_leavers = tr.get_data([\".SPX\"], fields=f, parameters={'IC':'L', 'SDate':'0D', 'EDate':'-24CY'})\n",
    "test_leavers = test_leavers[0]\n",
    "test_joiners = tr.get_data([\".SPX\"], fields=f, parameters={'IC':'J', 'SDate':'0D', 'EDate':'-24CY'})\n",
    "test_joiners = test_joiners[0]\n",
    "\n",
    "test_leavers['type'] = 'leaver'\n",
    "test_joiners['type'] = 'joiner'\n",
    "test_lj = pd.concat((test_joiners, test_leavers)).sort_values(by = ['Date'])\n",
    "\n",
    "test_lj.to_csv(\"C:/Users/gp1396/Desktop/2018_12_20_SP500_leavers_joiners.csv\", index = False)"
   ]
  },
  {
   "cell_type": "code",
   "execution_count": 120,
   "metadata": {},
   "outputs": [],
   "source": [
    "#S&P 500 Constituents Liste\n",
    "test_constituents = tr.get_data('.SPX', ['TR.IndexConstituentName','TR.IndexConstituentRIC'])[0]\n",
    "test_constituents['type'] = 'constituent'\n",
    "test_c = pd.DataFrame(test_constituents)\n",
    "test_c.to_csv(\"C:/Users/gp1396/Desktop/2018_12_20_SP500_constituents.csv\", index = False)\n",
    "# in der Constituents Liste ist S&P500 selber dabei"
   ]
  },
  {
   "cell_type": "code",
   "execution_count": 137,
   "metadata": {},
   "outputs": [],
   "source": [
    "#Eine Liste mit Joiners, Leavers, Constituents ohne Duplikate\n",
    "\n",
    "test_ljc = pd.concat([test_lj, test_c], sort=False)\n",
    "test_ljc = pd.DataFrame(test_ljc, columns = ['Instrument','Constituent Name','Constituent RIC'])\n",
    "test_ljc = pd.DataFrame.drop_duplicates(test_ljc, subset='Constituent RIC')\n",
    "test_ljc.to_csv(\"C:/Users/gp1396/Desktop/2018_12_20_SP500_ljc_without_duplicates.csv\", index = False)"
   ]
  },
  {
   "cell_type": "code",
   "execution_count": 2,
   "metadata": {},
   "outputs": [
    {
     "name": "stdout",
     "output_type": "stream",
     "text": [
      "MDP.N\n",
      "FTI.N\n",
      "1144\n"
     ]
    }
   ],
   "source": [
    "test_ljc = pd.read_csv(\"C:/Users/gp1396/Desktop/2018_12_20_SP500_ljc_without_duplicates.csv\")\n",
    "print(test_ljc.iloc[0][2])\n",
    "print(test_ljc.iloc[1143][2])\n",
    "n=test_ljc.shape[0]\n",
    "print(n)"
   ]
  },
  {
   "cell_type": "code",
   "execution_count": 3,
   "metadata": {},
   "outputs": [
    {
     "name": "stdout",
     "output_type": "stream",
     "text": [
      "25 :  HAL.N\n",
      "26 :  IFF.N\n",
      "27 :  SPGI.N\n",
      "28 :  AM^H13\n",
      "29 :  FRE.N^G10\n",
      "30 :  WOR\n",
      "31 :  DAL.N^J05\n"
     ]
    },
    {
     "name": "stderr",
     "output_type": "stream",
     "text": [
      "Error with DAL.N^J05: No data available for the requested date range\n",
      "DAL.N^J05: No data available for the requested date range | \n"
     ]
    },
    {
     "name": "stdout",
     "output_type": "stream",
     "text": [
      "32 :  IPG.N\n",
      "33 :  AAL.N^B97\n"
     ]
    },
    {
     "name": "stderr",
     "output_type": "stream",
     "text": [
      "Error with AAL.N^B97: No data available for the requested date range\n",
      "AAL.N^B97: No data available for the requested date range | \n",
      "Error with AAL.N^B97: No data available for the requested date range\n",
      "AAL.N^B97: No data available for the requested date range | \n"
     ]
    },
    {
     "name": "stdout",
     "output_type": "stream",
     "text": [
      "34 :  PPG.N\n",
      "35 :  UST.N^A09\n",
      "36 :  X.N\n",
      "37 :  COST.OQ\n",
      "38 :  UCL.N^H05\n"
     ]
    },
    {
     "name": "stderr",
     "output_type": "stream",
     "text": [
      "Error with UCL.N^H05: No data available for the requested date range\n",
      "UCL.N^H05: No data available for the requested date range | \n"
     ]
    },
    {
     "name": "stdout",
     "output_type": "stream",
     "text": [
      "39 :  BHGE.N\n",
      "40 :  PBY.N^B16\n",
      "41 :  MAS.N\n",
      "42 :  ANV.N^D99\n"
     ]
    },
    {
     "name": "stderr",
     "output_type": "stream",
     "text": [
      "Error with ANV.N^D99: No data available for the requested date range\n",
      "ANV.N^D99: No data available for the requested date range | \n"
     ]
    },
    {
     "name": "stdout",
     "output_type": "stream",
     "text": [
      "43 :  ASH.N\n",
      "44 :  TA.N^G99\n"
     ]
    },
    {
     "name": "stderr",
     "output_type": "stream",
     "text": [
      "Error with TA.N^G99: No data available for the requested date range\n",
      "TA.N^G99: No data available for the requested date range | \n"
     ]
    },
    {
     "name": "stdout",
     "output_type": "stream",
     "text": [
      "45 :  APD.N\n",
      "46 :  ROK.N\n",
      "47 :  SVU.N^J18\n",
      "48 :  IP.N\n",
      "49 :  MS.N\n",
      "50 :  STO.N^K98\n"
     ]
    },
    {
     "name": "stderr",
     "output_type": "stream",
     "text": [
      "Error with STO.N^K98: No data available for the requested date range\n",
      "STO.N^K98: No data available for the requested date range | \n",
      "Error with STO.N^K98: No data available for the requested date range\n",
      "STO.N^K98: No data available for the requested date range | \n"
     ]
    },
    {
     "name": "stdout",
     "output_type": "stream",
     "text": [
      "51 :  VZ.N\n",
      "52 :  CSX.OQ\n",
      "53 :  BFO.N^J00\n"
     ]
    },
    {
     "name": "stderr",
     "output_type": "stream",
     "text": [
      "Error with BFO.N^J00: No data available for the requested date range\n",
      "BFO.N^J00: No data available for the requested date range | \n"
     ]
    },
    {
     "name": "stdout",
     "output_type": "stream",
     "text": [
      "54 :  JCP.N\n",
      "55 :  DI.N^I98\n"
     ]
    },
    {
     "name": "stderr",
     "output_type": "stream",
     "text": [
      "Error with DI.N^I98: No data available for the requested date range\n",
      "DI.N^I98: No data available for the requested date range | \n",
      "Error with DI.N^I98: No data available for the requested date range\n",
      "DI.N^I98: No data available for the requested date range | \n"
     ]
    },
    {
     "name": "stdout",
     "output_type": "stream",
     "text": [
      "56 :  ZRN.N^F98\n"
     ]
    },
    {
     "name": "stderr",
     "output_type": "stream",
     "text": [
      "Error with ZRN.N^F98: No data available for the requested date range\n",
      "ZRN.N^F98: No data available for the requested date range | \n",
      "Error with ZRN.N^F98: No data available for the requested date range\n",
      "ZRN.N^F98: No data available for the requested date range | \n"
     ]
    },
    {
     "name": "stdout",
     "output_type": "stream",
     "text": [
      "57 :  AET.N^K18\n",
      "58 :  CSCO.OQ\n",
      "59 :  UEP.N^L97\n"
     ]
    },
    {
     "name": "stderr",
     "output_type": "stream",
     "text": [
      "Error with UEP.N^L97: No data available for the requested date range\n",
      "UEP.N^L97: No data available for the requested date range | \n",
      "Error with UEP.N^L97: No data available for the requested date range\n",
      "UEP.N^L97: No data available for the requested date range | \n"
     ]
    },
    {
     "name": "stdout",
     "output_type": "stream",
     "text": [
      "60 :  CFL.N^D98\n"
     ]
    },
    {
     "name": "stderr",
     "output_type": "stream",
     "text": [
      "Error with CFL.N^D98: No data available for the requested date range\n",
      "CFL.N^D98: No data available for the requested date range | \n",
      "Error with CFL.N^D98: No data available for the requested date range\n",
      "CFL.N^D98: No data available for the requested date range | \n"
     ]
    },
    {
     "name": "stdout",
     "output_type": "stream",
     "text": [
      "61 :  MEA.N^A02\n"
     ]
    },
    {
     "name": "stderr",
     "output_type": "stream",
     "text": [
      "Error with MEA.N^A02: No data available for the requested date range\n",
      "MEA.N^A02: No data available for the requested date range | \n"
     ]
    },
    {
     "name": "stdout",
     "output_type": "stream",
     "text": [
      "62 :  TGNA.N\n",
      "63 :  USH.N^F97\n"
     ]
    },
    {
     "name": "stderr",
     "output_type": "stream",
     "text": [
      "Error with USH.N^F97: No data available for the requested date range\n",
      "USH.N^F97: No data available for the requested date range | \n",
      "Error with USH.N^F97: No data available for the requested date range\n",
      "USH.N^F97: No data available for the requested date range | \n",
      "Error with USH.N^F97: No data available for the requested date range\n",
      "USH.N^F97: No data available for the requested date range | \n"
     ]
    },
    {
     "name": "stdout",
     "output_type": "stream",
     "text": [
      "64 :  SNA.N\n",
      "65 :  MDR.N\n",
      "66 :  KWP.N^K99\n"
     ]
    },
    {
     "name": "stderr",
     "output_type": "stream",
     "text": [
      "Error with KWP.N^K99: No data available for the requested date range\n",
      "KWP.N^K99: No data available for the requested date range | \n"
     ]
    },
    {
     "name": "stdout",
     "output_type": "stream",
     "text": [
      "67 :  ARC.N^D00\n"
     ]
    },
    {
     "name": "stderr",
     "output_type": "stream",
     "text": [
      "Error with ARC.N^D00: No data available for the requested date range\n",
      "ARC.N^D00: No data available for the requested date range | \n"
     ]
    },
    {
     "name": "stdout",
     "output_type": "stream",
     "text": [
      "68 :  AR.N^K99\n"
     ]
    },
    {
     "name": "stderr",
     "output_type": "stream",
     "text": [
      "Error with AR.N^K99: No data available for the requested date range\n",
      "AR.N^K99: No data available for the requested date range | \n"
     ]
    },
    {
     "name": "stdout",
     "output_type": "stream",
     "text": [
      "69 :  GLW.N\n",
      "70 :  NT.N^A09\n",
      "71 :  MD.N^H97\n"
     ]
    },
    {
     "name": "stderr",
     "output_type": "stream",
     "text": [
      "Error with MD.N^H97: No data available for the requested date range\n",
      "MD.N^H97: No data available for the requested date range | \n",
      "Error with MD.N^H97: No data available for the requested date range\n",
      "MD.N^H97: No data available for the requested date range | \n"
     ]
    },
    {
     "name": "stdout",
     "output_type": "stream",
     "text": [
      "72 :  LNC.N\n",
      "73 :  AGC.N^H01\n"
     ]
    },
    {
     "name": "stderr",
     "output_type": "stream",
     "text": [
      "Error with AGC.N^H01: No data available for the requested date range\n",
      "AGC.N^H01: No data available for the requested date range | \n"
     ]
    },
    {
     "name": "stdout",
     "output_type": "stream",
     "text": [
      "74 :  PAS.N^C10\n",
      "75 :  MWI.N^C04\n"
     ]
    },
    {
     "name": "stderr",
     "output_type": "stream",
     "text": [
      "Error with MWI.N^C04: No data available for the requested date range\n",
      "MWI.N^C04: No data available for the requested date range | \n"
     ]
    },
    {
     "name": "stdout",
     "output_type": "stream",
     "text": [
      "76 :  PHA.N^D03\n"
     ]
    },
    {
     "name": "stderr",
     "output_type": "stream",
     "text": [
      "Error with PHA.N^D03: No data available for the requested date range\n",
      "PHA.N^D03: No data available for the requested date range | \n"
     ]
    },
    {
     "name": "stdout",
     "output_type": "stream",
     "text": [
      "77 :  MSFT.OQ\n",
      "78 :  MST.N^H98\n"
     ]
    },
    {
     "name": "stderr",
     "output_type": "stream",
     "text": [
      "Error with MST.N^H98: No data available for the requested date range\n",
      "MST.N^H98: No data available for the requested date range | \n",
      "Error with MST.N^H98: No data available for the requested date range\n",
      "MST.N^H98: No data available for the requested date range | \n"
     ]
    },
    {
     "name": "stdout",
     "output_type": "stream",
     "text": [
      "79 :  MEL.N^G07\n"
     ]
    },
    {
     "name": "stderr",
     "output_type": "stream",
     "text": [
      "Error with MEL.N^G07: No data available for the requested date range\n",
      "MEL.N^G07: No data available for the requested date range | \n"
     ]
    },
    {
     "name": "stdout",
     "output_type": "stream",
     "text": [
      "80 :  MCD.N\n",
      "81 :  MAT.OQ\n",
      "82 :  UN.N\n",
      "83 :  ML.N^C95\n"
     ]
    },
    {
     "name": "stderr",
     "output_type": "stream",
     "text": [
      "Error with ML.N^C95: No data available for the requested date range\n",
      "ML.N^C95: No data available for the requested date range | \n",
      "Error with ML.N^C95: No data available for the requested date range\n",
      "ML.N^C95: No data available for the requested date range | \n"
     ]
    },
    {
     "name": "stdout",
     "output_type": "stream",
     "text": [
      "84 :  MNR.N^I98\n"
     ]
    },
    {
     "name": "stderr",
     "output_type": "stream",
     "text": [
      "Error with MNR.N^I98: No data available for the requested date range\n",
      "MNR.N^I98: No data available for the requested date range | \n",
      "Error with MNR.N^I98: No data available for the requested date range\n",
      "MNR.N^I98: No data available for the requested date range | \n"
     ]
    },
    {
     "name": "stdout",
     "output_type": "stream",
     "text": [
      "85 :  MCIC.O^I98\n"
     ]
    },
    {
     "name": "stderr",
     "output_type": "stream",
     "text": [
      "Error with MCIC.O^I98: No data available for the requested date range\n",
      "MCIC.O^I98: No data available for the requested date range | \n",
      "Error with MCIC.O^I98: No data available for the requested date range\n",
      "MCIC.O^I98: No data available for the requested date range | \n"
     ]
    },
    {
     "name": "stdout",
     "output_type": "stream",
     "text": [
      "86 :  KRB.N^A06\n"
     ]
    },
    {
     "name": "stderr",
     "output_type": "stream",
     "text": [
      "Error with KRB.N^A06: No data available for the requested date range\n",
      "KRB.N^A06: No data available for the requested date range | \n"
     ]
    },
    {
     "name": "stdout",
     "output_type": "stream",
     "text": [
      "87 :  IBM.N\n",
      "88 :  AIT.N^J99\n"
     ]
    },
    {
     "name": "stderr",
     "output_type": "stream",
     "text": [
      "Error with AIT.N^J99: No data available for the requested date range\n",
      "AIT.N^J99: No data available for the requested date range | \n"
     ]
    },
    {
     "name": "stdout",
     "output_type": "stream",
     "text": [
      "89 :  T.N^K05\n"
     ]
    },
    {
     "name": "stderr",
     "output_type": "stream",
     "text": [
      "Error with T.N^K05: No data available for the requested date range\n",
      "T.N^K05: No data available for the requested date range | \n"
     ]
    },
    {
     "name": "stdout",
     "output_type": "stream",
     "text": [
      "90 :  BKB.N^J99\n"
     ]
    },
    {
     "name": "stderr",
     "output_type": "stream",
     "text": [
      "Error with BKB.N^J99: No data available for the requested date range\n",
      "BKB.N^J99: No data available for the requested date range | \n"
     ]
    },
    {
     "name": "stdout",
     "output_type": "stream",
     "text": [
      "91 :  MOB.N^K99\n"
     ]
    },
    {
     "name": "stderr",
     "output_type": "stream",
     "text": [
      "Error with MOB.N^K99: No data available for the requested date range\n",
      "MOB.N^K99: No data available for the requested date range | \n"
     ]
    },
    {
     "name": "stdout",
     "output_type": "stream",
     "text": [
      "92 :  SCI.N\n",
      "93 :  GR.N^G12\n",
      "94 :  GM.N^F09\n",
      "95 :  DE.N\n",
      "96 :  S.N^C05\n"
     ]
    },
    {
     "name": "stderr",
     "output_type": "stream",
     "text": [
      "Error with S.N^C05: No data available for the requested date range\n",
      "S.N^C05: No data available for the requested date range | \n"
     ]
    },
    {
     "name": "stdout",
     "output_type": "stream",
     "text": [
      "97 :  ABX.N\n",
      "98 :  ADP.OQ\n",
      "99 :  BNL.N^F98\n"
     ]
    },
    {
     "name": "stderr",
     "output_type": "stream",
     "text": [
      "Error with BNL.N^F98: No data available for the requested date range\n",
      "BNL.N^F98: No data available for the requested date range | \n",
      "Error with BNL.N^F98: No data available for the requested date range\n",
      "BNL.N^F98: No data available for the requested date range | \n"
     ]
    },
    {
     "name": "stdout",
     "output_type": "stream",
     "text": [
      "100 :  AS.N^I99\n"
     ]
    },
    {
     "name": "stderr",
     "output_type": "stream",
     "text": [
      "Error with AS.N^I99: No data available for the requested date range\n",
      "AS.N^I99: No data available for the requested date range | \n"
     ]
    },
    {
     "name": "stdout",
     "output_type": "stream",
     "text": [
      "101 :  DD.N^I17\n",
      "102 :  DEC.N^F98\n"
     ]
    },
    {
     "name": "stderr",
     "output_type": "stream",
     "text": [
      "Error with DEC.N^F98: No data available for the requested date range\n",
      "DEC.N^F98: No data available for the requested date range | \n",
      "Error with DEC.N^F98: No data available for the requested date range\n",
      "DEC.N^F98: No data available for the requested date range | \n"
     ]
    },
    {
     "name": "stdout",
     "output_type": "stream",
     "text": [
      "103 :  RBD.N^C99\n"
     ]
    },
    {
     "name": "stderr",
     "output_type": "stream",
     "text": [
      "Error with RBD.N^C99: No data available for the requested date range\n",
      "RBD.N^C99: No data available for the requested date range | \n"
     ]
    },
    {
     "name": "stdout",
     "output_type": "stream",
     "text": [
      "104 :  CL.N\n",
      "105 :  C.N^K98\n"
     ]
    },
    {
     "name": "stderr",
     "output_type": "stream",
     "text": [
      "Error with C.N^K98: No data available for the requested date range\n",
      "C.N^K98: No data available for the requested date range | \n",
      "Error with C.N^K98: No data available for the requested date range\n",
      "C.N^K98: No data available for the requested date range | \n"
     ]
    },
    {
     "name": "stdout",
     "output_type": "stream",
     "text": [
      "106 :  ONE.N^G04\n"
     ]
    },
    {
     "name": "stderr",
     "output_type": "stream",
     "text": [
      "Error with ONE.N^G04: No data available for the requested date range\n",
      "ONE.N^G04: No data available for the requested date range | \n"
     ]
    },
    {
     "name": "stdout",
     "output_type": "stream",
     "text": [
      "107 :  UTX.N\n",
      "108 :  MO.N\n",
      "109 :  HLT.N^J07\n"
     ]
    },
    {
     "name": "stderr",
     "output_type": "stream",
     "text": [
      "Error with HLT.N^J07: No data available for the requested date range\n",
      "HLT.N^J07: No data available for the requested date range | \n"
     ]
    },
    {
     "name": "stdout",
     "output_type": "stream",
     "text": [
      "110 :  WMB.N\n",
      "111 :  KO.N\n",
      "112 :  ASC.N^F99\n"
     ]
    },
    {
     "name": "stderr",
     "output_type": "stream",
     "text": [
      "Error with ASC.N^F99: No data available for the requested date range\n",
      "ASC.N^F99: No data available for the requested date range | \n"
     ]
    },
    {
     "name": "stdout",
     "output_type": "stream",
     "text": [
      "113 :  AMD.OQ\n",
      "114 :  XEL.OQ\n",
      "115 :  DJ.N^L07\n"
     ]
    },
    {
     "name": "stderr",
     "output_type": "stream",
     "text": [
      "Error with DJ.N^L07: No data available for the requested date range\n",
      "DJ.N^L07: No data available for the requested date range | \n"
     ]
    },
    {
     "name": "stdout",
     "output_type": "stream",
     "text": [
      "116 :  FDC.N^I07\n"
     ]
    },
    {
     "name": "stderr",
     "output_type": "stream",
     "text": [
      "Error with FDC.N^I07: No data available for the requested date range\n",
      "FDC.N^I07: No data available for the requested date range | \n"
     ]
    },
    {
     "name": "stdout",
     "output_type": "stream",
     "text": [
      "117 :  GTE.N^G00\n"
     ]
    },
    {
     "name": "stderr",
     "output_type": "stream",
     "text": [
      "Error with GTE.N^G00: No data available for the requested date range\n",
      "GTE.N^G00: No data available for the requested date range | \n"
     ]
    },
    {
     "name": "stdout",
     "output_type": "stream",
     "text": [
      "118 :  TCOMA.O^C99\n"
     ]
    },
    {
     "name": "stderr",
     "output_type": "stream",
     "text": [
      "Error with TCOMA.O^C99: No data available for the requested date range\n",
      "TCOMA.O^C99: No data available for the requested date range | \n"
     ]
    },
    {
     "name": "stdout",
     "output_type": "stream",
     "text": [
      "119 :  MAI.N^G95\n"
     ]
    },
    {
     "name": "stderr",
     "output_type": "stream",
     "text": [
      "Error with MAI.N^G95: No data available for the requested date range\n",
      "MAI.N^G95: No data available for the requested date range | \n",
      "Error with MAI.N^G95: No data available for the requested date range\n",
      "MAI.N^G95: No data available for the requested date range | \n"
     ]
    },
    {
     "name": "stdout",
     "output_type": "stream",
     "text": [
      "120 :  SFS.N^H00\n"
     ]
    },
    {
     "name": "stderr",
     "output_type": "stream",
     "text": [
      "Error with SFS.N^H00: No data available for the requested date range\n",
      "SFS.N^H00: No data available for the requested date range | \n"
     ]
    },
    {
     "name": "stdout",
     "output_type": "stream",
     "text": [
      "121 :  COP.N\n",
      "122 :  WAI.N^H98\n"
     ]
    },
    {
     "name": "stderr",
     "output_type": "stream",
     "text": [
      "Error with WAI.N^H98: No data available for the requested date range\n",
      "WAI.N^H98: No data available for the requested date range | \n",
      "Error with WAI.N^H98: No data available for the requested date range\n",
      "WAI.N^H98: No data available for the requested date range | \n",
      "Error with PZS.N^L99: Invalid RIC\n",
      "PZS.N^L99: Invalid RIC | \n"
     ]
    },
    {
     "name": "stdout",
     "output_type": "stream",
     "text": [
      "123 :  PZS.N^L99\n",
      "124 :  CIN.N^D06\n"
     ]
    },
    {
     "name": "stderr",
     "output_type": "stream",
     "text": [
      "Error with CIN.N^D06: No data available for the requested date range\n",
      "CIN.N^D06: No data available for the requested date range | \n"
     ]
    },
    {
     "name": "stdout",
     "output_type": "stream",
     "text": [
      "125 :  ATI.N^F99\n"
     ]
    },
    {
     "name": "stderr",
     "output_type": "stream",
     "text": [
      "Error with ATI.N^F99: No data available for the requested date range\n",
      "ATI.N^F99: No data available for the requested date range | \n"
     ]
    },
    {
     "name": "stdout",
     "output_type": "stream",
     "text": [
      "126 :  BLY.N^L96\n"
     ]
    },
    {
     "name": "stderr",
     "output_type": "stream",
     "text": [
      "Error with BLY.N^L96: No data available for the requested date range\n",
      "BLY.N^L96: No data available for the requested date range | \n",
      "Error with BLY.N^L96: No data available for the requested date range\n",
      "BLY.N^L96: No data available for the requested date range | \n"
     ]
    },
    {
     "name": "stdout",
     "output_type": "stream",
     "text": [
      "127 :  BLL.N\n",
      "128 :  AL.N^K07\n"
     ]
    },
    {
     "name": "stderr",
     "output_type": "stream",
     "text": [
      "Error with AL.N^K07: No data available for the requested date range\n",
      "AL.N^K07: No data available for the requested date range | \n"
     ]
    },
    {
     "name": "stdout",
     "output_type": "stream",
     "text": [
      "129 :  BAC.N\n",
      "130 :  MU.OQ\n",
      "131 :  HP.N\n",
      "132 :  NCC.N^A09\n"
     ]
    },
    {
     "name": "stderr",
     "output_type": "stream",
     "text": [
      "Error with NCC.N^A09: No data available for the requested date range\n",
      "NCC.N^A09: No data available for the requested date range | \n"
     ]
    },
    {
     "name": "stdout",
     "output_type": "stream",
     "text": [
      "133 :  MIL.N^G10\n",
      "134 :  UCM.N^J00\n"
     ]
    },
    {
     "name": "stderr",
     "output_type": "stream",
     "text": [
      "Error with UCM.N^J00: No data available for the requested date range\n",
      "UCM.N^J00: No data available for the requested date range | \n"
     ]
    },
    {
     "name": "stdout",
     "output_type": "stream",
     "text": [
      "135 :  KRI.N^F06\n"
     ]
    },
    {
     "name": "stderr",
     "output_type": "stream",
     "text": [
      "Error with KRI.N^F06: No data available for the requested date range\n",
      "KRI.N^F06: No data available for the requested date range | \n"
     ]
    },
    {
     "name": "stdout",
     "output_type": "stream",
     "text": [
      "136 :  NMK.N^A02\n"
     ]
    },
    {
     "name": "stderr",
     "output_type": "stream",
     "text": [
      "Error with NMK.N^A02: No data available for the requested date range\n",
      "NMK.N^A02: No data available for the requested date range | \n"
     ]
    },
    {
     "name": "stdout",
     "output_type": "stream",
     "text": [
      "137 :  DOW.N^I17\n",
      "138 :  GD.N\n",
      "139 :  TJX.N\n",
      "140 :  ZE.N^E98\n"
     ]
    },
    {
     "name": "stderr",
     "output_type": "stream",
     "text": [
      "Error with ZE.N^E98: No data available for the requested date range\n",
      "ZE.N^E98: No data available for the requested date range | \n",
      "Error with ZE.N^E98: No data available for the requested date range\n",
      "ZE.N^E98: No data available for the requested date range | \n"
     ]
    },
    {
     "name": "stdout",
     "output_type": "stream",
     "text": [
      "141 :  DIS.N\n",
      "142 :  WMX.N^G98\n"
     ]
    },
    {
     "name": "stderr",
     "output_type": "stream",
     "text": [
      "Error with WMX.N^G98: No data available for the requested date range\n",
      "WMX.N^G98: No data available for the requested date range | \n",
      "Error with WMX.N^G98: No data available for the requested date range\n",
      "WMX.N^G98: No data available for the requested date range | \n"
     ]
    },
    {
     "name": "stdout",
     "output_type": "stream",
     "text": [
      "143 :  AMGN.OQ\n",
      "144 :  GWW.N\n",
      "145 :  BC.N\n",
      "146 :  BRNO.O^H95\n"
     ]
    },
    {
     "name": "stderr",
     "output_type": "stream",
     "text": [
      "Error with BRNO.O^H95: No data available for the requested date range\n",
      "BRNO.O^H95: No data available for the requested date range | \n",
      "Error with BRNO.O^H95: No data available for the requested date range\n",
      "BRNO.O^H95: No data available for the requested date range | \n"
     ]
    },
    {
     "name": "stdout",
     "output_type": "stream",
     "text": [
      "147 :  BFI.N^H99\n"
     ]
    },
    {
     "name": "stderr",
     "output_type": "stream",
     "text": [
      "Error with BFI.N^H99: No data available for the requested date range\n",
      "BFI.N^H99: No data available for the requested date range | \n"
     ]
    },
    {
     "name": "stdout",
     "output_type": "stream",
     "text": [
      "148 :  AIG.N\n",
      "149 :  CAL.N\n",
      "150 :  ITT.N^B98\n"
     ]
    },
    {
     "name": "stderr",
     "output_type": "stream",
     "text": [
      "Error with ITT.N^B98: No data available for the requested date range\n",
      "ITT.N^B98: No data available for the requested date range | \n",
      "Error with ITT.N^B98: No data available for the requested date range\n",
      "ITT.N^B98: No data available for the requested date range | \n"
     ]
    },
    {
     "name": "stdout",
     "output_type": "stream",
     "text": [
      "151 :  MAR.OQ\n",
      "152 :  HON.N\n",
      "153 :  GSX.N^J98\n"
     ]
    },
    {
     "name": "stderr",
     "output_type": "stream",
     "text": [
      "Error with GSX.N^J98: No data available for the requested date range\n",
      "GSX.N^J98: No data available for the requested date range | \n",
      "Error with GSX.N^J98: No data available for the requested date range\n",
      "GSX.N^J98: No data available for the requested date range | \n"
     ]
    },
    {
     "name": "stdout",
     "output_type": "stream",
     "text": [
      "154 :  SPXC.N\n",
      "155 :  GRN.N^L98\n"
     ]
    },
    {
     "name": "stderr",
     "output_type": "stream",
     "text": [
      "Error with GRN.N^L98: No data available for the requested date range\n",
      "GRN.N^L98: No data available for the requested date range | \n",
      "Error with GRN.N^L98: No data available for the requested date range\n",
      "GRN.N^L98: No data available for the requested date range | \n"
     ]
    },
    {
     "name": "stdout",
     "output_type": "stream",
     "text": [
      "156 :  CGP.N^A01\n"
     ]
    },
    {
     "name": "stderr",
     "output_type": "stream",
     "text": [
      "Error with CGP.N^A01: No data available for the requested date range\n",
      "CGP.N^A01: No data available for the requested date range | \n"
     ]
    },
    {
     "name": "stdout",
     "output_type": "stream",
     "text": [
      "157 :  VAT.N^I96\n"
     ]
    },
    {
     "name": "stderr",
     "output_type": "stream",
     "text": [
      "Error with VAT.N^I96: No data available for the requested date range\n",
      "VAT.N^I96: No data available for the requested date range | \n",
      "Error with VAT.N^I96: No data available for the requested date range\n",
      "VAT.N^I96: No data available for the requested date range | \n"
     ]
    },
    {
     "name": "stdout",
     "output_type": "stream",
     "text": [
      "158 :  PDG.N^C06\n"
     ]
    },
    {
     "name": "stderr",
     "output_type": "stream",
     "text": [
      "Error with PDG.N^C06: No data available for the requested date range\n",
      "PDG.N^C06: No data available for the requested date range | \n"
     ]
    },
    {
     "name": "stdout",
     "output_type": "stream",
     "text": [
      "159 :  EIX.N\n",
      "160 :  CAT.N\n",
      "161 :  KBH.N\n",
      "162 :  EMN.N\n",
      "163 :  SGP.N^K09\n",
      "164 :  EC.N^F06\n"
     ]
    },
    {
     "name": "stderr",
     "output_type": "stream",
     "text": [
      "Error with EC.N^F06: No data available for the requested date range\n",
      "EC.N^F06: No data available for the requested date range | \n"
     ]
    },
    {
     "name": "stdout",
     "output_type": "stream",
     "text": [
      "165 :  PPW.N^L99\n"
     ]
    },
    {
     "name": "stderr",
     "output_type": "stream",
     "text": [
      "Error with PPW.N^L99: No data available for the requested date range\n",
      "PPW.N^L99: No data available for the requested date range | \n"
     ]
    },
    {
     "name": "stdout",
     "output_type": "stream",
     "text": [
      "166 :  RDC.N\n",
      "167 :  HET.N^A08\n"
     ]
    },
    {
     "name": "stderr",
     "output_type": "stream",
     "text": [
      "Error with HET.N^A08: No data available for the requested date range\n",
      "HET.N^A08: No data available for the requested date range | \n"
     ]
    },
    {
     "name": "stdout",
     "output_type": "stream",
     "text": [
      "168 :  FNB.N^L95\n"
     ]
    },
    {
     "name": "stderr",
     "output_type": "stream",
     "text": [
      "Error with FNB.N^L95: No data available for the requested date range\n",
      "FNB.N^L95: No data available for the requested date range | \n",
      "Error with FNB.N^L95: No data available for the requested date range\n",
      "FNB.N^L95: No data available for the requested date range | \n"
     ]
    },
    {
     "name": "stdout",
     "output_type": "stream",
     "text": [
      "169 :  RDSa.N\n",
      "170 :  MRN.N^G96\n"
     ]
    },
    {
     "name": "stderr",
     "output_type": "stream",
     "text": [
      "Error with MRN.N^G96: No data available for the requested date range\n",
      "MRN.N^G96: No data available for the requested date range | \n",
      "Error with MRN.N^G96: No data available for the requested date range\n",
      "MRN.N^G96: No data available for the requested date range | \n"
     ]
    },
    {
     "name": "stdout",
     "output_type": "stream",
     "text": [
      "171 :  MAY.N^H05\n"
     ]
    },
    {
     "name": "stderr",
     "output_type": "stream",
     "text": [
      "Error with MAY.N^H05: No data available for the requested date range\n",
      "MAY.N^H05: No data available for the requested date range | \n"
     ]
    },
    {
     "name": "stdout",
     "output_type": "stream",
     "text": [
      "172 :  NLC.N^L99\n"
     ]
    },
    {
     "name": "stderr",
     "output_type": "stream",
     "text": [
      "Error with NLC.N^L99: No data available for the requested date range\n",
      "NLC.N^L99: No data available for the requested date range | \n"
     ]
    },
    {
     "name": "stdout",
     "output_type": "stream",
     "text": [
      "173 :  DNB.N\n"
     ]
    },
    {
     "name": "stderr",
     "output_type": "stream",
     "text": [
      "Error with DNB.N: No data available for the requested date range\n",
      "DNB.N: No data available for the requested date range | \n"
     ]
    },
    {
     "name": "stdout",
     "output_type": "stream",
     "text": [
      "174 :  BOAT.O^D99\n"
     ]
    },
    {
     "name": "stderr",
     "output_type": "stream",
     "text": [
      "Error with BOAT.O^D99: No data available for the requested date range\n",
      "BOAT.O^D99: No data available for the requested date range | \n",
      "Error with BOAT.O^D99: No data available for the requested date range\n",
      "BOAT.O^D99: No data available for the requested date range | \n",
      "Error with BOAT.O^D99: No data available for the requested date range\n",
      "BOAT.O^D99: No data available for the requested date range | \n"
     ]
    },
    {
     "name": "stdout",
     "output_type": "stream",
     "text": [
      "175 :  NEE.N\n",
      "176 :  UPJ.N^K95\n"
     ]
    },
    {
     "name": "stderr",
     "output_type": "stream",
     "text": [
      "Error with UPJ.N^K95: No data available for the requested date range\n",
      "UPJ.N^K95: No data available for the requested date range | \n",
      "Error with UPJ.N^K95: No data available for the requested date range\n",
      "UPJ.N^K95: No data available for the requested date range | \n"
     ]
    },
    {
     "name": "stdout",
     "output_type": "stream",
     "text": [
      "177 :  MII.N^F99\n"
     ]
    },
    {
     "name": "stderr",
     "output_type": "stream",
     "text": [
      "Error with MII.N^F99: No data available for the requested date range\n",
      "MII.N^F99: No data available for the requested date range | \n"
     ]
    },
    {
     "name": "stdout",
     "output_type": "stream",
     "text": [
      "178 :  G.N^J05\n"
     ]
    },
    {
     "name": "stderr",
     "output_type": "stream",
     "text": [
      "Error with G.N^J05: No data available for the requested date range\n",
      "G.N^J05: No data available for the requested date range | \n"
     ]
    },
    {
     "name": "stdout",
     "output_type": "stream",
     "text": [
      "179 :  BAC.N^I98\n"
     ]
    },
    {
     "name": "stderr",
     "output_type": "stream",
     "text": [
      "Error with BAC.N^I98: No data available for the requested date range\n",
      "BAC.N^I98: No data available for the requested date range | \n",
      "Error with BAC.N^I98: No data available for the requested date range\n",
      "BAC.N^I98: No data available for the requested date range | \n"
     ]
    },
    {
     "name": "stdout",
     "output_type": "stream",
     "text": [
      "180 :  RAD.N\n",
      "181 :  UNM.N\n",
      "182 :  DGN.N^J99\n"
     ]
    },
    {
     "name": "stderr",
     "output_type": "stream",
     "text": [
      "Error with DGN.N^J99: No data available for the requested date range\n",
      "DGN.N^J99: No data available for the requested date range | \n"
     ]
    },
    {
     "name": "stdout",
     "output_type": "stream",
     "text": [
      "183 :  FMC.N\n",
      "184 :  VVI.N^G04\n"
     ]
    },
    {
     "name": "stderr",
     "output_type": "stream",
     "text": [
      "Error with VVI.N^G04: No data available for the requested date range\n",
      "VVI.N^G04: No data available for the requested date range | \n"
     ]
    },
    {
     "name": "stdout",
     "output_type": "stream",
     "text": [
      "185 :  ECL.N\n",
      "186 :  ECH.N^G98\n"
     ]
    },
    {
     "name": "stderr",
     "output_type": "stream",
     "text": [
      "Error with ECH.N^G98: No data available for the requested date range\n",
      "ECH.N^G98: No data available for the requested date range | \n",
      "Error with ECH.N^G98: No data available for the requested date range\n",
      "ECH.N^G98: No data available for the requested date range | \n"
     ]
    },
    {
     "name": "stdout",
     "output_type": "stream",
     "text": [
      "187 :  KMG.N^H06\n"
     ]
    },
    {
     "name": "stderr",
     "output_type": "stream",
     "text": [
      "Error with KMG.N^H06: No data available for the requested date range\n",
      "KMG.N^H06: No data available for the requested date range | \n"
     ]
    },
    {
     "name": "stdout",
     "output_type": "stream",
     "text": [
      "188 :  PT.N^E95\n"
     ]
    },
    {
     "name": "stderr",
     "output_type": "stream",
     "text": [
      "Error with PT.N^E95: No data available for the requested date range\n",
      "PT.N^E95: No data available for the requested date range | \n",
      "Error with PT.N^E95: No data available for the requested date range\n",
      "PT.N^E95: No data available for the requested date range | \n"
     ]
    },
    {
     "name": "stdout",
     "output_type": "stream",
     "text": [
      "189 :  CR.N\n",
      "190 :  NYT.N\n",
      "191 :  GIDL.O^J97\n"
     ]
    },
    {
     "name": "stderr",
     "output_type": "stream",
     "text": [
      "Error with GIDL.O^J97: No data available for the requested date range\n",
      "GIDL.O^J97: No data available for the requested date range | \n",
      "Error with GIDL.O^J97: No data available for the requested date range\n",
      "GIDL.O^J97: No data available for the requested date range | \n"
     ]
    },
    {
     "name": "stdout",
     "output_type": "stream",
     "text": [
      "192 :  FBF.N^D04\n"
     ]
    },
    {
     "name": "stderr",
     "output_type": "stream",
     "text": [
      "Error with FBF.N^D04: No data available for the requested date range\n",
      "FBF.N^D04: No data available for the requested date range | \n"
     ]
    },
    {
     "name": "stdout",
     "output_type": "stream",
     "text": [
      "193 :  VFC.N\n",
      "194 :  TRV.N\n",
      "195 :  MYG.N^D06\n"
     ]
    },
    {
     "name": "stderr",
     "output_type": "stream",
     "text": [
      "Error with MYG.N^D06: No data available for the requested date range\n",
      "MYG.N^D06: No data available for the requested date range | \n"
     ]
    },
    {
     "name": "stdout",
     "output_type": "stream",
     "text": [
      "196 :  BMET.OQ^J07\n"
     ]
    },
    {
     "name": "stderr",
     "output_type": "stream",
     "text": [
      "Error with BMET.OQ^J07: No data available for the requested date range\n",
      "BMET.OQ^J07: No data available for the requested date range | \n"
     ]
    },
    {
     "name": "stdout",
     "output_type": "stream",
     "text": [
      "197 :  ABT.N\n",
      "198 :  PGN.N^G12\n",
      "199 :  N.N^K06\n"
     ]
    },
    {
     "name": "stderr",
     "output_type": "stream",
     "text": [
      "Error with N.N^K06: No data available for the requested date range\n",
      "N.N^K06: No data available for the requested date range | \n"
     ]
    },
    {
     "name": "stdout",
     "output_type": "stream",
     "text": [
      "200 :  RRD.N\n",
      "201 :  S.N^G13\n",
      "202 :  PFE.N\n",
      "203 :  ARNC.N\n",
      "204 :  WLA.N^F00\n"
     ]
    },
    {
     "name": "stderr",
     "output_type": "stream",
     "text": [
      "Error with WLA.N^F00: No data available for the requested date range\n",
      "WLA.N^F00: No data available for the requested date range | \n"
     ]
    },
    {
     "name": "stdout",
     "output_type": "stream",
     "text": [
      "205 :  JCI.N^I16\n",
      "206 :  WEN.N^I08\n"
     ]
    },
    {
     "name": "stderr",
     "output_type": "stream",
     "text": [
      "Error with WEN.N^I08: No data available for the requested date range\n",
      "WEN.N^I08: No data available for the requested date range | \n"
     ]
    },
    {
     "name": "stdout",
     "output_type": "stream",
     "text": [
      "207 :  HRB.N\n",
      "208 :  LIN.N\n",
      "209 :  LOTS.O^H95\n"
     ]
    },
    {
     "name": "stderr",
     "output_type": "stream",
     "text": [
      "Error with LOTS.O^H95: No data available for the requested date range\n",
      "LOTS.O^H95: No data available for the requested date range | \n",
      "Error with LOTS.O^H95: No data available for the requested date range\n",
      "LOTS.O^H95: No data available for the requested date range | \n"
     ]
    },
    {
     "name": "stdout",
     "output_type": "stream",
     "text": [
      "210 :  LLX.N^J97\n"
     ]
    },
    {
     "name": "stderr",
     "output_type": "stream",
     "text": [
      "Error with LLX.N^J97: No data available for the requested date range\n",
      "LLX.N^J97: No data available for the requested date range | \n",
      "Error with LLX.N^J97: No data available for the requested date range\n",
      "LLX.N^J97: No data available for the requested date range | \n"
     ]
    },
    {
     "name": "stdout",
     "output_type": "stream",
     "text": [
      "211 :  LPX.N\n",
      "212 :  CBS.N\n",
      "213 :  UCC.N^D99\n"
     ]
    },
    {
     "name": "stderr",
     "output_type": "stream",
     "text": [
      "Error with UCC.N^D99: No data available for the requested date range\n",
      "UCC.N^D99: No data available for the requested date range | \n"
     ]
    },
    {
     "name": "stdout",
     "output_type": "stream",
     "text": [
      "214 :  LK.N^C95\n"
     ]
    },
    {
     "name": "stderr",
     "output_type": "stream",
     "text": [
      "Error with LK.N^C95: No data available for the requested date range\n",
      "LK.N^C95: No data available for the requested date range | \n",
      "Error with LK.N^C95: No data available for the requested date range\n",
      "LK.N^C95: No data available for the requested date range | \n"
     ]
    },
    {
     "name": "stdout",
     "output_type": "stream",
     "text": [
      "215 :  MEE.N^F11\n"
     ]
    },
    {
     "name": "stderr",
     "output_type": "stream",
     "text": [
      "Error with MEE.N^F11: No data available for the requested date range\n",
      "MEE.N^F11: No data available for the requested date range | \n"
     ]
    },
    {
     "name": "stdout",
     "output_type": "stream",
     "text": [
      "216 :  SMS^G00\n"
     ]
    },
    {
     "name": "stderr",
     "output_type": "stream",
     "text": [
      "Error with SMS^G00: No data available for the requested date range\n",
      "SMS^G00: No data available for the requested date range | \n"
     ]
    },
    {
     "name": "stdout",
     "output_type": "stream",
     "text": [
      "217 :  BAX.N\n",
      "218 :  HI.N^C03\n"
     ]
    },
    {
     "name": "stderr",
     "output_type": "stream",
     "text": [
      "Error with HI.N^C03: No data available for the requested date range\n",
      "HI.N^C03: No data available for the requested date range | \n"
     ]
    },
    {
     "name": "stdout",
     "output_type": "stream",
     "text": [
      "219 :  MDT.N\n",
      "220 :  FWC.N^K02\n"
     ]
    },
    {
     "name": "stderr",
     "output_type": "stream",
     "text": [
      "Error with FWC.N^K02: No data available for the requested date range\n",
      "FWC.N^K02: No data available for the requested date range | \n"
     ]
    },
    {
     "name": "stdout",
     "output_type": "stream",
     "text": [
      "221 :  KEY.N\n",
      "222 :  GPS.N\n",
      "223 :  DCN.N^C06\n"
     ]
    },
    {
     "name": "stderr",
     "output_type": "stream",
     "text": [
      "Error with DCN.N^C06: No data available for the requested date range\n",
      "DCN.N^C06: No data available for the requested date range | \n"
     ]
    },
    {
     "name": "stdout",
     "output_type": "stream",
     "text": [
      "224 :  WBA.OQ\n",
      "225 :  JCI.N\n",
      "226 :  FNM.N^G10\n"
     ]
    },
    {
     "name": "stderr",
     "output_type": "stream",
     "text": [
      "Request timeout occured\n"
     ]
    },
    {
     "name": "stdout",
     "output_type": "stream",
     "text": [
      "227 :  PVN.N^F97\n"
     ]
    },
    {
     "name": "stderr",
     "output_type": "stream",
     "text": [
      "Error with PVN.N^F97: No data available for the requested date range\n",
      "PVN.N^F97: No data available for the requested date range | \n",
      "Error with PVN.N^F97: No data available for the requested date range\n",
      "PVN.N^F97: No data available for the requested date range | \n"
     ]
    },
    {
     "name": "stdout",
     "output_type": "stream",
     "text": [
      "228 :  T.N\n",
      "229 :  CBS.N^E00\n"
     ]
    },
    {
     "name": "stderr",
     "output_type": "stream",
     "text": [
      "Error with CBS.N^E00: No data available for the requested date range\n",
      "CBS.N^E00: No data available for the requested date range | \n"
     ]
    },
    {
     "name": "stdout",
     "output_type": "stream",
     "text": [
      "230 :  SHN.N^G00\n"
     ]
    },
    {
     "name": "stderr",
     "output_type": "stream",
     "text": [
      "Error with SHN.N^G00: No data available for the requested date range\n",
      "SHN.N^G00: No data available for the requested date range | \n"
     ]
    },
    {
     "name": "stdout",
     "output_type": "stream",
     "text": [
      "231 :  WFC.N\n",
      "232 :  RSH.N^B15\n",
      "233 :  TDM.N^I97\n"
     ]
    },
    {
     "name": "stderr",
     "output_type": "stream",
     "text": [
      "Error with TDM.N^I97: No data available for the requested date range\n",
      "TDM.N^I97: No data available for the requested date range | \n",
      "Error with TDM.N^I97: No data available for the requested date range\n",
      "TDM.N^I97: No data available for the requested date range | \n"
     ]
    },
    {
     "name": "stdout",
     "output_type": "stream",
     "text": [
      "234 :  GP.N^L05\n"
     ]
    },
    {
     "name": "stderr",
     "output_type": "stream",
     "text": [
      "Error with GP.N^L05: No data available for the requested date range\n",
      "GP.N^L05: No data available for the requested date range | \n"
     ]
    },
    {
     "name": "stdout",
     "output_type": "stream",
     "text": [
      "235 :  MMM.N\n",
      "236 :  WB.N^H01\n"
     ]
    },
    {
     "name": "stderr",
     "output_type": "stream",
     "text": [
      "Error with WB.N^H01: No data available for the requested date range\n",
      "WB.N^H01: No data available for the requested date range | \n"
     ]
    },
    {
     "name": "stdout",
     "output_type": "stream",
     "text": [
      "237 :  CNG.N^A00\n"
     ]
    },
    {
     "name": "stderr",
     "output_type": "stream",
     "text": [
      "Error with CNG.N^A00: No data available for the requested date range\n",
      "CNG.N^A00: No data available for the requested date range | \n"
     ]
    },
    {
     "name": "stdout",
     "output_type": "stream",
     "text": [
      "238 :  XOM.N\n",
      "239 :  PCH.OQ\n",
      "240 :  LUB.N\n",
      "241 :  LOW.N\n",
      "242 :  LOR.N^D96\n"
     ]
    },
    {
     "name": "stderr",
     "output_type": "stream",
     "text": [
      "Error with LOR.N^D96: No data available for the requested date range\n",
      "LOR.N^D96: No data available for the requested date range | \n",
      "Error with LOR.N^D96: No data available for the requested date range\n",
      "LOR.N^D96: No data available for the requested date range | \n"
     ]
    },
    {
     "name": "stdout",
     "output_type": "stream",
     "text": [
      "243 :  UNP.N\n",
      "244 :  FG.N^D98\n"
     ]
    },
    {
     "name": "stderr",
     "output_type": "stream",
     "text": [
      "Error with FG.N^D98: No data available for the requested date range\n",
      "FG.N^D98: No data available for the requested date range | \n",
      "Error with FG.N^D98: No data available for the requested date range\n",
      "FG.N^D98: No data available for the requested date range | \n"
     ]
    },
    {
     "name": "stdout",
     "output_type": "stream",
     "text": [
      "245 :  MRO.N\n",
      "246 :  TXN.OQ\n",
      "247 :  TX.N^J01\n"
     ]
    },
    {
     "name": "stderr",
     "output_type": "stream",
     "text": [
      "Error with TX.N^J01: No data available for the requested date range\n",
      "TX.N^J01: No data available for the requested date range | \n"
     ]
    },
    {
     "name": "stdout",
     "output_type": "stream",
     "text": [
      "248 :  TEN.N\n",
      "249 :  SUN.N^J12\n",
      "250 :  PEG.N\n",
      "251 :  PEP.OQ\n",
      "252 :  PZE.N^H99\n"
     ]
    },
    {
     "name": "stderr",
     "output_type": "stream",
     "text": [
      "Error with PZE.N^H99: No data available for the requested date range\n",
      "PZE.N^H99: No data available for the requested date range | \n"
     ]
    },
    {
     "name": "stdout",
     "output_type": "stream",
     "text": [
      "253 :  NYN.N^H97\n"
     ]
    },
    {
     "name": "stderr",
     "output_type": "stream",
     "text": [
      "Error with NYN.N^H97: No data available for the requested date range\n",
      "NYN.N^H97: No data available for the requested date range | \n",
      "Error with NYN.N^H97: No data available for the requested date range\n",
      "NYN.N^H97: No data available for the requested date range | \n"
     ]
    },
    {
     "name": "stdout",
     "output_type": "stream",
     "text": [
      "254 :  MXS.N^F95\n"
     ]
    },
    {
     "name": "stderr",
     "output_type": "stream",
     "text": [
      "Error with MXS.N^F95: No data available for the requested date range\n",
      "MXS.N^F95: No data available for the requested date range | \n",
      "Error with MXS.N^F95: No data available for the requested date range\n",
      "MXS.N^F95: No data available for the requested date range | \n"
     ]
    },
    {
     "name": "stdout",
     "output_type": "stream",
     "text": [
      "255 :  UIS.N\n",
      "256 :  INTC.OQ\n",
      "257 :  HPC.N^K08\n"
     ]
    },
    {
     "name": "stderr",
     "output_type": "stream",
     "text": [
      "Error with HPC.N^K08: No data available for the requested date range\n",
      "HPC.N^K08: No data available for the requested date range | \n"
     ]
    },
    {
     "name": "stdout",
     "output_type": "stream",
     "text": [
      "258 :  GRA.N\n",
      "259 :  GT.OQ\n",
      "260 :  GE.N\n",
      "261 :  EK.N^A12\n",
      "262 :  CPB.N\n",
      "263 :  BA.N\n",
      "264 :  BDK.N^C10\n",
      "265 :  BHMSQ.OB^A04\n"
     ]
    },
    {
     "name": "stderr",
     "output_type": "stream",
     "text": [
      "Error with BHMSQ.OB^A04: No data available for the requested date range\n",
      "BHMSQ.OB^A04: No data available for the requested date range | \n"
     ]
    },
    {
     "name": "stdout",
     "output_type": "stream",
     "text": [
      "266 :  NOC.N\n",
      "267 :  NSC.N\n",
      "268 :  HSY.N\n",
      "269 :  SMI.N^I01\n"
     ]
    },
    {
     "name": "stderr",
     "output_type": "stream",
     "text": [
      "Error with SMI.N^I01: No data available for the requested date range\n",
      "SMI.N^I01: No data available for the requested date range | \n"
     ]
    },
    {
     "name": "stdout",
     "output_type": "stream",
     "text": [
      "270 :  EMR.N\n",
      "271 :  FL.N\n",
      "272 :  SRR.N^H07\n"
     ]
    },
    {
     "name": "stderr",
     "output_type": "stream",
     "text": [
      "Error with SRR.N^H07: No data available for the requested date range\n",
      "SRR.N^H07: No data available for the requested date range | \n"
     ]
    },
    {
     "name": "stdout",
     "output_type": "stream",
     "text": [
      "273 :  BEAM.N^E14\n",
      "274 :  AZA.N^F01\n"
     ]
    },
    {
     "name": "stderr",
     "output_type": "stream",
     "text": [
      "Error with AZA.N^F01: No data available for the requested date range\n",
      "AZA.N^F01: No data available for the requested date range | \n"
     ]
    },
    {
     "name": "stdout",
     "output_type": "stream",
     "text": [
      "275 :  USS.N^J98\n"
     ]
    },
    {
     "name": "stderr",
     "output_type": "stream",
     "text": [
      "Error with USS.N^J98: No data available for the requested date range\n",
      "USS.N^J98: No data available for the requested date range | \n",
      "Error with USS.N^J98: No data available for the requested date range\n",
      "USS.N^J98: No data available for the requested date range | \n"
     ]
    },
    {
     "name": "stdout",
     "output_type": "stream",
     "text": [
      "276 :  USHC.O^G96\n"
     ]
    },
    {
     "name": "stderr",
     "output_type": "stream",
     "text": [
      "Error with USHC.O^G96: No data available for the requested date range\n",
      "USHC.O^G96: No data available for the requested date range | \n",
      "Error with USHC.O^G96: No data available for the requested date range\n",
      "USHC.O^G96: No data available for the requested date range | \n"
     ]
    },
    {
     "name": "stdout",
     "output_type": "stream",
     "text": [
      "277 :  AT.N^K07\n"
     ]
    },
    {
     "name": "stderr",
     "output_type": "stream",
     "text": [
      "Error with AT.N^K07: No data available for the requested date range\n",
      "AT.N^K07: No data available for the requested date range | \n"
     ]
    },
    {
     "name": "stdout",
     "output_type": "stream",
     "text": [
      "278 :  U.N^H02\n"
     ]
    },
    {
     "name": "stderr",
     "output_type": "stream",
     "text": [
      "Error with U.N^H02: No data available for the requested date range\n",
      "U.N^H02: No data available for the requested date range | \n"
     ]
    },
    {
     "name": "stdout",
     "output_type": "stream",
     "text": [
      "279 :  AGN.N^C15\n",
      "280 :  IKN.N^K08\n"
     ]
    },
    {
     "name": "stderr",
     "output_type": "stream",
     "text": [
      "Error with IKN.N^K08: No data available for the requested date range\n",
      "IKN.N^K08: No data available for the requested date range | \n"
     ]
    },
    {
     "name": "stdout",
     "output_type": "stream",
     "text": [
      "281 :  ABS.N^F06\n"
     ]
    },
    {
     "name": "stderr",
     "output_type": "stream",
     "text": [
      "Error with ABS.N^F06: No data available for the requested date range\n",
      "ABS.N^F06: No data available for the requested date range | \n"
     ]
    },
    {
     "name": "stdout",
     "output_type": "stream",
     "text": [
      "282 :  ACV.N^K06\n"
     ]
    },
    {
     "name": "stderr",
     "output_type": "stream",
     "text": [
      "Error with ACV.N^K06: No data available for the requested date range\n",
      "ACV.N^K06: No data available for the requested date range | \n"
     ]
    },
    {
     "name": "stdout",
     "output_type": "stream",
     "text": [
      "283 :  UK.N^B01\n"
     ]
    },
    {
     "name": "stderr",
     "output_type": "stream",
     "text": [
      "Error with UK.N^B01: No data available for the requested date range\n",
      "UK.N^B01: No data available for the requested date range | \n"
     ]
    },
    {
     "name": "stdout",
     "output_type": "stream",
     "text": [
      "284 :  AHM.N^J98\n"
     ]
    },
    {
     "name": "stderr",
     "output_type": "stream",
     "text": [
      "Error with AHM.N^J98: No data available for the requested date range\n",
      "AHM.N^J98: No data available for the requested date range | \n",
      "Error with AHM.N^J98: No data available for the requested date range\n",
      "AHM.N^J98: No data available for the requested date range | \n"
     ]
    },
    {
     "name": "stdout",
     "output_type": "stream",
     "text": [
      "285 :  XRX.N\n",
      "286 :  TRB.N^L07\n"
     ]
    },
    {
     "name": "stderr",
     "output_type": "stream",
     "text": [
      "Error with TRB.N^L07: No data available for the requested date range\n",
      "TRB.N^L07: No data available for the requested date range | \n"
     ]
    },
    {
     "name": "stdout",
     "output_type": "stream",
     "text": [
      "287 :  TMK.N\n",
      "288 :  TKR.N\n",
      "289 :  TNB.N^E12\n",
      "290 :  TXT.N\n",
      "291 :  TXU.N^J07\n"
     ]
    },
    {
     "name": "stderr",
     "output_type": "stream",
     "text": [
      "Error with TXU.N^J07: No data available for the requested date range\n",
      "TXU.N^J07: No data available for the requested date range | \n"
     ]
    },
    {
     "name": "stdout",
     "output_type": "stream",
     "text": [
      "292 :  TIN.N^B12\n",
      "293 :  TDY.N^H96\n"
     ]
    },
    {
     "name": "stderr",
     "output_type": "stream",
     "text": [
      "Error with TDY.N^H96: No data available for the requested date range\n",
      "TDY.N^H96: No data available for the requested date range | \n",
      "Error with TDY.N^H96: No data available for the requested date range\n",
      "TDY.N^H96: No data available for the requested date range | \n"
     ]
    },
    {
     "name": "stdout",
     "output_type": "stream",
     "text": [
      "294 :  TEK.N^K07\n"
     ]
    },
    {
     "name": "stderr",
     "output_type": "stream",
     "text": [
      "Error with TEK.N^K07: No data available for the requested date range\n",
      "TEK.N^K07: No data available for the requested date range | \n"
     ]
    },
    {
     "name": "stdout",
     "output_type": "stream",
     "text": [
      "295 :  TRW.N^L02\n"
     ]
    },
    {
     "name": "stderr",
     "output_type": "stream",
     "text": [
      "Error with TRW.N^L02: No data available for the requested date range\n",
      "TRW.N^L02: No data available for the requested date range | \n"
     ]
    },
    {
     "name": "stdout",
     "output_type": "stream",
     "text": [
      "296 :  SYY.N\n",
      "297 :  STI.N\n",
      "298 :  JAVA.OQ^B10\n",
      "299 :  TOY.N^G05\n"
     ]
    },
    {
     "name": "stderr",
     "output_type": "stream",
     "text": [
      "Error with TOY.N^G05: No data available for the requested date range\n",
      "TOY.N^G05: No data available for the requested date range | \n"
     ]
    },
    {
     "name": "stdout",
     "output_type": "stream",
     "text": [
      "300 :  AXP.N\n",
      "301 :  HPQ.N\n",
      "302 :  PKI.N\n",
      "303 :  CHRS.OQ^F12\n",
      "304 :  CHA.N^F00\n"
     ]
    },
    {
     "name": "stderr",
     "output_type": "stream",
     "text": [
      "Error with CHA.N^F00: No data available for the requested date range\n",
      "CHA.N^F00: No data available for the requested date range | \n"
     ]
    },
    {
     "name": "stdout",
     "output_type": "stream",
     "text": [
      "305 :  CSR.N^F00\n"
     ]
    },
    {
     "name": "stderr",
     "output_type": "stream",
     "text": [
      "Error with CSR.N^F00: No data available for the requested date range\n",
      "CSR.N^F00: No data available for the requested date range | \n"
     ]
    },
    {
     "name": "stdout",
     "output_type": "stream",
     "text": [
      "306 :  CTX.N^H09\n",
      "307 :  CCB.N^B96\n"
     ]
    },
    {
     "name": "stderr",
     "output_type": "stream",
     "text": [
      "Error with CCB.N^B96: No data available for the requested date range\n",
      "CCB.N^B96: No data available for the requested date range | \n",
      "Error with CCB.N^B96: No data available for the requested date range\n",
      "CCB.N^B96: No data available for the requested date range | \n"
     ]
    },
    {
     "name": "stdout",
     "output_type": "stream",
     "text": [
      "308 :  CI.N\n",
      "309 :  BR.N^D06\n"
     ]
    },
    {
     "name": "stderr",
     "output_type": "stream",
     "text": [
      "Error with BR.N^D06: No data available for the requested date range\n",
      "BR.N^D06: No data available for the requested date range | \n"
     ]
    },
    {
     "name": "stdout",
     "output_type": "stream",
     "text": [
      "310 :  BNI.N^B10\n",
      "311 :  BFb.N\n",
      "312 :  BMY.N\n",
      "313 :  BGG.N\n",
      "314 :  OMX.N^K13\n",
      "315 :  JPM.N\n",
      "316 :  BEV.N^L97\n"
     ]
    },
    {
     "name": "stderr",
     "output_type": "stream",
     "text": [
      "Error with BEV.N^L97: No data available for the requested date range\n",
      "BEV.N^L97: No data available for the requested date range | \n",
      "Error with BEV.N^L97: No data available for the requested date range\n",
      "BEV.N^L97: No data available for the requested date range | \n"
     ]
    },
    {
     "name": "stdout",
     "output_type": "stream",
     "text": [
      "317 :  BLS.N^A07\n"
     ]
    },
    {
     "name": "stderr",
     "output_type": "stream",
     "text": [
      "Error with BLS.N^A07: No data available for the requested date range\n",
      "BLS.N^A07: No data available for the requested date range | \n"
     ]
    },
    {
     "name": "stdout",
     "output_type": "stream",
     "text": [
      "318 :  BDX.N\n",
      "319 :  BOL.N^J07\n"
     ]
    },
    {
     "name": "stderr",
     "output_type": "stream",
     "text": [
      "Error with BOL.N^J07: No data available for the requested date range\n",
      "BOL.N^J07: No data available for the requested date range | \n"
     ]
    },
    {
     "name": "stdout",
     "output_type": "stream",
     "text": [
      "320 :  BSET.OQ\n",
      "321 :  BBI.N^A98\n"
     ]
    },
    {
     "name": "stderr",
     "output_type": "stream",
     "text": [
      "Error with BBI.N^A98: No data available for the requested date range\n",
      "BBI.N^A98: No data available for the requested date range | \n",
      "Error with BBI.N^A98: No data available for the requested date range\n",
      "BBI.N^A98: No data available for the requested date range | \n"
     ]
    },
    {
     "name": "stdout",
     "output_type": "stream",
     "text": [
      "322 :  BCR.N^L17\n",
      "323 :  YRCW.OQ\n",
      "324 :  CEG.N^C12\n",
      "325 :  WWY.N^J08\n"
     ]
    },
    {
     "name": "stderr",
     "output_type": "stream",
     "text": [
      "Error with WWY.N^J08: No data available for the requested date range\n",
      "WWY.N^J08: No data available for the requested date range | \n"
     ]
    },
    {
     "name": "stdout",
     "output_type": "stream",
     "text": [
      "326 :  WIN.N^B05\n"
     ]
    },
    {
     "name": "stderr",
     "output_type": "stream",
     "text": [
      "Error with WIN.N^B05: No data available for the requested date range\n",
      "WIN.N^B05: No data available for the requested date range | \n"
     ]
    },
    {
     "name": "stdout",
     "output_type": "stream",
     "text": [
      "327 :  AVP.N\n",
      "328 :  AVY.N\n",
      "329 :  BMS.N\n",
      "330 :  CB.N^A16\n",
      "331 :  MZ.N^E08\n"
     ]
    },
    {
     "name": "stderr",
     "output_type": "stream",
     "text": [
      "Error with MZ.N^E08: No data available for the requested date range\n",
      "MZ.N^E08: No data available for the requested date range | \n"
     ]
    },
    {
     "name": "stdout",
     "output_type": "stream",
     "text": [
      "332 :  CC.N^K08\n"
     ]
    },
    {
     "name": "stderr",
     "output_type": "stream",
     "text": [
      "Error with CC.N^K08: No data available for the requested date range\n",
      "CC.N^K08: No data available for the requested date range | \n"
     ]
    },
    {
     "name": "stdout",
     "output_type": "stream",
     "text": [
      "333 :  JWN.N\n"
     ]
    },
    {
     "name": "stderr",
     "output_type": "stream",
     "text": [
      "Error with JWN.N: No data available for the requested date range\n",
      "JWN.N: No data available for the requested date range | \n"
     ]
    },
    {
     "name": "stdout",
     "output_type": "stream",
     "text": [
      "334 :  GOSHA.OQ^G05\n"
     ]
    },
    {
     "name": "stderr",
     "output_type": "stream",
     "text": [
      "Error with GOSHA.OQ^G05: No data available for the requested date range\n",
      "GOSHA.OQ^G05: No data available for the requested date range | \n"
     ]
    },
    {
     "name": "stdout",
     "output_type": "stream",
     "text": [
      "335 :  E.N^E95\n"
     ]
    },
    {
     "name": "stderr",
     "output_type": "stream",
     "text": [
      "Error with E.N^E95: No data available for the requested date range\n",
      "E.N^E95: No data available for the requested date range | \n",
      "Error with E.N^E95: No data available for the requested date range\n",
      "E.N^E95: No data available for the requested date range | \n"
     ]
    },
    {
     "name": "stdout",
     "output_type": "stream",
     "text": [
      "336 :  GPC.N\n",
      "337 :  MMC.N\n",
      "338 :  NUE.N\n",
      "339 :  DLX.N\n",
      "340 :  GLD.N^E97\n"
     ]
    },
    {
     "name": "stderr",
     "output_type": "stream",
     "text": [
      "Error with GLD.N^E97: No data available for the requested date range\n",
      "GLD.N^E97: No data available for the requested date range | \n",
      "Error with GLD.N^E97: No data available for the requested date range\n",
      "GLD.N^E97: No data available for the requested date range | \n"
     ]
    },
    {
     "name": "stdout",
     "output_type": "stream",
     "text": [
      "341 :  TGT.N\n",
      "342 :  DIGI.O^I98\n"
     ]
    },
    {
     "name": "stderr",
     "output_type": "stream",
     "text": [
      "Error with DIGI.O^I98: No data available for the requested date range\n",
      "DIGI.O^I98: No data available for the requested date range | \n",
      "Error with DIGI.O^I98: No data available for the requested date range\n",
      "DIGI.O^I98: No data available for the requested date range | \n"
     ]
    },
    {
     "name": "stdout",
     "output_type": "stream",
     "text": [
      "343 :  CYM.N^L99\n"
     ]
    },
    {
     "name": "stderr",
     "output_type": "stream",
     "text": [
      "Error with CYM.N^L99: No data available for the requested date range\n",
      "CYM.N^L99: No data available for the requested date range | \n"
     ]
    },
    {
     "name": "stdout",
     "output_type": "stream",
     "text": [
      "344 :  CMI.N\n",
      "345 :  TAP.N\n"
     ]
    },
    {
     "name": "stderr",
     "output_type": "stream",
     "text": [
      "Error with TAP.N: No data available for the requested date range\n",
      "TAP.N: No data available for the requested date range | \n"
     ]
    },
    {
     "name": "stdout",
     "output_type": "stream",
     "text": [
      "346 :  CTB.N\n",
      "347 :  CBE.N^L12\n",
      "348 :  CEN.N^K07\n"
     ]
    },
    {
     "name": "stderr",
     "output_type": "stream",
     "text": [
      "Error with CEN.N^K07: No data available for the requested date range\n",
      "CEN.N^K07: No data available for the requested date range | \n"
     ]
    },
    {
     "name": "stdout",
     "output_type": "stream",
     "text": [
      "349 :  CIC.N^E95\n"
     ]
    },
    {
     "name": "stderr",
     "output_type": "stream",
     "text": [
      "Error with CIC.N^E95: No data available for the requested date range\n",
      "CIC.N^E95: No data available for the requested date range | \n",
      "Error with CIC.N^E95: No data available for the requested date range\n",
      "CIC.N^E95: No data available for the requested date range | \n"
     ]
    },
    {
     "name": "stdout",
     "output_type": "stream",
     "text": [
      "350 :  CRR.N^F97\n"
     ]
    },
    {
     "name": "stderr",
     "output_type": "stream",
     "text": [
      "Error with CRR.N^F97: No data available for the requested date range\n",
      "CRR.N^F97: No data available for the requested date range | \n",
      "Error with CRR.N^F97: No data available for the requested date range\n",
      "CRR.N^F97: No data available for the requested date range | \n"
     ]
    },
    {
     "name": "stdout",
     "output_type": "stream",
     "text": [
      "351 :  CNW.N^J15\n",
      "352 :  ED.N\n",
      "353 :  CAG.N\n",
      "354 :  CA.OQ^K18\n",
      "355 :  CMCSK.OQ^L15\n",
      "356 :  HCA.N^K06\n"
     ]
    },
    {
     "name": "stderr",
     "output_type": "stream",
     "text": [
      "Error with HCA.N^K06: No data available for the requested date range\n",
      "HCA.N^K06: No data available for the requested date range | \n"
     ]
    },
    {
     "name": "stdout",
     "output_type": "stream",
     "text": [
      "357 :  CG.N^K00\n"
     ]
    },
    {
     "name": "stderr",
     "output_type": "stream",
     "text": [
      "Error with CG.N^K00: No data available for the requested date range\n",
      "CG.N^K00: No data available for the requested date range | \n"
     ]
    },
    {
     "name": "stdout",
     "output_type": "stream",
     "text": [
      "358 :  CLX.N\n",
      "359 :  CKL.N^E95\n"
     ]
    },
    {
     "name": "stderr",
     "output_type": "stream",
     "text": [
      "Error with CKL.N^E95: No data available for the requested date range\n",
      "CKL.N^E95: No data available for the requested date range | \n",
      "Error with CKL.N^E95: No data available for the requested date range\n",
      "CKL.N^E95: No data available for the requested date range | \n"
     ]
    },
    {
     "name": "stdout",
     "output_type": "stream",
     "text": [
      "360 :  AEP.N\n",
      "361 :  WYE.N^J09\n",
      "362 :  AMP.N^D99\n"
     ]
    },
    {
     "name": "stderr",
     "output_type": "stream",
     "text": [
      "Error with AMP.N^D99: No data available for the requested date range\n",
      "AMP.N^D99: No data available for the requested date range | \n"
     ]
    },
    {
     "name": "stdout",
     "output_type": "stream",
     "text": [
      "363 :  AN.N^L98\n"
     ]
    },
    {
     "name": "stderr",
     "output_type": "stream",
     "text": [
      "Error with AN.N^L98: No data available for the requested date range\n",
      "AN.N^L98: No data available for the requested date range | \n",
      "Error with AN.N^L98: No data available for the requested date range\n",
      "AN.N^L98: No data available for the requested date range | \n"
     ]
    },
    {
     "name": "stdout",
     "output_type": "stream",
     "text": [
      "364 :  GIS.N\n",
      "365 :  H.N^G01\n"
     ]
    },
    {
     "name": "stderr",
     "output_type": "stream",
     "text": [
      "Error with H.N^G01: No data available for the requested date range\n",
      "H.N^G01: No data available for the requested date range | \n"
     ]
    },
    {
     "name": "stdout",
     "output_type": "stream",
     "text": [
      "366 :  FLM.N^D03\n"
     ]
    },
    {
     "name": "stderr",
     "output_type": "stream",
     "text": [
      "Error with FLM.N^D03: No data available for the requested date range\n",
      "FLM.N^D03: No data available for the requested date range | \n"
     ]
    },
    {
     "name": "stdout",
     "output_type": "stream",
     "text": [
      "367 :  FLE.N^A09\n",
      "368 :  WB.N^A09\n"
     ]
    },
    {
     "name": "stderr",
     "output_type": "stream",
     "text": [
      "Error with WB.N^A09: No data available for the requested date range\n",
      "WB.N^A09: No data available for the requested date range | \n"
     ]
    },
    {
     "name": "stdout",
     "output_type": "stream",
     "text": [
      "369 :  FRM.N^L96\n"
     ]
    },
    {
     "name": "stderr",
     "output_type": "stream",
     "text": [
      "Error with FRM.N^L96: No data available for the requested date range\n",
      "FRM.N^L96: No data available for the requested date range | \n",
      "Error with FRM.N^L96: No data available for the requested date range\n",
      "FRM.N^L96: No data available for the requested date range | \n"
     ]
    },
    {
     "name": "stdout",
     "output_type": "stream",
     "text": [
      "370 :  FFB.N^A96\n"
     ]
    },
    {
     "name": "stderr",
     "output_type": "stream",
     "text": [
      "Error with FFB.N^A96: No data available for the requested date range\n",
      "FFB.N^A96: No data available for the requested date range | \n",
      "Error with FFB.N^A96: No data available for the requested date range\n",
      "FFB.N^A96: No data available for the requested date range | \n"
     ]
    },
    {
     "name": "stdout",
     "output_type": "stream",
     "text": [
      "371 :  FBO.N^C96\n"
     ]
    },
    {
     "name": "stderr",
     "output_type": "stream",
     "text": [
      "Error with FBO.N^C96: No data available for the requested date range\n",
      "FBO.N^C96: No data available for the requested date range | \n",
      "Error with FBO.N^C96: No data available for the requested date range\n",
      "FBO.N^C96: No data available for the requested date range | \n"
     ]
    },
    {
     "name": "stdout",
     "output_type": "stream",
     "text": [
      "372 :  SB.N^K97\n"
     ]
    },
    {
     "name": "stderr",
     "output_type": "stream",
     "text": [
      "Error with SB.N^K97: No data available for the requested date range\n",
      "SB.N^K97: No data available for the requested date range | \n",
      "Error with SB.N^K97: No data available for the requested date range\n",
      "SB.N^K97: No data available for the requested date range | \n"
     ]
    },
    {
     "name": "stdout",
     "output_type": "stream",
     "text": [
      "373 :  ENS.N^H97\n"
     ]
    },
    {
     "name": "stderr",
     "output_type": "stream",
     "text": [
      "Error with ENS.N^H97: No data available for the requested date range\n",
      "ENS.N^H97: No data available for the requested date range | \n",
      "Error with ENS.N^H97: No data available for the requested date range\n",
      "ENS.N^H97: No data available for the requested date range | \n"
     ]
    },
    {
     "name": "stdout",
     "output_type": "stream",
     "text": [
      "374 :  ENE.N^A02\n"
     ]
    },
    {
     "name": "stderr",
     "output_type": "stream",
     "text": [
      "Error with ENE.N^A02: No data available for the requested date range\n",
      "ENE.N^A02: No data available for the requested date range | \n",
      "Error with ENE.N^A02: No data available for the requested date range\n",
      "ENE.N^A02: No data available for the requested date range | \n",
      "Error with ENE.N^A02: No data available for the requested date range\n",
      "ENE.N^A02: No data available for the requested date range | \n"
     ]
    },
    {
     "name": "stdout",
     "output_type": "stream",
     "text": [
      "375 :  EFU.N^K00\n"
     ]
    },
    {
     "name": "stderr",
     "output_type": "stream",
     "text": [
      "Error with EFU.N^K00: No data available for the requested date range\n",
      "EFU.N^K00: No data available for the requested date range | \n"
     ]
    },
    {
     "name": "stdout",
     "output_type": "stream",
     "text": [
      "376 :  GFSa.A^K98\n"
     ]
    },
    {
     "name": "stderr",
     "output_type": "stream",
     "text": [
      "Error with GFSa.A^K98: No data available for the requested date range\n",
      "GFSa.A^K98: No data available for the requested date range | \n",
      "Error with GFSa.A^K98: No data available for the requested date range\n",
      "GFSa.A^K98: No data available for the requested date range | \n"
     ]
    },
    {
     "name": "stdout",
     "output_type": "stream",
     "text": [
      "377 :  ECO.A^B03\n"
     ]
    },
    {
     "name": "stderr",
     "output_type": "stream",
     "text": [
      "Error with ECO.A^B03: No data available for the requested date range\n",
      "ECO.A^B03: No data available for the requested date range | \n"
     ]
    },
    {
     "name": "stdout",
     "output_type": "stream",
     "text": [
      "378 :  DOV.N\n",
      "379 :  D.N\n",
      "380 :  ADM.N\n",
      "381 :  BUD.N^K08\n"
     ]
    },
    {
     "name": "stderr",
     "output_type": "stream",
     "text": [
      "Error with BUD.N^K08: No data available for the requested date range\n",
      "BUD.N^K08: No data available for the requested date range | \n"
     ]
    },
    {
     "name": "stdout",
     "output_type": "stream",
     "text": [
      "382 :  LUV.N\n",
      "383 :  SNT.N^J99\n"
     ]
    },
    {
     "name": "stderr",
     "output_type": "stream",
     "text": [
      "Error with SNT.N^J99: No data available for the requested date range\n",
      "SNT.N^J99: No data available for the requested date range | \n"
     ]
    },
    {
     "name": "stdout",
     "output_type": "stream",
     "text": [
      "384 :  SKY.N\n",
      "385 :  SIAL.OQ^K15\n",
      "386 :  SNC.N^K95\n"
     ]
    },
    {
     "name": "stderr",
     "output_type": "stream",
     "text": [
      "Error with SNC.N^K95: No data available for the requested date range\n",
      "SNC.N^K95: No data available for the requested date range | \n",
      "Error with SNC.N^K95: No data available for the requested date range\n",
      "SNC.N^K95: No data available for the requested date range | \n"
     ]
    },
    {
     "name": "stdout",
     "output_type": "stream",
     "text": [
      "387 :  SPP.N^L95\n"
     ]
    },
    {
     "name": "stderr",
     "output_type": "stream",
     "text": [
      "Error with SPP.N^L95: No data available for the requested date range\n",
      "SPP.N^L95: No data available for the requested date range | \n",
      "Error with SPP.N^L95: No data available for the requested date range\n",
      "SPP.N^L95: No data available for the requested date range | \n"
     ]
    },
    {
     "name": "stdout",
     "output_type": "stream",
     "text": [
      "388 :  SFA.N^B06\n"
     ]
    },
    {
     "name": "stderr",
     "output_type": "stream",
     "text": [
      "Error with SFA.N^B06: No data available for the requested date range\n",
      "SFA.N^B06: No data available for the requested date range | \n"
     ]
    },
    {
     "name": "stdout",
     "output_type": "stream",
     "text": [
      "389 :  MRK.N\n",
      "390 :  DUK.N\n",
      "391 :  GDW.N^J06\n"
     ]
    },
    {
     "name": "stderr",
     "output_type": "stream",
     "text": [
      "Error with GDW.N^J06: No data available for the requested date range\n",
      "GDW.N^J06: No data available for the requested date range | \n"
     ]
    },
    {
     "name": "stdout",
     "output_type": "stream",
     "text": [
      "392 :  GAP.N^L10\n",
      "393 :  GLK.N^G05\n"
     ]
    },
    {
     "name": "stderr",
     "output_type": "stream",
     "text": [
      "Error with GLK.N^G05: No data available for the requested date range\n",
      "GLK.N^G05: No data available for the requested date range | \n"
     ]
    },
    {
     "name": "stdout",
     "output_type": "stream",
     "text": [
      "394 :  LDG.N^J08\n"
     ]
    },
    {
     "name": "stderr",
     "output_type": "stream",
     "text": [
      "Error with LDG.N^J08: No data available for the requested date range\n",
      "LDG.N^J08: No data available for the requested date range | \n"
     ]
    },
    {
     "name": "stdout",
     "output_type": "stream",
     "text": [
      "395 :  KATE.N^G17\n",
      "396 :  LB.N\n",
      "397 :  KR.N\n",
      "398 :  KMB.N\n",
      "399 :  K.N\n",
      "400 :  KM.N^L02\n"
     ]
    },
    {
     "name": "stderr",
     "output_type": "stream",
     "text": [
      "Error with KM.N^L02: No data available for the requested date range\n",
      "KM.N^L02: No data available for the requested date range | \n"
     ]
    },
    {
     "name": "stdout",
     "output_type": "stream",
     "text": [
      "401 :  JOS.N^E00\n"
     ]
    },
    {
     "name": "stderr",
     "output_type": "stream",
     "text": [
      "Error with JOS.N^E00: No data available for the requested date range\n",
      "JOS.N^E00: No data available for the requested date range | \n"
     ]
    },
    {
     "name": "stdout",
     "output_type": "stream",
     "text": [
      "402 :  JNJ.N\n",
      "403 :  JP.N^D06\n"
     ]
    },
    {
     "name": "stderr",
     "output_type": "stream",
     "text": [
      "Error with JP.N^D06: No data available for the requested date range\n",
      "JP.N^D06: No data available for the requested date range | \n"
     ]
    },
    {
     "name": "stdout",
     "output_type": "stream",
     "text": [
      "404 :  FJ.N^K00\n"
     ]
    },
    {
     "name": "stderr",
     "output_type": "stream",
     "text": [
      "Error with FJ.N^K00: No data available for the requested date range\n",
      "FJ.N^K00: No data available for the requested date range | \n"
     ]
    },
    {
     "name": "stdout",
     "output_type": "stream",
     "text": [
      "405 :  INGR.OQ^L06\n"
     ]
    },
    {
     "name": "stderr",
     "output_type": "stream",
     "text": [
      "Error with INGR.OQ^L06: No data available for the requested date range\n",
      "INGR.OQ^L06: No data available for the requested date range | \n"
     ]
    },
    {
     "name": "stdout",
     "output_type": "stream",
     "text": [
      "406 :  RYI.N^J07\n"
     ]
    },
    {
     "name": "stderr",
     "output_type": "stream",
     "text": [
      "Error with RYI.N^J07: No data available for the requested date range\n",
      "RYI.N^J07: No data available for the requested date range | \n"
     ]
    },
    {
     "name": "stdout",
     "output_type": "stream",
     "text": [
      "407 :  IR.N\n",
      "408 :  MKG.N^J00\n"
     ]
    },
    {
     "name": "stderr",
     "output_type": "stream",
     "text": [
      "Error with MKG.N^J00: No data available for the requested date range\n",
      "MKG.N^J00: No data available for the requested date range | \n"
     ]
    },
    {
     "name": "stdout",
     "output_type": "stream",
     "text": [
      "409 :  ITW.N\n",
      "410 :  CNP.N\n",
      "411 :  HM.N^L01\n"
     ]
    },
    {
     "name": "stderr",
     "output_type": "stream",
     "text": [
      "Error with HM.N^L01: No data available for the requested date range\n",
      "HM.N^L01: No data available for the requested date range | \n"
     ]
    },
    {
     "name": "stdout",
     "output_type": "stream",
     "text": [
      "412 :  HD.N\n",
      "413 :  HNZ.N^F13\n",
      "414 :  HAS.OQ\n",
      "415 :  HMX.N^K08\n"
     ]
    },
    {
     "name": "stderr",
     "output_type": "stream",
     "text": [
      "Error with HMX.N^K08: No data available for the requested date range\n",
      "HMX.N^K08: No data available for the requested date range | \n"
     ]
    },
    {
     "name": "stdout",
     "output_type": "stream",
     "text": [
      "416 :  HRS.N\n",
      "417 :  JH.N^E07\n"
     ]
    },
    {
     "name": "stderr",
     "output_type": "stream",
     "text": [
      "Error with JH.N^E07: No data available for the requested date range\n",
      "JH.N^E07: No data available for the requested date range | \n"
     ]
    },
    {
     "name": "stdout",
     "output_type": "stream",
     "text": [
      "418 :  HDL.N^C08\n"
     ]
    },
    {
     "name": "stderr",
     "output_type": "stream",
     "text": [
      "Error with HDL.N^C08: No data available for the requested date range\n",
      "HDL.N^C08: No data available for the requested date range | \n"
     ]
    },
    {
     "name": "stdout",
     "output_type": "stream",
     "text": [
      "419 :  PG.N\n",
      "420 :  GWF.N^G97\n"
     ]
    },
    {
     "name": "stderr",
     "output_type": "stream",
     "text": [
      "Error with GWF.N^G97: No data available for the requested date range\n",
      "GWF.N^G97: No data available for the requested date range | \n",
      "Error with GWF.N^G97: No data available for the requested date range\n",
      "GWF.N^G97: No data available for the requested date range | \n"
     ]
    },
    {
     "name": "stdout",
     "output_type": "stream",
     "text": [
      "421 :  HSH.N^H14\n",
      "422 :  LLY.N\n",
      "423 :  SFX.N^I95\n"
     ]
    },
    {
     "name": "stderr",
     "output_type": "stream",
     "text": [
      "Error with SFX.N^I95: No data available for the requested date range\n",
      "SFX.N^I95: No data available for the requested date range | \n",
      "Error with SFX.N^I95: No data available for the requested date range\n",
      "SFX.N^I95: No data available for the requested date range | \n"
     ]
    },
    {
     "name": "stdout",
     "output_type": "stream",
     "text": [
      "424 :  SK.N^E98\n"
     ]
    },
    {
     "name": "stderr",
     "output_type": "stream",
     "text": [
      "Error with SK.N^E98: No data available for the requested date range\n",
      "SK.N^E98: No data available for the requested date range | \n",
      "Error with SK.N^E98: No data available for the requested date range\n",
      "SK.N^E98: No data available for the requested date range | \n"
     ]
    },
    {
     "name": "stdout",
     "output_type": "stream",
     "text": [
      "425 :  OWC.N^L02\n"
     ]
    },
    {
     "name": "stderr",
     "output_type": "stream",
     "text": [
      "Error with OWC.N^L02: No data available for the requested date range\n",
      "OWC.N^L02: No data available for the requested date range | \n"
     ]
    },
    {
     "name": "stdout",
     "output_type": "stream",
     "text": [
      "426 :  OM.N^I97\n"
     ]
    },
    {
     "name": "stderr",
     "output_type": "stream",
     "text": [
      "Error with OM.N^I97: No data available for the requested date range\n",
      "OM.N^I97: No data available for the requested date range | \n",
      "Error with OM.N^I97: No data available for the requested date range\n",
      "OM.N^I97: No data available for the requested date range | \n"
     ]
    },
    {
     "name": "stdout",
     "output_type": "stream",
     "text": [
      "427 :  ORX.N^B99\n"
     ]
    },
    {
     "name": "stderr",
     "output_type": "stream",
     "text": [
      "Error with ORX.N^B99: No data available for the requested date range\n",
      "ORX.N^B99: No data available for the requested date range | \n"
     ]
    },
    {
     "name": "stdout",
     "output_type": "stream",
     "text": [
      "428 :  ORCL.N\n",
      "429 :  OKE.N\n",
      "430 :  OEC.N^K97\n"
     ]
    },
    {
     "name": "stderr",
     "output_type": "stream",
     "text": [
      "Error with OEC.N^K97: No data available for the requested date range\n",
      "OEC.N^K97: No data available for the requested date range | \n",
      "Error with OEC.N^K97: No data available for the requested date range\n",
      "OEC.N^K97: No data available for the requested date range | \n"
     ]
    },
    {
     "name": "stdout",
     "output_type": "stream",
     "text": [
      "431 :  OG.N^C01\n"
     ]
    },
    {
     "name": "stderr",
     "output_type": "stream",
     "text": [
      "Error with OG.N^C01: No data available for the requested date range\n",
      "OG.N^C01: No data available for the requested date range | \n"
     ]
    },
    {
     "name": "stdout",
     "output_type": "stream",
     "text": [
      "432 :  NOVL.OQ^D11\n",
      "433 :  NKE.N\n",
      "434 :  GAS.N^L11\n",
      "435 :  NEM.N\n",
      "436 :  NWL.OQ\n",
      "437 :  PHM.N\n",
      "438 :  NAV.N^B07\n"
     ]
    },
    {
     "name": "stderr",
     "output_type": "stream",
     "text": [
      "Error with NAV.N^B07: No data available for the requested date range\n",
      "NAV.N^B07: No data available for the requested date range | \n"
     ]
    },
    {
     "name": "stdout",
     "output_type": "stream",
     "text": [
      "439 :  NSM.N^I11\n",
      "440 :  THC.N\n",
      "441 :  NEC.N^F97\n"
     ]
    },
    {
     "name": "stderr",
     "output_type": "stream",
     "text": [
      "Error with NEC.N^F97: No data available for the requested date range\n",
      "NEC.N^F97: No data available for the requested date range | \n",
      "Error with NEC.N^F97: No data available for the requested date range\n",
      "NEC.N^F97: No data available for the requested date range | \n"
     ]
    },
    {
     "name": "stdout",
     "output_type": "stream",
     "text": [
      "442 :  NC.N\n",
      "443 :  MSI.N\n",
      "444 :  WHR.N\n",
      "445 :  ADSK.OQ\n",
      "446 :  WY.N\n",
      "447 :  WFC.N^K98\n"
     ]
    },
    {
     "name": "stderr",
     "output_type": "stream",
     "text": [
      "Error with WFC.N^K98: No data available for the requested date range\n",
      "WFC.N^K98: No data available for the requested date range | \n",
      "Error with WFC.N^K98: No data available for the requested date range\n",
      "WFC.N^K98: No data available for the requested date range | \n"
     ]
    },
    {
     "name": "stdout",
     "output_type": "stream",
     "text": [
      "448 :  WMT.N\n",
      "449 :  AAPL.OQ\n",
      "450 :  ANDW.OQ^A08\n"
     ]
    },
    {
     "name": "stderr",
     "output_type": "stream",
     "text": [
      "Error with ANDW.OQ^A08: No data available for the requested date range\n",
      "ANDW.OQ^A08: No data available for the requested date range | \n"
     ]
    },
    {
     "name": "stdout",
     "output_type": "stream",
     "text": [
      "451 :  NSI.N^H03\n"
     ]
    },
    {
     "name": "stderr",
     "output_type": "stream",
     "text": [
      "Error with NSI.N^H03: No data available for the requested date range\n",
      "NSI.N^H03: No data available for the requested date range | \n"
     ]
    },
    {
     "name": "stdout",
     "output_type": "stream",
     "text": [
      "452 :  PNC.N\n",
      "453 :  PCAR.OQ\n",
      "454 :  PET.N^F98\n"
     ]
    },
    {
     "name": "stderr",
     "output_type": "stream",
     "text": [
      "Error with PET.N^F98: No data available for the requested date range\n",
      "PET.N^F98: No data available for the requested date range | \n",
      "Error with PET.N^F98: No data available for the requested date range\n",
      "PET.N^F98: No data available for the requested date range | \n"
     ]
    },
    {
     "name": "stdout",
     "output_type": "stream",
     "text": [
      "455 :  SAF.N^I08\n"
     ]
    },
    {
     "name": "stderr",
     "output_type": "stream",
     "text": [
      "Error with SAF.N^I08: No data available for the requested date range\n",
      "SAF.N^I08: No data available for the requested date range | \n"
     ]
    },
    {
     "name": "stdout",
     "output_type": "stream",
     "text": [
      "456 :  R.N\n",
      "457 :  RYAN.OQ^K06\n"
     ]
    },
    {
     "name": "stderr",
     "output_type": "stream",
     "text": [
      "Error with RYAN.OQ^K06: No data available for the requested date range\n",
      "RYAN.OQ^K06: No data available for the requested date range | \n"
     ]
    },
    {
     "name": "stdout",
     "output_type": "stream",
     "text": [
      "458 :  RML.N^H06\n"
     ]
    },
    {
     "name": "stderr",
     "output_type": "stream",
     "text": [
      "Error with RML.N^H06: No data available for the requested date range\n",
      "RML.N^H06: No data available for the requested date range | \n"
     ]
    },
    {
     "name": "stdout",
     "output_type": "stream",
     "text": [
      "459 :  SK.N^F00\n"
     ]
    },
    {
     "name": "stderr",
     "output_type": "stream",
     "text": [
      "Error with SK.N^F00: No data available for the requested date range\n",
      "SK.N^F00: No data available for the requested date range | \n"
     ]
    },
    {
     "name": "stdout",
     "output_type": "stream",
     "text": [
      "460 :  ROH.N^D09\n",
      "461 :  RLM.N^E00\n"
     ]
    },
    {
     "name": "stderr",
     "output_type": "stream",
     "text": [
      "Error with RLM.N^E00: No data available for the requested date range\n",
      "RLM.N^E00: No data available for the requested date range | \n"
     ]
    },
    {
     "name": "stdout",
     "output_type": "stream",
     "text": [
      "462 :  RBK.N^B06\n"
     ]
    },
    {
     "name": "stderr",
     "output_type": "stream",
     "text": [
      "Error with RBK.N^B06: No data available for the requested date range\n",
      "RBK.N^B06: No data available for the requested date range | \n"
     ]
    },
    {
     "name": "stdout",
     "output_type": "stream",
     "text": [
      "463 :  RTN.N^L97\n"
     ]
    },
    {
     "name": "stderr",
     "output_type": "stream",
     "text": [
      "Error with RTN.N^L97: Invalid RIC\n",
      "RTN.N^L97: Invalid RIC | \n"
     ]
    },
    {
     "name": "stdout",
     "output_type": "stream",
     "text": [
      "464 :  RYC.N^H99\n"
     ]
    },
    {
     "name": "stderr",
     "output_type": "stream",
     "text": [
      "Error with RYC.N^H99: No data available for the requested date range\n",
      "RYC.N^H99: No data available for the requested date range | \n"
     ]
    },
    {
     "name": "stdout",
     "output_type": "stream",
     "text": [
      "465 :  RAL.N^L01\n"
     ]
    },
    {
     "name": "stderr",
     "output_type": "stream",
     "text": [
      "Error with RAL.N^L01: No data available for the requested date range\n",
      "RAL.N^L01: No data available for the requested date range | \n"
     ]
    },
    {
     "name": "stdout",
     "output_type": "stream",
     "text": [
      "466 :  SLB.N\n",
      "467 :  OAT.N^H01\n"
     ]
    },
    {
     "name": "stderr",
     "output_type": "stream",
     "text": [
      "Error with OAT.N^H01: No data available for the requested date range\n",
      "OAT.N^H01: No data available for the requested date range | \n"
     ]
    },
    {
     "name": "stdout",
     "output_type": "stream",
     "text": [
      "468 :  C.N\n",
      "469 :  PMI.N^K99\n"
     ]
    },
    {
     "name": "stderr",
     "output_type": "stream",
     "text": [
      "Error with PMI.N^K99: No data available for the requested date range\n",
      "PMI.N^K99: No data available for the requested date range | \n"
     ]
    },
    {
     "name": "stdout",
     "output_type": "stream",
     "text": [
      "470 :  F.N\n",
      "471 :  PRD.N^J01\n"
     ]
    },
    {
     "name": "stderr",
     "output_type": "stream",
     "text": [
      "Error with PRD.N^J01: No data available for the requested date range\n",
      "PRD.N^J01: No data available for the requested date range | \n"
     ]
    },
    {
     "name": "stdout",
     "output_type": "stream",
     "text": [
      "472 :  PBI.N\n",
      "473 :  EXC.N\n",
      "474 :  PD.N^C07\n"
     ]
    },
    {
     "name": "stderr",
     "output_type": "stream",
     "text": [
      "Error with PD.N^C07: No data available for the requested date range\n",
      "PD.N^C07: No data available for the requested date range | \n"
     ]
    },
    {
     "name": "stdout",
     "output_type": "stream",
     "text": [
      "475 :  PKN.N^E99\n"
     ]
    },
    {
     "name": "stderr",
     "output_type": "stream",
     "text": [
      "Error with PKN.N^E99: No data available for the requested date range\n",
      "PKN.N^E99: No data available for the requested date range | \n",
      "Error with PKN.N^E99: No data available for the requested date range\n",
      "PKN.N^E99: No data available for the requested date range | \n"
     ]
    },
    {
     "name": "stdout",
     "output_type": "stream",
     "text": [
      "476 :  PGL.N^B07\n"
     ]
    },
    {
     "name": "stderr",
     "output_type": "stream",
     "text": [
      "Error with PGL.N^B07: No data available for the requested date range\n",
      "PGL.N^B07: No data available for the requested date range | \n"
     ]
    },
    {
     "name": "stdout",
     "output_type": "stream",
     "text": [
      "477 :  PH.N\n",
      "478 :  PEL.N^F97\n"
     ]
    },
    {
     "name": "stderr",
     "output_type": "stream",
     "text": [
      "Error with PEL.N^F97: No data available for the requested date range\n",
      "PEL.N^F97: No data available for the requested date range | \n",
      "Error with PEL.N^F97: No data available for the requested date range\n",
      "PEL.N^F97: No data available for the requested date range | \n"
     ]
    },
    {
     "name": "stdout",
     "output_type": "stream",
     "text": [
      "479 :  PLL.N^H15\n",
      "480 :  PAC.N^D97\n"
     ]
    },
    {
     "name": "stderr",
     "output_type": "stream",
     "text": [
      "Error with PAC.N^D97: No data available for the requested date range\n",
      "PAC.N^D97: No data available for the requested date range | \n",
      "Error with PAC.N^D97: No data available for the requested date range\n",
      "PAC.N^D97: No data available for the requested date range | \n"
     ]
    },
    {
     "name": "stdout",
     "output_type": "stream",
     "text": [
      "481 :  PCG.N\n",
      "482 :  STJ.N^A17\n",
      "483 :  SGI.N^K05\n"
     ]
    },
    {
     "name": "stderr",
     "output_type": "stream",
     "text": [
      "Error with SGI.N^K05: No data available for the requested date range\n",
      "SGI.N^K05: No data available for the requested date range | \n"
     ]
    },
    {
     "name": "stdout",
     "output_type": "stream",
     "text": [
      "484 :  GPU.N^K01\n"
     ]
    },
    {
     "name": "stderr",
     "output_type": "stream",
     "text": [
      "Error with GPU.N^K01: No data available for the requested date range\n",
      "GPU.N^K01: No data available for the requested date range | \n"
     ]
    },
    {
     "name": "stdout",
     "output_type": "stream",
     "text": [
      "485 :  BSX.N\n",
      "486 :  LMT.N\n",
      "487 :  AMAT.OQ\n",
      "488 :  BK.N\n",
      "489 :  LDW.N^L00\n"
     ]
    },
    {
     "name": "stderr",
     "output_type": "stream",
     "text": [
      "Error with LDW.N^L00: No data available for the requested date range\n",
      "LDW.N^L00: No data available for the requested date range | \n"
     ]
    },
    {
     "name": "stdout",
     "output_type": "stream",
     "text": [
      "490 :  CAR.OQ\n",
      "491 :  L.N\n",
      "492 :  FTL.N^E00\n"
     ]
    },
    {
     "name": "stderr",
     "output_type": "stream",
     "text": [
      "Error with FTL.N^E00: No data available for the requested date range\n",
      "FTL.N^E00: No data available for the requested date range | \n"
     ]
    },
    {
     "name": "stdout",
     "output_type": "stream",
     "text": [
      "493 :  DRI.N\n",
      "494 :  TLAB.OQ^L13\n",
      "495 :  RNB.N^L99\n"
     ]
    },
    {
     "name": "stderr",
     "output_type": "stream",
     "text": [
      "Error with RNB.N^L99: No data available for the requested date range\n",
      "RNB.N^L99: No data available for the requested date range | \n"
     ]
    },
    {
     "name": "stdout",
     "output_type": "stream",
     "text": [
      "496 :  ALL.N\n",
      "497 :  FCXb.N^K95\n"
     ]
    },
    {
     "name": "stderr",
     "output_type": "stream",
     "text": [
      "Error with FCXb.N^K95: Invalid RIC\n",
      "FCXb.N^K95: Invalid RIC | \n"
     ]
    },
    {
     "name": "stdout",
     "output_type": "stream",
     "text": [
      "498 :  WLL.N^C02\n"
     ]
    },
    {
     "name": "stderr",
     "output_type": "stream",
     "text": [
      "Error with WLL.N^C02: No data available for the requested date range\n",
      "WLL.N^C02: No data available for the requested date range | \n"
     ]
    },
    {
     "name": "stdout",
     "output_type": "stream",
     "text": [
      "499 :  MS.N^F97\n"
     ]
    },
    {
     "name": "stderr",
     "output_type": "stream",
     "text": [
      "Error with MS.N^F97: No data available for the requested date range\n",
      "MS.N^F97: No data available for the requested date range | \n",
      "Error with MS.N^F97: No data available for the requested date range\n",
      "MS.N^F97: No data available for the requested date range | \n"
     ]
    },
    {
     "name": "stdout",
     "output_type": "stream",
     "text": [
      "500 :  USB.N\n",
      "501 :  DXC.N\n",
      "502 :  UMG.N^F00\n"
     ]
    },
    {
     "name": "stderr",
     "output_type": "stream",
     "text": [
      "Error with UMG.N^F00: No data available for the requested date range\n",
      "UMG.N^F00: No data available for the requested date range | \n"
     ]
    },
    {
     "name": "stdout",
     "output_type": "stream",
     "text": [
      "503 :  PNU.N^C00\n"
     ]
    },
    {
     "name": "stderr",
     "output_type": "stream",
     "text": [
      "Error with PNU.N^C00: No data available for the requested date range\n",
      "PNU.N^C00: No data available for the requested date range | \n"
     ]
    },
    {
     "name": "stdout",
     "output_type": "stream",
     "text": [
      "504 :  PHB.N^J99\n"
     ]
    },
    {
     "name": "stderr",
     "output_type": "stream",
     "text": [
      "Error with PHB.N^J99: No data available for the requested date range\n",
      "PHB.N^J99: No data available for the requested date range | \n"
     ]
    },
    {
     "name": "stdout",
     "output_type": "stream",
     "text": [
      "505 :  M.N\n",
      "506 :  FCX.N\n",
      "507 :  PPL.N\n",
      "508 :  CBB.N^A98\n"
     ]
    },
    {
     "name": "stderr",
     "output_type": "stream",
     "text": [
      "Error with CBB.N^A98: No data available for the requested date range\n",
      "CBB.N^A98: No data available for the requested date range | \n",
      "Error with CBB.N^A98: No data available for the requested date range\n",
      "CBB.N^A98: No data available for the requested date range | \n"
     ]
    },
    {
     "name": "stdout",
     "output_type": "stream",
     "text": [
      "509 :  HUM.N\n",
      "510 :  FCN.N^J98\n"
     ]
    },
    {
     "name": "stderr",
     "output_type": "stream",
     "text": [
      "Error with FCN.N^J98: No data available for the requested date range\n",
      "FCN.N^J98: No data available for the requested date range | \n",
      "Error with FCN.N^J98: No data available for the requested date range\n",
      "FCN.N^J98: No data available for the requested date range | \n"
     ]
    },
    {
     "name": "stdout",
     "output_type": "stream",
     "text": [
      "511 :  CMA.N\n",
      "512 :  LSI.OQ^E14\n",
      "513 :  HIG.N\n",
      "514 :  ITT.N\n",
      "515 :  COMS.OQ^D10\n",
      "516 :  CSE.N^K99\n"
     ]
    },
    {
     "name": "stderr",
     "output_type": "stream",
     "text": [
      "Error with CSE.N^K99: No data available for the requested date range\n",
      "CSE.N^K99: No data available for the requested date range | \n"
     ]
    },
    {
     "name": "stdout",
     "output_type": "stream",
     "text": [
      "517 :  BNET.O^B96\n"
     ]
    },
    {
     "name": "stderr",
     "output_type": "stream",
     "text": [
      "Error with BNET.O^B96: Invalid RIC\n",
      "BNET.O^B96: Invalid RIC | \n"
     ]
    },
    {
     "name": "stdout",
     "output_type": "stream",
     "text": [
      "518 :  BAY.N^H98\n"
     ]
    },
    {
     "name": "stderr",
     "output_type": "stream",
     "text": [
      "Error with BAY.N^H98: No data available for the requested date range\n",
      "BAY.N^H98: No data available for the requested date range | \n",
      "Error with BAY.N^H98: No data available for the requested date range\n",
      "BAY.N^H98: No data available for the requested date range | \n"
     ]
    },
    {
     "name": "stdout",
     "output_type": "stream",
     "text": [
      "519 :  FITB.OQ\n",
      "520 :  GNT.N^G98\n"
     ]
    },
    {
     "name": "stderr",
     "output_type": "stream",
     "text": [
      "Error with GNT.N^G98: No data available for the requested date range\n",
      "GNT.N^G98: No data available for the requested date range | \n",
      "Error with GNT.N^G98: No data available for the requested date range\n",
      "GNT.N^G98: No data available for the requested date range | \n"
     ]
    },
    {
     "name": "stdout",
     "output_type": "stream",
     "text": [
      "521 :  EMC.N^I16\n",
      "522 :  WCOEQ.OQ^G02\n"
     ]
    },
    {
     "name": "stderr",
     "output_type": "stream",
     "text": [
      "Error with WCOEQ.OQ^G02: No data available for the requested date range\n",
      "WCOEQ.OQ^G02: No data available for the requested date range | \n"
     ]
    },
    {
     "name": "stdout",
     "output_type": "stream",
     "text": [
      "523 :  AON.N\n",
      "524 :  TUP.N\n",
      "525 :  CVS.N\n",
      "526 :  AM.N^H13\n",
      "527 :  SMS.N^G00\n"
     ]
    },
    {
     "name": "stderr",
     "output_type": "stream",
     "text": [
      "Error with SMS.N^G00: No data available for the requested date range\n",
      "SMS.N^G00: No data available for the requested date range | \n"
     ]
    },
    {
     "name": "stdout",
     "output_type": "stream",
     "text": [
      "528 :  RTN.N\n",
      "529 :  MTG.N\n",
      "530 :  BMG.N^A01\n"
     ]
    },
    {
     "name": "stderr",
     "output_type": "stream",
     "text": [
      "Error with BMG.N^A01: No data available for the requested date range\n",
      "BMG.N^A01: No data available for the requested date range | \n"
     ]
    },
    {
     "name": "stdout",
     "output_type": "stream",
     "text": [
      "531 :  HFS.N^L97\n"
     ]
    },
    {
     "name": "stderr",
     "output_type": "stream",
     "text": [
      "Error with HFS.N^L97: No data available for the requested date range\n",
      "HFS.N^L97: No data available for the requested date range | \n",
      "Error with HFS.N^L97: No data available for the requested date range\n",
      "HFS.N^L97: No data available for the requested date range | \n"
     ]
    },
    {
     "name": "stdout",
     "output_type": "stream",
     "text": [
      "532 :  ALT.N^K99\n"
     ]
    },
    {
     "name": "stderr",
     "output_type": "stream",
     "text": [
      "Error with ALT.N^K99: Invalid RIC\n",
      "ALT.N^K99: Invalid RIC | \n"
     ]
    },
    {
     "name": "stdout",
     "output_type": "stream",
     "text": [
      "533 :  SEG.N^K00\n"
     ]
    },
    {
     "name": "stderr",
     "output_type": "stream",
     "text": [
      "Error with SEG.N^K00: No data available for the requested date range\n",
      "SEG.N^K00: No data available for the requested date range | \n"
     ]
    },
    {
     "name": "stdout",
     "output_type": "stream",
     "text": [
      "534 :  DELL.OQ^J13\n",
      "535 :  LU.N^L06\n"
     ]
    },
    {
     "name": "stderr",
     "output_type": "stream",
     "text": [
      "Error with LU.N^L06: No data available for the requested date range\n",
      "LU.N^L06: No data available for the requested date range | \n"
     ]
    },
    {
     "name": "stdout",
     "output_type": "stream",
     "text": [
      "536 :  UPR.N^G00\n"
     ]
    },
    {
     "name": "stderr",
     "output_type": "stream",
     "text": [
      "Error with UPR.N^G00: No data available for the requested date range\n",
      "UPR.N^G00: No data available for the requested date range | \n"
     ]
    },
    {
     "name": "stdout",
     "output_type": "stream",
     "text": [
      "537 :  RX.N^C10\n",
      "538 :  MBI.N\n",
      "539 :  GDT.N^D06\n"
     ]
    },
    {
     "name": "stderr",
     "output_type": "stream",
     "text": [
      "Error with GDT.N^D06: No data available for the requested date range\n",
      "GDT.N^D06: No data available for the requested date range | \n"
     ]
    },
    {
     "name": "stdout",
     "output_type": "stream",
     "text": [
      "540 :  TMO.N\n",
      "541 :  FRO.N^I99\n"
     ]
    },
    {
     "name": "stderr",
     "output_type": "stream",
     "text": [
      "Error with FRO.N^I99: No data available for the requested date range\n",
      "FRO.N^I99: No data available for the requested date range | \n"
     ]
    },
    {
     "name": "stdout",
     "output_type": "stream",
     "text": [
      "542 :  AZO.N\n",
      "543 :  HRC.N^C03\n"
     ]
    },
    {
     "name": "stderr",
     "output_type": "stream",
     "text": [
      "Error with HRC.N^C03: No data available for the requested date range\n",
      "HRC.N^C03: No data available for the requested date range | \n"
     ]
    },
    {
     "name": "stdout",
     "output_type": "stream",
     "text": [
      "544 :  CNC.N^H02\n"
     ]
    },
    {
     "name": "stderr",
     "output_type": "stream",
     "text": [
      "Error with CNC.N^H02: No data available for the requested date range\n",
      "CNC.N^H02: No data available for the requested date range | \n"
     ]
    },
    {
     "name": "stdout",
     "output_type": "stream",
     "text": [
      "545 :  PTC.OQ\n",
      "546 :  ADBE.OQ\n",
      "547 :  CAH.N\n",
      "548 :  SCHW.N\n",
      "549 :  PVN.N^J05\n"
     ]
    },
    {
     "name": "stderr",
     "output_type": "stream",
     "text": [
      "Error with PVN.N^J05: No data available for the requested date range\n",
      "PVN.N^J05: No data available for the requested date range | \n"
     ]
    },
    {
     "name": "stdout",
     "output_type": "stream",
     "text": [
      "550 :  CFC.N^G08\n"
     ]
    },
    {
     "name": "stderr",
     "output_type": "stream",
     "text": [
      "Error with CFC.N^G08: No data available for the requested date range\n",
      "CFC.N^G08: No data available for the requested date range | \n"
     ]
    },
    {
     "name": "stdout",
     "output_type": "stream",
     "text": [
      "551 :  EFX.N\n",
      "552 :  WM.N^I08\n"
     ]
    },
    {
     "name": "stderr",
     "output_type": "stream",
     "text": [
      "Error with WM.N^I08: No data available for the requested date range\n",
      "WM.N^I08: No data available for the requested date range | \n"
     ]
    },
    {
     "name": "stdout",
     "output_type": "stream",
     "text": [
      "553 :  SAI.N^L98\n"
     ]
    },
    {
     "name": "stderr",
     "output_type": "stream",
     "text": [
      "Error with SAI.N^L98: No data available for the requested date range\n",
      "SAI.N^L98: No data available for the requested date range | \n",
      "Error with SAI.N^L98: No data available for the requested date range\n",
      "SAI.N^L98: No data available for the requested date range | \n"
     ]
    },
    {
     "name": "stdout",
     "output_type": "stream",
     "text": [
      "554 :  APA.N\n",
      "555 :  APC.N\n",
      "556 :  PGR.N\n",
      "557 :  OI.N\n",
      "558 :  MIR.N^E00\n"
     ]
    },
    {
     "name": "stderr",
     "output_type": "stream",
     "text": [
      "Error with MIR.N^E00: No data available for the requested date range\n",
      "MIR.N^E00: No data available for the requested date range | \n"
     ]
    },
    {
     "name": "stdout",
     "output_type": "stream",
     "text": [
      "559 :  HBAN.OQ\n",
      "560 :  STT.N\n",
      "561 :  CCU.N^G08\n"
     ]
    },
    {
     "name": "stderr",
     "output_type": "stream",
     "text": [
      "Error with CCU.N^G08: No data available for the requested date range\n",
      "CCU.N^G08: No data available for the requested date range | \n"
     ]
    },
    {
     "name": "stdout",
     "output_type": "stream",
     "text": [
      "562 :  KLAC.OQ\n",
      "563 :  YUM.N\n",
      "564 :  HBOC.O^A99\n"
     ]
    },
    {
     "name": "stderr",
     "output_type": "stream",
     "text": [
      "Error with HBOC.O^A99: No data available for the requested date range\n",
      "HBOC.O^A99: No data available for the requested date range | \n"
     ]
    },
    {
     "name": "stdout",
     "output_type": "stream",
     "text": [
      "565 :  FE.N\n",
      "566 :  SNV.N\n",
      "567 :  BBT.N\n",
      "568 :  CINF.OQ\n",
      "569 :  OMC.N\n",
      "570 :  AEE.N\n",
      "571 :  LEH.N^I08\n"
     ]
    },
    {
     "name": "stderr",
     "output_type": "stream",
     "text": [
      "Error with LEH.N^I08: No data available for the requested date range\n",
      "LEH.N^I08: No data available for the requested date range | \n"
     ]
    },
    {
     "name": "stdout",
     "output_type": "stream",
     "text": [
      "572 :  BIG.N\n",
      "573 :  SUB.N^C01\n"
     ]
    },
    {
     "name": "stderr",
     "output_type": "stream",
     "text": [
      "Error with SUB.N^C01: No data available for the requested date range\n",
      "SUB.N^C01: No data available for the requested date range | \n"
     ]
    },
    {
     "name": "stdout",
     "output_type": "stream",
     "text": [
      "574 :  NTRS.OQ\n",
      "575 :  MTL.N^I99\n"
     ]
    },
    {
     "name": "stderr",
     "output_type": "stream",
     "text": [
      "Error with MTL.N^I99: No data available for the requested date range\n",
      "MTL.N^I99: No data available for the requested date range | \n"
     ]
    },
    {
     "name": "stdout",
     "output_type": "stream",
     "text": [
      "576 :  NXTL.OQ^H05\n"
     ]
    },
    {
     "name": "stderr",
     "output_type": "stream",
     "text": [
      "Error with NXTL.OQ^H05: No data available for the requested date range\n",
      "NXTL.OQ^H05: No data available for the requested date range | \n"
     ]
    },
    {
     "name": "stdout",
     "output_type": "stream",
     "text": [
      "577 :  SEE.N\n",
      "578 :  AFS.N^L00\n"
     ]
    },
    {
     "name": "stderr",
     "output_type": "stream",
     "text": [
      "Error with AFS.N^L00: No data available for the requested date range\n",
      "AFS.N^L00: No data available for the requested date range | \n"
     ]
    },
    {
     "name": "stdout",
     "output_type": "stream",
     "text": [
      "579 :  GTW.N^J07\n"
     ]
    },
    {
     "name": "stderr",
     "output_type": "stream",
     "text": [
      "Error with GTW.N^J07: No data available for the requested date range\n",
      "GTW.N^J07: No data available for the requested date range | \n"
     ]
    },
    {
     "name": "stdout",
     "output_type": "stream",
     "text": [
      "580 :  BEN.N\n",
      "581 :  ASND.O^F99\n"
     ]
    },
    {
     "name": "stderr",
     "output_type": "stream",
     "text": [
      "Error with ASND.O^F99: No data available for the requested date range\n",
      "ASND.O^F99: No data available for the requested date range | \n"
     ]
    },
    {
     "name": "stdout",
     "output_type": "stream",
     "text": [
      "582 :  SRE.N\n",
      "583 :  SLM.OQ\n",
      "584 :  COF.N\n",
      "585 :  BSC.N^F08\n"
     ]
    },
    {
     "name": "stderr",
     "output_type": "stream",
     "text": [
      "Error with BSC.N^F08: No data available for the requested date range\n",
      "BSC.N^F08: No data available for the requested date range | \n"
     ]
    },
    {
     "name": "stdout",
     "output_type": "stream",
     "text": [
      "586 :  FMY.N^E99\n"
     ]
    },
    {
     "name": "stderr",
     "output_type": "stream",
     "text": [
      "Error with FMY.N^E99: No data available for the requested date range\n",
      "FMY.N^E99: No data available for the requested date range | \n"
     ]
    },
    {
     "name": "stdout",
     "output_type": "stream",
     "text": [
      "587 :  DG.N^G07\n"
     ]
    },
    {
     "name": "stderr",
     "output_type": "stream",
     "text": [
      "Error with DG.N^G07: No data available for the requested date range\n",
      "DG.N^G07: No data available for the requested date range | \n"
     ]
    },
    {
     "name": "stdout",
     "output_type": "stream",
     "text": [
      "588 :  WM.N\n",
      "589 :  EDS.N^H08\n"
     ]
    },
    {
     "name": "stderr",
     "output_type": "stream",
     "text": [
      "Error with EDS.N^H08: No data available for the requested date range\n",
      "EDS.N^H08: No data available for the requested date range | \n"
     ]
    },
    {
     "name": "stdout",
     "output_type": "stream",
     "text": [
      "590 :  KSS.N\n"
     ]
    },
    {
     "name": "stderr",
     "output_type": "stream",
     "text": [
      "Error with RF.N: No data available for the requested date range\n"
     ]
    },
    {
     "name": "stdout",
     "output_type": "stream",
     "text": [
      "591 :  RF.N\n"
     ]
    },
    {
     "name": "stderr",
     "output_type": "stream",
     "text": [
      "RF.N: No data available for the requested date range | \n"
     ]
    },
    {
     "name": "stdout",
     "output_type": "stream",
     "text": [
      "592 :  PVT.N^F99\n"
     ]
    },
    {
     "name": "stderr",
     "output_type": "stream",
     "text": [
      "Error with PVT.N^F99: No data available for the requested date range\n",
      "PVT.N^F99: No data available for the requested date range | \n"
     ]
    },
    {
     "name": "stdout",
     "output_type": "stream",
     "text": [
      "593 :  HCR.N^L07\n"
     ]
    },
    {
     "name": "stderr",
     "output_type": "stream",
     "text": [
      "Error with HCR.N^L07: No data available for the requested date range\n",
      "HCR.N^L07: No data available for the requested date range | \n"
     ]
    },
    {
     "name": "stdout",
     "output_type": "stream",
     "text": [
      "594 :  PAYX.OQ\n",
      "595 :  UPC.N^G04\n"
     ]
    },
    {
     "name": "stderr",
     "output_type": "stream",
     "text": [
      "Error with UPC.N^G04: No data available for the requested date range\n",
      "UPC.N^G04: No data available for the requested date range | \n"
     ]
    },
    {
     "name": "stdout",
     "output_type": "stream",
     "text": [
      "596 :  PSFT.OQ^A05\n"
     ]
    },
    {
     "name": "stderr",
     "output_type": "stream",
     "text": [
      "Error with PSFT.OQ^A05: No data available for the requested date range\n",
      "PSFT.OQ^A05: No data available for the requested date range | \n"
     ]
    },
    {
     "name": "stdout",
     "output_type": "stream",
     "text": [
      "597 :  BMC.OQ^I13\n"
     ]
    },
    {
     "name": "stderr",
     "output_type": "stream",
     "text": [
      "Error with BMC.OQ^I13: No data available for the requested date range\n",
      "BMC.OQ^I13: No data available for the requested date range | \n"
     ]
    },
    {
     "name": "stdout",
     "output_type": "stream",
     "text": [
      "598 :  AES.N\n",
      "599 :  SPLS.OQ^I17\n",
      "600 :  CCEP.N\n",
      "601 :  NCE.N^H00\n"
     ]
    },
    {
     "name": "stderr",
     "output_type": "stream",
     "text": [
      "Error with NCE.N^H00: No data available for the requested date range\n",
      "NCE.N^H00: No data available for the requested date range | \n"
     ]
    },
    {
     "name": "stdout",
     "output_type": "stream",
     "text": [
      "602 :  SWY.N^A15\n",
      "603 :  DHR.N\n",
      "604 :  PCS.N^D04\n"
     ]
    },
    {
     "name": "stderr",
     "output_type": "stream",
     "text": [
      "Error with PCS.N^D04: No data available for the requested date range\n",
      "PCS.N^D04: No data available for the requested date range | \n"
     ]
    },
    {
     "name": "stdout",
     "output_type": "stream",
     "text": [
      "605 :  CCL.N\n",
      "606 :  SLR.N^J07\n"
     ]
    },
    {
     "name": "stderr",
     "output_type": "stream",
     "text": [
      "Error with SLR.N^J07: No data available for the requested date range\n",
      "SLR.N^J07: No data available for the requested date range | \n"
     ]
    },
    {
     "name": "stdout",
     "output_type": "stream",
     "text": [
      "607 :  CPWR.OQ^L14\n",
      "608 :  TWX.N^F18\n",
      "609 :  FSR.N^B01\n"
     ]
    },
    {
     "name": "stderr",
     "output_type": "stream",
     "text": [
      "Error with FSR.N^B01: Invalid RIC\n",
      "FSR.N^B01: Invalid RIC | \n"
     ]
    },
    {
     "name": "stdout",
     "output_type": "stream",
     "text": [
      "610 :  MCK.N\n",
      "611 :  SOTR.OQ^K04\n"
     ]
    },
    {
     "name": "stderr",
     "output_type": "stream",
     "text": [
      "Error with SOTR.OQ^K04: No data available for the requested date range\n",
      "SOTR.OQ^K04: No data available for the requested date range | \n"
     ]
    },
    {
     "name": "stdout",
     "output_type": "stream",
     "text": [
      "612 :  ASO.N^K06\n"
     ]
    },
    {
     "name": "stderr",
     "output_type": "stream",
     "text": [
      "Error with ASO.N^K06: No data available for the requested date range\n",
      "ASO.N^K06: No data available for the requested date range | \n",
      "Error with WOR.N: No data available for the requested date range\n"
     ]
    },
    {
     "name": "stdout",
     "output_type": "stream",
     "text": [
      "613 :  WOR.N\n"
     ]
    },
    {
     "name": "stderr",
     "output_type": "stream",
     "text": [
      "WOR.N: No data available for the requested date range | \n"
     ]
    },
    {
     "name": "stdout",
     "output_type": "stream",
     "text": [
      "614 :  CTL.N\n",
      "615 :  KSU.N\n",
      "616 :  AGN.N\n",
      "617 :  CMS.N\n",
      "618 :  ABI.N^K08\n"
     ]
    },
    {
     "name": "stderr",
     "output_type": "stream",
     "text": [
      "Error with ABI.N^K08: No data available for the requested date range\n",
      "ABI.N^K08: No data available for the requested date range | \n"
     ]
    },
    {
     "name": "stdout",
     "output_type": "stream",
     "text": [
      "619 :  DPH.N^J05\n"
     ]
    },
    {
     "name": "stderr",
     "output_type": "stream",
     "text": [
      "Error with DPH.N^J05: No data available for the requested date range\n",
      "DPH.N^J05: No data available for the requested date range | \n",
      "Error with DPH.N^J05: No data available for the requested date range\n",
      "DPH.N^J05: No data available for the requested date range | \n"
     ]
    },
    {
     "name": "stdout",
     "output_type": "stream",
     "text": [
      "620 :  AFL.N\n",
      "621 :  PWJ.N^K00\n"
     ]
    },
    {
     "name": "stderr",
     "output_type": "stream",
     "text": [
      "Error with PWJ.N^K00: No data available for the requested date range\n",
      "PWJ.N^K00: No data available for the requested date range | \n"
     ]
    },
    {
     "name": "stdout",
     "output_type": "stream",
     "text": [
      "622 :  WLP.N^L04\n"
     ]
    },
    {
     "name": "stderr",
     "output_type": "stream",
     "text": [
      "Error with WLP.N^L04: No data available for the requested date range\n",
      "WLP.N^L04: No data available for the requested date range | \n"
     ]
    },
    {
     "name": "stdout",
     "output_type": "stream",
     "text": [
      "623 :  NGH.N^L00\n"
     ]
    },
    {
     "name": "stderr",
     "output_type": "stream",
     "text": [
      "Error with NGH.N^L00: No data available for the requested date range\n",
      "NGH.N^L00: No data available for the requested date range | \n"
     ]
    },
    {
     "name": "stdout",
     "output_type": "stream",
     "text": [
      "624 :  FPC.N^K00\n"
     ]
    },
    {
     "name": "stderr",
     "output_type": "stream",
     "text": [
      "Error with FPC.N^K00: No data available for the requested date range\n",
      "FPC.N^K00: No data available for the requested date range | \n"
     ]
    },
    {
     "name": "stdout",
     "output_type": "stream",
     "text": [
      "625 :  ODP.OQ\n",
      "626 :  NTAP.OQ\n",
      "627 :  BBY.N\n",
      "628 :  VMC.N\n",
      "629 :  QCOM.OQ\n",
      "630 :  AW.N^L08\n"
     ]
    },
    {
     "name": "stderr",
     "output_type": "stream",
     "text": [
      "Error with AW.N^L08: No data available for the requested date range\n",
      "AW.N^L08: No data available for the requested date range | \n"
     ]
    },
    {
     "name": "stdout",
     "output_type": "stream",
     "text": [
      "631 :  ADCT.OQ^L10\n",
      "632 :  COC.N^H02\n"
     ]
    },
    {
     "name": "stderr",
     "output_type": "stream",
     "text": [
      "Error with COC.N^H02: No data available for the requested date range\n",
      "COC.N^H02: No data available for the requested date range | \n",
      "Error with COC.N^H02: No data available for the requested date range\n",
      "COC.N^H02: No data available for the requested date range | \n"
     ]
    },
    {
     "name": "stdout",
     "output_type": "stream",
     "text": [
      "633 :  LXK.N^K16\n",
      "634 :  TOS.N^I01\n"
     ]
    },
    {
     "name": "stderr",
     "output_type": "stream",
     "text": [
      "Error with TOS.N^I01: No data available for the requested date range\n",
      "TOS.N^I01: No data available for the requested date range | \n"
     ]
    },
    {
     "name": "stdout",
     "output_type": "stream",
     "text": [
      "635 :  GX.N^A02\n"
     ]
    },
    {
     "name": "stderr",
     "output_type": "stream",
     "text": [
      "Error with GX.N^A02: No data available for the requested date range\n",
      "GX.N^A02: No data available for the requested date range | \n",
      "Error with GX.N^A02: No data available for the requested date range\n",
      "GX.N^A02: No data available for the requested date range | \n",
      "Error with GX.N^A02: No data available for the requested date range\n",
      "GX.N^A02: No data available for the requested date range | \n"
     ]
    },
    {
     "name": "stdout",
     "output_type": "stream",
     "text": [
      "636 :  ADPT.OQ^H10\n",
      "637 :  BBBY.OQ\n",
      "638 :  PNW.N\n",
      "639 :  ADI.OQ\n",
      "640 :  TROW.OQ\n",
      "641 :  LEG.N\n",
      "642 :  EP.N^E12\n",
      "643 :  CMVT.OQ^B07\n"
     ]
    },
    {
     "name": "stderr",
     "output_type": "stream",
     "text": [
      "Error with CMVT.OQ^B07: No data available for the requested date range\n",
      "CMVT.OQ^B07: No data available for the requested date range | \n"
     ]
    },
    {
     "name": "stdout",
     "output_type": "stream",
     "text": [
      "644 :  PTV.N^K10\n"
     ]
    },
    {
     "name": "stderr",
     "output_type": "stream",
     "text": [
      "Error with PTV.N^K10: No data available for the requested date range\n",
      "PTV.N^K10: No data available for the requested date range | \n"
     ]
    },
    {
     "name": "stdout",
     "output_type": "stream",
     "text": [
      "645 :  XLNX.OQ\n",
      "646 :  TER.OQ\n",
      "647 :  QTRN.OQ^I03\n"
     ]
    },
    {
     "name": "stderr",
     "output_type": "stream",
     "text": [
      "Error with QTRN.OQ^I03: No data available for the requested date range\n",
      "QTRN.OQ^I03: No data available for the requested date range | \n"
     ]
    },
    {
     "name": "stdout",
     "output_type": "stream",
     "text": [
      "648 :  ATI.N\n",
      "649 :  CTXS.OQ\n",
      "650 :  MOLX.OQ^L13\n",
      "651 :  OK.N^D01\n"
     ]
    },
    {
     "name": "stderr",
     "output_type": "stream",
     "text": [
      "Error with OK.N^D01: No data available for the requested date range\n",
      "OK.N^D01: No data available for the requested date range | \n"
     ]
    },
    {
     "name": "stdout",
     "output_type": "stream",
     "text": [
      "652 :  AABA.OQ\n"
     ]
    },
    {
     "name": "stderr",
     "output_type": "stream",
     "text": [
      "Error with RIG.N: No data available for the requested date range\n"
     ]
    },
    {
     "name": "stdout",
     "output_type": "stream",
     "text": [
      "653 :  RIG.N\n"
     ]
    },
    {
     "name": "stderr",
     "output_type": "stream",
     "text": [
      "RIG.N: No data available for the requested date range | \n"
     ]
    },
    {
     "name": "stdout",
     "output_type": "stream",
     "text": [
      "654 :  NCR.N\n",
      "655 :  YNR.N^J00\n"
     ]
    },
    {
     "name": "stderr",
     "output_type": "stream",
     "text": [
      "Error with YNR.N^J00: No data available for the requested date range\n",
      "YNR.N^J00: No data available for the requested date range | \n"
     ]
    },
    {
     "name": "stdout",
     "output_type": "stream",
     "text": [
      "656 :  HOG.N\n",
      "657 :  BGEN.OQ^K03\n"
     ]
    },
    {
     "name": "stderr",
     "output_type": "stream",
     "text": [
      "Error with BGEN.OQ^K03: No data available for the requested date range\n",
      "BGEN.OQ^K03: No data available for the requested date range | \n"
     ]
    },
    {
     "name": "stdout",
     "output_type": "stream",
     "text": [
      "658 :  CNXT.OQ^D11\n",
      "659 :  TSG.N^D07\n"
     ]
    },
    {
     "name": "stderr",
     "output_type": "stream",
     "text": [
      "Error with TSG.N^D07: No data available for the requested date range\n",
      "TSG.N^D07: No data available for the requested date range | \n"
     ]
    },
    {
     "name": "stdout",
     "output_type": "stream",
     "text": [
      "660 :  LLTC.OQ^C17\n",
      "661 :  VRTS.OQ^G05\n"
     ]
    },
    {
     "name": "stderr",
     "output_type": "stream",
     "text": [
      "Error with VRTS.OQ^G05: No data available for the requested date range\n",
      "VRTS.OQ^G05: No data available for the requested date range | \n"
     ]
    },
    {
     "name": "stdout",
     "output_type": "stream",
     "text": [
      "662 :  ALTR.OQ^L15\n",
      "663 :  SEBL.OQ^B06\n"
     ]
    },
    {
     "name": "stderr",
     "output_type": "stream",
     "text": [
      "Error with SEBL.OQ^B06: No data available for the requested date range\n",
      "SEBL.OQ^B06: No data available for the requested date range | \n"
     ]
    },
    {
     "name": "stdout",
     "output_type": "stream",
     "text": [
      "664 :  SAPE.OQ^B15\n",
      "665 :  MXIM.OQ^J07\n"
     ]
    },
    {
     "name": "stderr",
     "output_type": "stream",
     "text": [
      "Error with MXIM.OQ^J07: No data available for the requested date range\n",
      "MXIM.OQ^J07: No data available for the requested date range | \n"
     ]
    },
    {
     "name": "stdout",
     "output_type": "stream",
     "text": [
      "666 :  APCC.OQ^B07\n"
     ]
    },
    {
     "name": "stderr",
     "output_type": "stream",
     "text": [
      "Error with APCC.OQ^B07: No data available for the requested date range\n",
      "APCC.OQ^B07: No data available for the requested date range | \n",
      "Error with A.N: No data available for the requested date range\n"
     ]
    },
    {
     "name": "stdout",
     "output_type": "stream",
     "text": [
      "667 :  A.N\n"
     ]
    },
    {
     "name": "stderr",
     "output_type": "stream",
     "text": [
      "A.N: No data available for the requested date range | \n"
     ]
    },
    {
     "name": "stdout",
     "output_type": "stream",
     "text": [
      "668 :  SBUX.OQ\n",
      "669 :  CVG.N^J18\n",
      "670 :  MEDI.OQ^F07\n"
     ]
    },
    {
     "name": "stderr",
     "output_type": "stream",
     "text": [
      "Error with MEDI.OQ^F07: No data available for the requested date range\n",
      "MEDI.OQ^F07: No data available for the requested date range | \n"
     ]
    },
    {
     "name": "stdout",
     "output_type": "stream",
     "text": [
      "671 :  CF.N^H04\n"
     ]
    },
    {
     "name": "stderr",
     "output_type": "stream",
     "text": [
      "Error with CF.N^H04: No data available for the requested date range\n",
      "CF.N^H04: No data available for the requested date range | \n",
      "Error with CF.N^H04: No data available for the requested date range\n",
      "CF.N^H04: No data available for the requested date range | \n"
     ]
    },
    {
     "name": "stdout",
     "output_type": "stream",
     "text": [
      "672 :  NVLS.OQ^F12\n",
      "673 :  TIF.N\n",
      "674 :  SANM.OQ\n",
      "675 :  VC.N^C09\n"
     ]
    },
    {
     "name": "stderr",
     "output_type": "stream",
     "text": [
      "Error with VC.N^C09: No data available for the requested date range\n",
      "VC.N^C09: No data available for the requested date range | \n"
     ]
    },
    {
     "name": "stdout",
     "output_type": "stream",
     "text": [
      "676 :  MERQE.OQ^A06\n"
     ]
    },
    {
     "name": "stderr",
     "output_type": "stream",
     "text": [
      "Error with MERQE.OQ^A06: No data available for the requested date range\n",
      "MERQE.OQ^A06: No data available for the requested date range | \n"
     ]
    },
    {
     "name": "stdout",
     "output_type": "stream",
     "text": [
      "677 :  BRCM.OQ^B16\n",
      "678 :  Q.N^D11\n",
      "679 :  JNS.N^E17\n"
     ]
    },
    {
     "name": "stderr",
     "output_type": "stream",
     "text": [
      "Error with JNS.N^E17: No data available for the requested date range\n",
      "JNS.N^E17: No data available for the requested date range | \n"
     ]
    },
    {
     "name": "stdout",
     "output_type": "stream",
     "text": [
      "680 :  CIT.N^F01\n"
     ]
    },
    {
     "name": "stderr",
     "output_type": "stream",
     "text": [
      "Error with CIT.N^F01: No data available for the requested date range\n",
      "CIT.N^F01: No data available for the requested date range | \n"
     ]
    },
    {
     "name": "stdout",
     "output_type": "stream",
     "text": [
      "681 :  VIAV.OQ\n",
      "682 :  PALM.OQ^G10\n"
     ]
    },
    {
     "name": "stderr",
     "output_type": "stream",
     "text": [
      "Error with PALM.OQ^G10: No data available for the requested date range\n",
      "PALM.OQ^G10: No data available for the requested date range | \n"
     ]
    },
    {
     "name": "stdout",
     "output_type": "stream",
     "text": [
      "683 :  KSE.N^H07\n"
     ]
    },
    {
     "name": "stderr",
     "output_type": "stream",
     "text": [
      "Error with KSE.N^H07: No data available for the requested date range\n",
      "KSE.N^H07: No data available for the requested date range | \n"
     ]
    },
    {
     "name": "stdout",
     "output_type": "stream",
     "text": [
      "684 :  DVN.N\n",
      "685 :  AV.N^J07\n"
     ]
    },
    {
     "name": "stderr",
     "output_type": "stream",
     "text": [
      "Error with AV.N^J07: No data available for the requested date range\n",
      "AV.N^J07: No data available for the requested date range | \n",
      "Error with AV.N^J07: No data available for the requested date range\n",
      "AV.N^J07: No data available for the requested date range | \n"
     ]
    },
    {
     "name": "stdout",
     "output_type": "stream",
     "text": [
      "686 :  DYN.N^G12\n",
      "687 :  MCO.N\n"
     ]
    },
    {
     "name": "stderr",
     "output_type": "stream",
     "text": [
      "Error with MCO.N: No data available for the requested date range\n",
      "MCO.N: No data available for the requested date range | \n"
     ]
    },
    {
     "name": "stdout",
     "output_type": "stream",
     "text": [
      "688 :  KG.N^C11\n"
     ]
    },
    {
     "name": "stderr",
     "output_type": "stream",
     "text": [
      "Error with KG.N^C11: No data available for the requested date range\n",
      "KG.N^C11: No data available for the requested date range | \n"
     ]
    },
    {
     "name": "stdout",
     "output_type": "stream",
     "text": [
      "689 :  NBR.N\n",
      "690 :  PWER.OQ^G13\n",
      "691 :  NI.N\n",
      "692 :  EOG.N\n",
      "693 :  BVSN.OQ^C06\n"
     ]
    },
    {
     "name": "stderr",
     "output_type": "stream",
     "text": [
      "Error with BVSN.OQ^C06: No data available for the requested date range\n",
      "BVSN.OQ^C06: No data available for the requested date range | \n"
     ]
    },
    {
     "name": "stdout",
     "output_type": "stream",
     "text": [
      "694 :  HOT.N^I16\n",
      "695 :  FRX.N^G14\n",
      "696 :  CHIR.OQ^D06\n"
     ]
    },
    {
     "name": "stderr",
     "output_type": "stream",
     "text": [
      "Error with CHIR.OQ^D06: No data available for the requested date range\n",
      "CHIR.OQ^D06: No data available for the requested date range | \n"
     ]
    },
    {
     "name": "stdout",
     "output_type": "stream",
     "text": [
      "697 :  CPN.N^L05\n"
     ]
    },
    {
     "name": "stderr",
     "output_type": "stream",
     "text": [
      "Error with CPN.N^L05: No data available for the requested date range\n",
      "CPN.N^L05: No data available for the requested date range | \n"
     ]
    },
    {
     "name": "stdout",
     "output_type": "stream",
     "text": [
      "698 :  RHI.N\n",
      "699 :  INTU.OQ\n",
      "700 :  SBL.N^A07\n"
     ]
    },
    {
     "name": "stderr",
     "output_type": "stream",
     "text": [
      "Error with SBL.N^A07: No data available for the requested date range\n",
      "SBL.N^A07: No data available for the requested date range | \n"
     ]
    },
    {
     "name": "stdout",
     "output_type": "stream",
     "text": [
      "701 :  ABK.N^K10\n",
      "702 :  AYE.N^B11\n"
     ]
    },
    {
     "name": "stderr",
     "output_type": "stream",
     "text": [
      "Error with MET.N: No data available for the requested date range\n",
      "MET.N: No data available for the requested date range | \n"
     ]
    },
    {
     "name": "stdout",
     "output_type": "stream",
     "text": [
      "703 :  MET.N\n",
      "704 :  VTSS.OQ^F06\n"
     ]
    },
    {
     "name": "stderr",
     "output_type": "stream",
     "text": [
      "Error with VTSS.OQ^F06: No data available for the requested date range\n",
      "VTSS.OQ^F06: No data available for the requested date range | \n"
     ]
    },
    {
     "name": "stdout",
     "output_type": "stream",
     "text": [
      "705 :  SYK.N\n",
      "706 :  QLGC.OQ^H16\n",
      "707 :  KMI.N^E07\n"
     ]
    },
    {
     "name": "stderr",
     "output_type": "stream",
     "text": [
      "Error with KMI.N^E07: No data available for the requested date range\n",
      "KMI.N^E07: No data available for the requested date range | \n"
     ]
    },
    {
     "name": "stdout",
     "output_type": "stream",
     "text": [
      "708 :  AET_w.N^L00\n"
     ]
    },
    {
     "name": "stderr",
     "output_type": "stream",
     "text": [
      "Error with AET_w.N^L00: No data available for the requested date range\n",
      "AET_w.N^L00: No data available for the requested date range | \n",
      "Error with AET_w.N^L00: No data available for the requested date range\n",
      "AET_w.N^L00: No data available for the requested date range | \n"
     ]
    },
    {
     "name": "stdout",
     "output_type": "stream",
     "text": [
      "709 :  FLR.N\n",
      "710 :  FLR_w.N^L00\n"
     ]
    },
    {
     "name": "stderr",
     "output_type": "stream",
     "text": [
      "Error with FLR_w.N^L00: Invalid RIC\n",
      "FLR_w.N^L00: Invalid RIC | \n"
     ]
    },
    {
     "name": "stdout",
     "output_type": "stream",
     "text": [
      "711 :  AMCC.OQ^A17\n",
      "712 :  NE.N\n",
      "713 :  JBL.N\n",
      "714 :  UVN.N^C07\n"
     ]
    },
    {
     "name": "stderr",
     "output_type": "stream",
     "text": [
      "Error with UVN.N^C07: No data available for the requested date range\n",
      "UVN.N^C07: No data available for the requested date range | \n"
     ]
    },
    {
     "name": "stdout",
     "output_type": "stream",
     "text": [
      "715 :  FTR.OQ\n",
      "716 :  CTAS.OQ\n",
      "717 :  FISV.OQ\n",
      "718 :  CE.N^B04\n"
     ]
    },
    {
     "name": "stderr",
     "output_type": "stream",
     "text": [
      "Error with CE.N^B04: No data available for the requested date range\n",
      "CE.N^B04: No data available for the requested date range | \n"
     ]
    },
    {
     "name": "stdout",
     "output_type": "stream",
     "text": [
      "719 :  MIR.N^G03\n"
     ]
    },
    {
     "name": "stderr",
     "output_type": "stream",
     "text": [
      "Error with MIR.N^G03: No data available for the requested date range\n",
      "MIR.N^G03: No data available for the requested date range | \n",
      "Error with MIR.N^G03: No data available for the requested date range\n",
      "MIR.N^G03: No data available for the requested date range | \n"
     ]
    },
    {
     "name": "stdout",
     "output_type": "stream",
     "text": [
      "720 :  PBG.N^C10\n"
     ]
    },
    {
     "name": "stderr",
     "output_type": "stream",
     "text": [
      "Error with PBG.N^C10: No data available for the requested date range\n",
      "PBG.N^C10: No data available for the requested date range | \n"
     ]
    },
    {
     "name": "stdout",
     "output_type": "stream",
     "text": [
      "721 :  MWW.N^K16\n",
      "722 :  MCWEQ.OQ^G02\n"
     ]
    },
    {
     "name": "stderr",
     "output_type": "stream",
     "text": [
      "Error with MCWEQ.OQ^G02: No data available for the requested date range\n",
      "MCWEQ.OQ^G02: No data available for the requested date range | \n",
      "Error with MCWEQ.OQ^G02: No data available for the requested date range\n",
      "MCWEQ.OQ^G02: No data available for the requested date range | \n"
     ]
    },
    {
     "name": "stdout",
     "output_type": "stream",
     "text": [
      "723 :  ZION.OQ\n",
      "724 :  JHF.N^D04\n"
     ]
    },
    {
     "name": "stderr",
     "output_type": "stream",
     "text": [
      "Error with JHF.N^D04: No data available for the requested date range\n",
      "JHF.N^D04: No data available for the requested date range | \n",
      "Error with JHF.N^D04: No data available for the requested date range\n",
      "JHF.N^D04: No data available for the requested date range | \n"
     ]
    },
    {
     "name": "stdout",
     "output_type": "stream",
     "text": [
      "725 :  COL.N^K18\n"
     ]
    },
    {
     "name": "stderr",
     "output_type": "stream",
     "text": [
      "Error with COL.N^K18: No data available for the requested date range\n",
      "COL.N^K18: No data available for the requested date range | \n"
     ]
    },
    {
     "name": "stdout",
     "output_type": "stream",
     "text": [
      "726 :  AWE.N^J04\n"
     ]
    },
    {
     "name": "stderr",
     "output_type": "stream",
     "text": [
      "Error with AWE.N^J04: No data available for the requested date range\n",
      "AWE.N^J04: No data available for the requested date range | \n",
      "Error with AWE.N^J04: No data available for the requested date range\n",
      "AWE.N^J04: No data available for the requested date range | \n"
     ]
    },
    {
     "name": "stdout",
     "output_type": "stream",
     "text": [
      "727 :  PMCS.OQ^A16\n",
      "728 :  FDO.N^G15\n"
     ]
    },
    {
     "name": "stderr",
     "output_type": "stream",
     "text": [
      "Error with ZBH.N: No data available for the requested date range\n"
     ]
    },
    {
     "name": "stdout",
     "output_type": "stream",
     "text": [
      "729 :  ZBH.N\n"
     ]
    },
    {
     "name": "stderr",
     "output_type": "stream",
     "text": [
      "ZBH.N: No data available for the requested date range | \n"
     ]
    },
    {
     "name": "stdout",
     "output_type": "stream",
     "text": [
      "730 :  ABC.N\n",
      "731 :  CIEN.N\n",
      "732 :  IGT.N^D15\n",
      "733 :  XL.N^I18\n",
      "734 :  IMNX.O^G02\n"
     ]
    },
    {
     "name": "stderr",
     "output_type": "stream",
     "text": [
      "Error with IMNX.O^G02: No data available for the requested date range\n",
      "IMNX.O^G02: No data available for the requested date range | \n"
     ]
    },
    {
     "name": "stdout",
     "output_type": "stream",
     "text": [
      "735 :  TE.N^G16\n",
      "736 :  EOP.N^B07\n"
     ]
    },
    {
     "name": "stderr",
     "output_type": "stream",
     "text": [
      "Error with EOP.N^B07: No data available for the requested date range\n",
      "EOP.N^B07: No data available for the requested date range | \n"
     ]
    },
    {
     "name": "stdout",
     "output_type": "stream",
     "text": [
      "737 :  HMA.N^A14\n"
     ]
    },
    {
     "name": "stderr",
     "output_type": "stream",
     "text": [
      "Error with NVDA.OQ: No data available for the requested date range\n"
     ]
    },
    {
     "name": "stdout",
     "output_type": "stream",
     "text": [
      "738 :  NVDA.OQ\n"
     ]
    },
    {
     "name": "stderr",
     "output_type": "stream",
     "text": [
      "NVDA.OQ: No data available for the requested date range | \n"
     ]
    },
    {
     "name": "stdout",
     "output_type": "stream",
     "text": [
      "739 :  EQR.N\n",
      "740 :  GENZ.OQ^D11\n",
      "741 :  JNY.N^D14\n",
      "742 :  WAT.N\n",
      "743 :  PCL.N^B16\n",
      "744 :  CB.N\n",
      "745 :  MWV.N^G15\n",
      "746 :  MI.N^G11\n"
     ]
    },
    {
     "name": "stderr",
     "output_type": "stream",
     "text": [
      "Error with MI.N^G11: No data available for the requested date range\n",
      "MI.N^G11: No data available for the requested date range | \n"
     ]
    },
    {
     "name": "stdout",
     "output_type": "stream",
     "text": [
      "747 :  FHN.N\n"
     ]
    },
    {
     "name": "stderr",
     "output_type": "stream",
     "text": [
      "Error with FHN.N: No data available for the requested date range\n",
      "FHN.N: No data available for the requested date range | \n"
     ]
    },
    {
     "name": "stdout",
     "output_type": "stream",
     "text": [
      "748 :  TT.N^F08\n"
     ]
    },
    {
     "name": "stderr",
     "output_type": "stream",
     "text": [
      "Error with TT.N^F08: No data available for the requested date range\n",
      "TT.N^F08: No data available for the requested date range | \n"
     ]
    },
    {
     "name": "stdout",
     "output_type": "stream",
     "text": [
      "749 :  BJS.N^D10\n",
      "750 :  APOL.OQ^B17\n",
      "751 :  SPG.N\n",
      "752 :  NFB.N^L06\n"
     ]
    },
    {
     "name": "stderr",
     "output_type": "stream",
     "text": [
      "Error with NFB.N^L06: No data available for the requested date range\n",
      "NFB.N^L06: No data available for the requested date range | \n",
      "Error with GS.N: No data available for the requested date range\n"
     ]
    },
    {
     "name": "stdout",
     "output_type": "stream",
     "text": [
      "753 :  GS.N\n"
     ]
    },
    {
     "name": "stderr",
     "output_type": "stream",
     "text": [
      "GS.N: No data available for the requested date range | \n"
     ]
    },
    {
     "name": "stdout",
     "output_type": "stream",
     "text": [
      "754 :  EA.OQ\n",
      "755 :  PRU.N\n"
     ]
    },
    {
     "name": "stderr",
     "output_type": "stream",
     "text": [
      "Error with PRU.N: No data available for the requested date range\n",
      "PRU.N: No data available for the requested date range | \n"
     ]
    },
    {
     "name": "stdout",
     "output_type": "stream",
     "text": [
      "756 :  SDS.N^H05\n"
     ]
    },
    {
     "name": "stderr",
     "output_type": "stream",
     "text": [
      "Error with SDS.N^H05: No data available for the requested date range\n",
      "SDS.N^H05: No data available for the requested date range | \n"
     ]
    },
    {
     "name": "stdout",
     "output_type": "stream",
     "text": [
      "757 :  EBAY.OQ\n",
      "758 :  PFG.OQ\n"
     ]
    },
    {
     "name": "stderr",
     "output_type": "stream",
     "text": [
      "Error with PFG.OQ: No data available for the requested date range\n",
      "PFG.OQ: No data available for the requested date range | \n",
      "Error with UPS.N: No data available for the requested date range\n"
     ]
    },
    {
     "name": "stdout",
     "output_type": "stream",
     "text": [
      "759 :  UPS.N\n"
     ]
    },
    {
     "name": "stderr",
     "output_type": "stream",
     "text": [
      "UPS.N: No data available for the requested date range | \n"
     ]
    },
    {
     "name": "stdout",
     "output_type": "stream",
     "text": [
      "760 :  ANTM.N\n"
     ]
    },
    {
     "name": "stderr",
     "output_type": "stream",
     "text": [
      "Error with ANTM.N: No data available for the requested date range\n",
      "ANTM.N: No data available for the requested date range | \n"
     ]
    },
    {
     "name": "stdout",
     "output_type": "stream",
     "text": [
      "761 :  MON.N^F18\n"
     ]
    },
    {
     "name": "stderr",
     "output_type": "stream",
     "text": [
      "Error with MON.N^F18: No data available for the requested date range\n",
      "MON.N^F18: No data available for the requested date range | \n"
     ]
    },
    {
     "name": "stdout",
     "output_type": "stream",
     "text": [
      "762 :  TAPb.N^D04\n"
     ]
    },
    {
     "name": "stderr",
     "output_type": "stream",
     "text": [
      "Error with TAPb.N^D04: No data available for the requested date range\n",
      "TAPb.N^D04: No data available for the requested date range | \n",
      "Error with TAPb.N^D04: No data available for the requested date range\n",
      "TAPb.N^D04: No data available for the requested date range | \n"
     ]
    },
    {
     "name": "stdout",
     "output_type": "stream",
     "text": [
      "763 :  RAI.N^G17\n"
     ]
    },
    {
     "name": "stderr",
     "output_type": "stream",
     "text": [
      "Error with RAI.N^G17: No data available for the requested date range\n",
      "RAI.N^G17: No data available for the requested date range | \n"
     ]
    },
    {
     "name": "stdout",
     "output_type": "stream",
     "text": [
      "764 :  CMCSA.OQ\n",
      "765 :  DGX.N\n",
      "766 :  AN.N\n",
      "767 :  AIV.N\n"
     ]
    },
    {
     "name": "stderr",
     "output_type": "stream",
     "text": [
      "Error with MKC.N: No data available for the requested date range\n"
     ]
    },
    {
     "name": "stdout",
     "output_type": "stream",
     "text": [
      "768 :  MKC.N\n"
     ]
    },
    {
     "name": "stderr",
     "output_type": "stream",
     "text": [
      "MKC.N: No data available for the requested date range | \n"
     ]
    },
    {
     "name": "stdout",
     "output_type": "stream",
     "text": [
      "769 :  SYMC.OQ\n",
      "770 :  FII.N\n",
      "771 :  PLD.N^F11\n",
      "772 :  MHS_w.N^H03\n"
     ]
    },
    {
     "name": "stderr",
     "output_type": "stream",
     "text": [
      "Error with MHS_w.N^H03: No data available for the requested date range\n",
      "MHS_w.N^H03: No data available for the requested date range | \n",
      "Error with MHS_w.N^H03: No data available for the requested date range\n",
      "MHS_w.N^H03: No data available for the requested date range | \n"
     ]
    },
    {
     "name": "stdout",
     "output_type": "stream",
     "text": [
      "773 :  MHS.N^D12\n"
     ]
    },
    {
     "name": "stderr",
     "output_type": "stream",
     "text": [
      "Error with MHS.N^D12: No data available for the requested date range\n",
      "MHS.N^D12: No data available for the requested date range | \n"
     ]
    },
    {
     "name": "stdout",
     "output_type": "stream",
     "text": [
      "774 :  ESRX.OQ\n",
      "775 :  BIIB.OQ\n",
      "776 :  MTB.N\n",
      "777 :  CMX.N^C07\n"
     ]
    },
    {
     "name": "stderr",
     "output_type": "stream",
     "text": [
      "Error with CMX.N^C07: No data available for the requested date range\n",
      "CMX.N^C07: No data available for the requested date range | \n"
     ]
    },
    {
     "name": "stdout",
     "output_type": "stream",
     "text": [
      "778 :  ETFC.OQ\n"
     ]
    },
    {
     "name": "stderr",
     "output_type": "stream",
     "text": [
      "Error with ETFC.OQ: No data available for the requested date range\n",
      "ETFC.OQ: No data available for the requested date range | \n"
     ]
    },
    {
     "name": "stdout",
     "output_type": "stream",
     "text": [
      "779 :  ACS.N^B10\n",
      "780 :  MYL.OQ\n",
      "781 :  VLO.N\n",
      "782 :  HSP.N^I15\n"
     ]
    },
    {
     "name": "stderr",
     "output_type": "stream",
     "text": [
      "Error with HSP.N^I15: No data available for the requested date range\n",
      "HSP.N^I15: No data available for the requested date range | \n"
     ]
    },
    {
     "name": "stdout",
     "output_type": "stream",
     "text": [
      "783 :  GILD.OQ\n",
      "784 :  SOV.N^A09\n"
     ]
    },
    {
     "name": "stderr",
     "output_type": "stream",
     "text": [
      "Error with SOV.N^A09: No data available for the requested date range\n",
      "SOV.N^A09: No data available for the requested date range | \n"
     ]
    },
    {
     "name": "stdout",
     "output_type": "stream",
     "text": [
      "785 :  FSH.N^K06\n"
     ]
    },
    {
     "name": "stderr",
     "output_type": "stream",
     "text": [
      "Error with FSH.N^K06: No data available for the requested date range\n",
      "FSH.N^K06: No data available for the requested date range | \n",
      "Error with TPR.N: No data available for the requested date range\n"
     ]
    },
    {
     "name": "stdout",
     "output_type": "stream",
     "text": [
      "786 :  TPR.N\n"
     ]
    },
    {
     "name": "stderr",
     "output_type": "stream",
     "text": [
      "TPR.N: No data available for the requested date range | \n"
     ]
    },
    {
     "name": "stdout",
     "output_type": "stream",
     "text": [
      "787 :  CIT.N^K09\n"
     ]
    },
    {
     "name": "stderr",
     "output_type": "stream",
     "text": [
      "Error with CIT.N^K09: No data available for the requested date range\n",
      "CIT.N^K09: No data available for the requested date range | \n"
     ]
    },
    {
     "name": "stdout",
     "output_type": "stream",
     "text": [
      "788 :  LH.N\n",
      "789 :  LLL.N\n",
      "790 :  FSLb.N^L06\n"
     ]
    },
    {
     "name": "stderr",
     "output_type": "stream",
     "text": [
      "Error with FSLb.N^L06: No data available for the requested date range\n",
      "FSLb.N^L06: No data available for the requested date range | \n",
      "Error with FSLb.N^L06: No data available for the requested date range\n",
      "FSLb.N^L06: No data available for the requested date range | \n"
     ]
    },
    {
     "name": "stdout",
     "output_type": "stream",
     "text": [
      "791 :  CBSS.OQ^I07\n"
     ]
    },
    {
     "name": "stderr",
     "output_type": "stream",
     "text": [
      "Error with CBSS.OQ^I07: No data available for the requested date range\n",
      "CBSS.OQ^I07: No data available for the requested date range | \n"
     ]
    },
    {
     "name": "stdout",
     "output_type": "stream",
     "text": [
      "792 :  ASN.N^J07\n"
     ]
    },
    {
     "name": "stderr",
     "output_type": "stream",
     "text": [
      "Error with ASN.N^J07: No data available for the requested date range\n",
      "ASN.N^J07: No data available for the requested date range | \n"
     ]
    },
    {
     "name": "stdout",
     "output_type": "stream",
     "text": [
      "793 :  FOXA.OQ\n",
      "794 :  XTO.N^F10\n",
      "795 :  NOV.N\n",
      "796 :  SHLD.OQ^J18\n"
     ]
    },
    {
     "name": "stderr",
     "output_type": "stream",
     "text": [
      "Error with SHLD.OQ^J18: No data available for the requested date range\n",
      "SHLD.OQ^J18: No data available for the requested date range | \n"
     ]
    },
    {
     "name": "stdout",
     "output_type": "stream",
     "text": [
      "797 :  STZ.N\n"
     ]
    },
    {
     "name": "stderr",
     "output_type": "stream",
     "text": [
      "Error with STZ.N: No data available for the requested date range\n",
      "STZ.N: No data available for the requested date range | \n"
     ]
    },
    {
     "name": "stdout",
     "output_type": "stream",
     "text": [
      "798 :  DHI.N\n",
      "799 :  WFT.N\n",
      "800 :  TSN.N\n",
      "801 :  VNO.N\n",
      "802 :  MUR.N\n",
      "803 :  PSA.N\n",
      "804 :  CVH.N^E13\n"
     ]
    },
    {
     "name": "stderr",
     "output_type": "stream",
     "text": [
      "Error with CVH.N^E13: No data available for the requested date range\n",
      "CVH.N^E13: No data available for the requested date range | \n"
     ]
    },
    {
     "name": "stdout",
     "output_type": "stream",
     "text": [
      "805 :  AMP.N\n"
     ]
    },
    {
     "name": "stderr",
     "output_type": "stream",
     "text": [
      "Error with AMP.N: No data available for the requested date range\n",
      "AMP.N: No data available for the requested date range | \n"
     ]
    },
    {
     "name": "stdout",
     "output_type": "stream",
     "text": [
      "806 :  LEN.N\n",
      "807 :  PDCO.OQ\n",
      "808 :  AMZN.OQ\n",
      "809 :  GNW.N\n"
     ]
    },
    {
     "name": "stderr",
     "output_type": "stream",
     "text": [
      "Error with GNW.N: No data available for the requested date range\n",
      "GNW.N: No data available for the requested date range | \n"
     ]
    },
    {
     "name": "stdout",
     "output_type": "stream",
     "text": [
      "810 :  SSP.OQ\n",
      "811 :  WFM.OQ^H17\n"
     ]
    },
    {
     "name": "stderr",
     "output_type": "stream",
     "text": [
      "Error with VIAB.OQ: No data available for the requested date range\n",
      "VIAB.OQ: No data available for the requested date range | \n"
     ]
    },
    {
     "name": "stdout",
     "output_type": "stream",
     "text": [
      "812 :  VIAB.OQ\n",
      "813 :  EL.N\n",
      "814 :  HAR.N^C17\n",
      "815 :  VRSN.OQ\n",
      "816 :  BRL.N^L08\n"
     ]
    },
    {
     "name": "stderr",
     "output_type": "stream",
     "text": [
      "Error with BRL.N^L08: No data available for the requested date range\n",
      "BRL.N^L08: No data available for the requested date range | \n"
     ]
    },
    {
     "name": "stdout",
     "output_type": "stream",
     "text": [
      "817 :  CHK.N\n",
      "818 :  BXP.N\n",
      "819 :  DF.N\n",
      "820 :  KIM.N\n",
      "821 :  GOOGL.OQ\n"
     ]
    },
    {
     "name": "stderr",
     "output_type": "stream",
     "text": [
      "Error with GOOGL.OQ: No data available for the requested date range\n",
      "GOOGL.OQ: No data available for the requested date range | \n"
     ]
    },
    {
     "name": "stdout",
     "output_type": "stream",
     "text": [
      "822 :  SNDK.OQ^E16\n",
      "823 :  LM.N\n",
      "824 :  EQ.N^G09\n"
     ]
    },
    {
     "name": "stderr",
     "output_type": "stream",
     "text": [
      "Error with EQ.N^G09: No data available for the requested date range\n",
      "EQ.N^G09: No data available for the requested date range | \n"
     ]
    },
    {
     "name": "stdout",
     "output_type": "stream",
     "text": [
      "825 :  JNPR.N\n"
     ]
    },
    {
     "name": "stderr",
     "output_type": "stream",
     "text": [
      "Error with JNPR.N: No data available for the requested date range\n",
      "JNPR.N: No data available for the requested date range | \n"
     ]
    },
    {
     "name": "stdout",
     "output_type": "stream",
     "text": [
      "826 :  CBH.N^D08\n"
     ]
    },
    {
     "name": "stderr",
     "output_type": "stream",
     "text": [
      "Error with CBH.N^D08: No data available for the requested date range\n",
      "CBH.N^D08: No data available for the requested date range | \n",
      "Error with CNX.N: No data available for the requested date range\n"
     ]
    },
    {
     "name": "stdout",
     "output_type": "stream",
     "text": [
      "827 :  CNX.N\n"
     ]
    },
    {
     "name": "stderr",
     "output_type": "stream",
     "text": [
      "CNX.N: No data available for the requested date range | \n"
     ]
    },
    {
     "name": "stdout",
     "output_type": "stream",
     "text": [
      "828 :  WIN.OQ\n"
     ]
    },
    {
     "name": "stderr",
     "output_type": "stream",
     "text": [
      "Error with WIN.OQ: No data available for the requested date range\n",
      "WIN.OQ: No data available for the requested date range | \n"
     ]
    },
    {
     "name": "stdout",
     "output_type": "stream",
     "text": [
      "829 :  H.N^D07\n"
     ]
    },
    {
     "name": "stderr",
     "output_type": "stream",
     "text": [
      "Error with H.N^D07: No data available for the requested date range\n",
      "H.N^D07: No data available for the requested date range | \n",
      "Error with H.N^D07: No data available for the requested date range\n",
      "H.N^D07: No data available for the requested date range | \n"
     ]
    },
    {
     "name": "stdout",
     "output_type": "stream",
     "text": [
      "830 :  WYND.N\n"
     ]
    },
    {
     "name": "stderr",
     "output_type": "stream",
     "text": [
      "Error with WYND.N: No data available for the requested date range\n",
      "WYND.N: No data available for the requested date range | \n",
      "Error with CME.OQ: No data available for the requested date range\n",
      "CME.OQ: No data available for the requested date range | \n"
     ]
    },
    {
     "name": "stdout",
     "output_type": "stream",
     "text": [
      "831 :  CME.OQ\n",
      "832 :  WU.N\n"
     ]
    },
    {
     "name": "stderr",
     "output_type": "stream",
     "text": [
      "Error with WU.N: No data available for the requested date range\n",
      "WU.N: No data available for the requested date range | \n"
     ]
    },
    {
     "name": "stdout",
     "output_type": "stream",
     "text": [
      "833 :  SII.N^H10\n",
      "834 :  CELG.OQ\n"
     ]
    },
    {
     "name": "stderr",
     "output_type": "stream",
     "text": [
      "Error with CBRE.N: No data available for the requested date range\n"
     ]
    },
    {
     "name": "stdout",
     "output_type": "stream",
     "text": [
      "835 :  CBRE.N\n"
     ]
    },
    {
     "name": "stderr",
     "output_type": "stream",
     "text": [
      "CBRE.N: No data available for the requested date range | \n"
     ]
    },
    {
     "name": "stdout",
     "output_type": "stream",
     "text": [
      "836 :  FIS.N\n"
     ]
    },
    {
     "name": "stderr",
     "output_type": "stream",
     "text": [
      "Error with FIS.N: No data available for the requested date range\n",
      "FIS.N: No data available for the requested date range | \n"
     ]
    },
    {
     "name": "stdout",
     "output_type": "stream",
     "text": [
      "837 :  CTSH.OQ\n",
      "838 :  BTU.N^D16\n"
     ]
    },
    {
     "name": "stderr",
     "output_type": "stream",
     "text": [
      "Error with BTU.N^D16: No data available for the requested date range\n",
      "BTU.N^D16: No data available for the requested date range | \n"
     ]
    },
    {
     "name": "stdout",
     "output_type": "stream",
     "text": [
      "839 :  IAC.OQ\n",
      "840 :  STR.N^I16\n",
      "841 :  DTV.OQ^G15\n"
     ]
    },
    {
     "name": "stderr",
     "output_type": "stream",
     "text": [
      "Error with DTV.OQ^G15: No data available for the requested date range\n",
      "DTV.OQ^G15: No data available for the requested date range | \n"
     ]
    },
    {
     "name": "stdout",
     "output_type": "stream",
     "text": [
      "842 :  TEX.N\n",
      "843 :  SE.N^B17\n"
     ]
    },
    {
     "name": "stderr",
     "output_type": "stream",
     "text": [
      "Error with SE.N^B17: No data available for the requested date range\n",
      "SE.N^B17: No data available for the requested date range | \n"
     ]
    },
    {
     "name": "stdout",
     "output_type": "stream",
     "text": [
      "844 :  ESV.N\n",
      "845 :  AVB.N\n",
      "846 :  RL.N\n",
      "847 :  VAR.N\n",
      "848 :  HCBK.OQ^K15\n"
     ]
    },
    {
     "name": "stderr",
     "output_type": "stream",
     "text": [
      "Error with HCBK.OQ^K15: No data available for the requested date range\n",
      "HCBK.OQ^K15: No data available for the requested date range | \n"
     ]
    },
    {
     "name": "stdout",
     "output_type": "stream",
     "text": [
      "849 :  TEG.N^F15\n",
      "850 :  CHRW.OQ\n",
      "851 :  HST.N\n",
      "852 :  SITC.N\n",
      "853 :  ANF.N\n"
     ]
    },
    {
     "name": "stderr",
     "output_type": "stream",
     "text": [
      "Error with MDLZ.OQ: No data available for the requested date range\n"
     ]
    },
    {
     "name": "stdout",
     "output_type": "stream",
     "text": [
      "854 :  MDLZ.OQ\n"
     ]
    },
    {
     "name": "stderr",
     "output_type": "stream",
     "text": [
      "MDLZ.OQ: No data available for the requested date range | \n",
      "Error with AIZ.N: No data available for the requested date range\n"
     ]
    },
    {
     "name": "stdout",
     "output_type": "stream",
     "text": [
      "855 :  AIZ.N\n"
     ]
    },
    {
     "name": "stderr",
     "output_type": "stream",
     "text": [
      "AIZ.N: No data available for the requested date range | \n"
     ]
    },
    {
     "name": "stdout",
     "output_type": "stream",
     "text": [
      "856 :  SUNE.N^D16\n",
      "857 :  PCP.N^B16\n"
     ]
    },
    {
     "name": "stderr",
     "output_type": "stream",
     "text": [
      "Error with TEL.N: No data available for the requested date range\n"
     ]
    },
    {
     "name": "stdout",
     "output_type": "stream",
     "text": [
      "858 :  TEL.N\n"
     ]
    },
    {
     "name": "stderr",
     "output_type": "stream",
     "text": [
      "TEL.N: No data available for the requested date range | \n"
     ]
    },
    {
     "name": "stdout",
     "output_type": "stream",
     "text": [
      "859 :  COV.N^A15\n"
     ]
    },
    {
     "name": "stderr",
     "output_type": "stream",
     "text": [
      "Error with COV.N^A15: No data available for the requested date range\n",
      "COV.N^A15: No data available for the requested date range | \n"
     ]
    },
    {
     "name": "stdout",
     "output_type": "stream",
     "text": [
      "860 :  GGP.N^D09\n"
     ]
    },
    {
     "name": "stderr",
     "output_type": "stream",
     "text": [
      "Error with DFS.N: No data available for the requested date range\n"
     ]
    },
    {
     "name": "stdout",
     "output_type": "stream",
     "text": [
      "861 :  DFS.N\n"
     ]
    },
    {
     "name": "stderr",
     "output_type": "stream",
     "text": [
      "DFS.N: No data available for the requested date range | \n"
     ]
    },
    {
     "name": "stdout",
     "output_type": "stream",
     "text": [
      "862 :  ACAS.OQ^A17\n",
      "863 :  AKAM.OQ\n"
     ]
    },
    {
     "name": "stderr",
     "output_type": "stream",
     "text": [
      "Error with AKAM.OQ: No data available for the requested date range\n",
      "AKAM.OQ: No data available for the requested date range | \n"
     ]
    },
    {
     "name": "stdout",
     "output_type": "stream",
     "text": [
      "864 :  JEF.N\n",
      "865 :  MCHP.OQ\n",
      "866 :  ICE.N\n"
     ]
    },
    {
     "name": "stderr",
     "output_type": "stream",
     "text": [
      "Error with ICE.N: No data available for the requested date range\n",
      "ICE.N: No data available for the requested date range | \n"
     ]
    },
    {
     "name": "stdout",
     "output_type": "stream",
     "text": [
      "867 :  ANDV.N^J18\n",
      "868 :  TDC.N\n"
     ]
    },
    {
     "name": "stderr",
     "output_type": "stream",
     "text": [
      "Error with TDC.N: No data available for the requested date range\n",
      "TDC.N: No data available for the requested date range | \n",
      "Error with EXPE.OQ: No data available for the requested date range\n"
     ]
    },
    {
     "name": "stdout",
     "output_type": "stream",
     "text": [
      "869 :  EXPE.OQ\n"
     ]
    },
    {
     "name": "stderr",
     "output_type": "stream",
     "text": [
      "EXPE.OQ: No data available for the requested date range | \n"
     ]
    },
    {
     "name": "stdout",
     "output_type": "stream",
     "text": [
      "870 :  NBL.N\n",
      "871 :  EXPD.OQ\n",
      "872 :  NYX.N^K13\n"
     ]
    },
    {
     "name": "stderr",
     "output_type": "stream",
     "text": [
      "Error with NYX.N^K13: No data available for the requested date range\n",
      "NYX.N^K13: No data available for the requested date range | \n"
     ]
    },
    {
     "name": "stdout",
     "output_type": "stream",
     "text": [
      "873 :  JEC.N\n",
      "874 :  TIE.N^A13\n",
      "875 :  POM.N^C16\n",
      "876 :  MTW.N\n",
      "877 :  AMT.N\n",
      "878 :  GME.N\n"
     ]
    },
    {
     "name": "stderr",
     "output_type": "stream",
     "text": [
      "Error with GME.N: No data available for the requested date range\n",
      "GME.N: No data available for the requested date range | \n"
     ]
    },
    {
     "name": "stdout",
     "output_type": "stream",
     "text": [
      "879 :  RRC.N\n",
      "880 :  GHC.N\n",
      "881 :  TSS.N\n",
      "882 :  CAM.N^D16\n"
     ]
    },
    {
     "name": "stderr",
     "output_type": "stream",
     "text": [
      "Error with PM.N: No data available for the requested date range\n"
     ]
    },
    {
     "name": "stdout",
     "output_type": "stream",
     "text": [
      "883 :  PM.N\n"
     ]
    },
    {
     "name": "stderr",
     "output_type": "stream",
     "text": [
      "PM.N: No data available for the requested date range | \n"
     ]
    },
    {
     "name": "stdout",
     "output_type": "stream",
     "text": [
      "884 :  HCP.N\n"
     ]
    },
    {
     "name": "stderr",
     "output_type": "stream",
     "text": [
      "Error with ISRG.OQ: No data available for the requested date range\n"
     ]
    },
    {
     "name": "stdout",
     "output_type": "stream",
     "text": [
      "885 :  ISRG.OQ\n"
     ]
    },
    {
     "name": "stderr",
     "output_type": "stream",
     "text": [
      "ISRG.OQ: No data available for the requested date range | \n"
     ]
    },
    {
     "name": "stdout",
     "output_type": "stream",
     "text": [
      "886 :  SWN.N\n",
      "887 :  LO.N^F15\n"
     ]
    },
    {
     "name": "stderr",
     "output_type": "stream",
     "text": [
      "Error with LO.N^F15: No data available for the requested date range\n",
      "LO.N^F15: No data available for the requested date range | \n"
     ]
    },
    {
     "name": "stdout",
     "output_type": "stream",
     "text": [
      "888 :  COG.N\n",
      "889 :  SNI.OQ^C18\n"
     ]
    },
    {
     "name": "stderr",
     "output_type": "stream",
     "text": [
      "Error with SNI.OQ^C18: No data available for the requested date range\n",
      "SNI.OQ^C18: No data available for the requested date range | \n"
     ]
    },
    {
     "name": "stdout",
     "output_type": "stream",
     "text": [
      "890 :  AKS.N\n",
      "891 :  MA.N\n"
     ]
    },
    {
     "name": "stderr",
     "output_type": "stream",
     "text": [
      "Error with MA.N: No data available for the requested date range\n",
      "MA.N: No data available for the requested date range | \n"
     ]
    },
    {
     "name": "stdout",
     "output_type": "stream",
     "text": [
      "892 :  DVA.N\n",
      "893 :  IVZ.N\n",
      "894 :  CF.N\n"
     ]
    },
    {
     "name": "stderr",
     "output_type": "stream",
     "text": [
      "Error with CF.N: No data available for the requested date range\n",
      "CF.N: No data available for the requested date range | \n"
     ]
    },
    {
     "name": "stdout",
     "output_type": "stream",
     "text": [
      "895 :  FAST.OQ\n"
     ]
    },
    {
     "name": "stderr",
     "output_type": "stream",
     "text": [
      "Error with CRM.N: No data available for the requested date range\n"
     ]
    },
    {
     "name": "stdout",
     "output_type": "stream",
     "text": [
      "896 :  CRM.N\n"
     ]
    },
    {
     "name": "stderr",
     "output_type": "stream",
     "text": [
      "CRM.N: No data available for the requested date range | \n"
     ]
    },
    {
     "name": "stdout",
     "output_type": "stream",
     "text": [
      "897 :  PXD.N\n",
      "898 :  APH.N\n",
      "899 :  FLS.N\n"
     ]
    },
    {
     "name": "stderr",
     "output_type": "stream",
     "text": [
      "Error with KDP.N: No data available for the requested date range\n"
     ]
    },
    {
     "name": "stdout",
     "output_type": "stream",
     "text": [
      "900 :  KDP.N\n"
     ]
    },
    {
     "name": "stderr",
     "output_type": "stream",
     "text": [
      "KDP.N: No data available for the requested date range | \n"
     ]
    },
    {
     "name": "stdout",
     "output_type": "stream",
     "text": [
      "901 :  NDAQ.OQ\n"
     ]
    },
    {
     "name": "stderr",
     "output_type": "stream",
     "text": [
      "Error with NDAQ.OQ: No data available for the requested date range\n",
      "NDAQ.OQ: No data available for the requested date range | \n"
     ]
    },
    {
     "name": "stdout",
     "output_type": "stream",
     "text": [
      "902 :  WEC.N\n"
     ]
    },
    {
     "name": "stderr",
     "output_type": "stream",
     "text": [
      "Error with SJM.N: No data available for the requested date range\n"
     ]
    },
    {
     "name": "stdout",
     "output_type": "stream",
     "text": [
      "903 :  SJM.N\n"
     ]
    },
    {
     "name": "stderr",
     "output_type": "stream",
     "text": [
      "SJM.N: No data available for the requested date range | \n"
     ]
    },
    {
     "name": "stdout",
     "output_type": "stream",
     "text": [
      "904 :  PBCT.OQ\n",
      "905 :  WYNN.OQ\n"
     ]
    },
    {
     "name": "stderr",
     "output_type": "stream",
     "text": [
      "Error with WYNN.OQ: No data available for the requested date range\n",
      "WYNN.OQ: No data available for the requested date range | \n"
     ]
    },
    {
     "name": "stdout",
     "output_type": "stream",
     "text": [
      "906 :  XRAY.OQ\n",
      "907 :  CEPH.OQ^J11\n",
      "908 :  SRCL.OQ\n",
      "909 :  LIFE.OQ^B14\n"
     ]
    },
    {
     "name": "stderr",
     "output_type": "stream",
     "text": [
      "Error with LIFE.OQ^B14: No data available for the requested date range\n",
      "LIFE.OQ^B14: No data available for the requested date range | \n"
     ]
    },
    {
     "name": "stdout",
     "output_type": "stream",
     "text": [
      "910 :  RSG.N\n",
      "911 :  EQT.N\n",
      "912 :  MFE.N^C11\n"
     ]
    },
    {
     "name": "stderr",
     "output_type": "stream",
     "text": [
      "Error with MFE.N^C11: No data available for the requested date range\n",
      "MFE.N^C11: No data available for the requested date range | \n"
     ]
    },
    {
     "name": "stdout",
     "output_type": "stream",
     "text": [
      "913 :  SCG.N\n",
      "914 :  FLIR.OQ\n",
      "915 :  IRM.N\n",
      "916 :  WELL.N\n",
      "917 :  DO.N\n",
      "918 :  VTR.N\n",
      "919 :  HRL.N\n",
      "920 :  ES.N\n",
      "921 :  ORLY.OQ\n",
      "922 :  TWC.N^E16\n"
     ]
    },
    {
     "name": "stderr",
     "output_type": "stream",
     "text": [
      "Error with TWC.N^E16: No data available for the requested date range\n",
      "TWC.N^E16: No data available for the requested date range | \n"
     ]
    },
    {
     "name": "stdout",
     "output_type": "stream",
     "text": [
      "923 :  DNR.N\n",
      "924 :  FTI.N^A17\n"
     ]
    },
    {
     "name": "stderr",
     "output_type": "stream",
     "text": [
      "Error with FTI.N^A17: No data available for the requested date range\n",
      "FTI.N^A17: No data available for the requested date range | \n"
     ]
    },
    {
     "name": "stdout",
     "output_type": "stream",
     "text": [
      "925 :  ATGE.N\n"
     ]
    },
    {
     "name": "stderr",
     "output_type": "stream",
     "text": [
      "Error with TMUS.OQ: No data available for the requested date range\n"
     ]
    },
    {
     "name": "stdout",
     "output_type": "stream",
     "text": [
      "926 :  TMUS.OQ\n"
     ]
    },
    {
     "name": "stderr",
     "output_type": "stream",
     "text": [
      "TMUS.OQ: No data available for the requested date range | \n"
     ]
    },
    {
     "name": "stdout",
     "output_type": "stream",
     "text": [
      "927 :  WDC.OQ\n",
      "928 :  PWR.N\n",
      "929 :  RHT.N\n"
     ]
    },
    {
     "name": "stderr",
     "output_type": "stream",
     "text": [
      "Error with RHT.N: No data available for the requested date range\n",
      "RHT.N: No data available for the requested date range | \n"
     ]
    },
    {
     "name": "stdout",
     "output_type": "stream",
     "text": [
      "930 :  CFN.N^C15\n"
     ]
    },
    {
     "name": "stderr",
     "output_type": "stream",
     "text": [
      "Error with CFN.N^C15: No data available for the requested date range\n",
      "CFN.N^C15: No data available for the requested date range | \n",
      "Error with CFN.N^C15: No data available for the requested date range\n",
      "CFN.N^C15: No data available for the requested date range | \n"
     ]
    },
    {
     "name": "stdout",
     "output_type": "stream",
     "text": [
      "931 :  ARG.N^E16\n",
      "932 :  FSLR.OQ\n"
     ]
    },
    {
     "name": "stderr",
     "output_type": "stream",
     "text": [
      "Error with FSLR.OQ: No data available for the requested date range\n",
      "FSLR.OQ: No data available for the requested date range | \n",
      "Error with BKNG.OQ: No data available for the requested date range\n",
      "BKNG.OQ: No data available for the requested date range | \n"
     ]
    },
    {
     "name": "stdout",
     "output_type": "stream",
     "text": [
      "933 :  BKNG.OQ\n",
      "934 :  ROST.OQ\n",
      "935 :  CLF.N\n",
      "936 :  V.N\n"
     ]
    },
    {
     "name": "stderr",
     "output_type": "stream",
     "text": [
      "Error with V.N: No data available for the requested date range\n",
      "V.N: No data available for the requested date range | \n"
     ]
    },
    {
     "name": "stdout",
     "output_type": "stream",
     "text": [
      "937 :  MJN.N^F17\n"
     ]
    },
    {
     "name": "stderr",
     "output_type": "stream",
     "text": [
      "Error with MJN.N^F17: No data available for the requested date range\n",
      "MJN.N^F17: No data available for the requested date range | \n",
      "Error with MJN.N^F17: No data available for the requested date range\n",
      "MJN.N^F17: No data available for the requested date range | \n",
      "Error with LDOS.N: No data available for the requested date range\n"
     ]
    },
    {
     "name": "stdout",
     "output_type": "stream",
     "text": [
      "938 :  LDOS.N\n"
     ]
    },
    {
     "name": "stderr",
     "output_type": "stream",
     "text": [
      "LDOS.N: No data available for the requested date range | \n"
     ]
    },
    {
     "name": "stdout",
     "output_type": "stream",
     "text": [
      "939 :  ROP.N\n"
     ]
    },
    {
     "name": "stderr",
     "output_type": "stream",
     "text": [
      "Error with NRG.N: No data available for the requested date range\n"
     ]
    },
    {
     "name": "stdout",
     "output_type": "stream",
     "text": [
      "940 :  NRG.N\n"
     ]
    },
    {
     "name": "stderr",
     "output_type": "stream",
     "text": [
      "NRG.N: No data available for the requested date range | \n"
     ]
    },
    {
     "name": "stdout",
     "output_type": "stream",
     "text": [
      "941 :  URBN.OQ\n",
      "942 :  BRKb.N\n",
      "943 :  DISCA.OQ\n"
     ]
    },
    {
     "name": "stderr",
     "output_type": "stream",
     "text": [
      "Error with DISCA.OQ: No data available for the requested date range\n",
      "DISCA.OQ: No data available for the requested date range | \n"
     ]
    },
    {
     "name": "stdout",
     "output_type": "stream",
     "text": [
      "944 :  CERN.OQ\n",
      "945 :  KMX.N\n",
      "946 :  QEP.N\n"
     ]
    },
    {
     "name": "stderr",
     "output_type": "stream",
     "text": [
      "Error with QEP.N: No data available for the requested date range\n",
      "QEP.N: No data available for the requested date range | \n",
      "Error with QEP.N: No data available for the requested date range\n",
      "QEP.N: No data available for the requested date range | \n"
     ]
    },
    {
     "name": "stdout",
     "output_type": "stream",
     "text": [
      "947 :  NFX.N\n",
      "948 :  CVC.N^F16\n"
     ]
    },
    {
     "name": "stderr",
     "output_type": "stream",
     "text": [
      "Error with NFLX.OQ: No data available for the requested date range\n"
     ]
    },
    {
     "name": "stdout",
     "output_type": "stream",
     "text": [
      "949 :  NFLX.OQ\n"
     ]
    },
    {
     "name": "stderr",
     "output_type": "stream",
     "text": [
      "NFLX.OQ: No data available for the requested date range | \n",
      "Error with FFIV.OQ: No data available for the requested date range\n"
     ]
    },
    {
     "name": "stdout",
     "output_type": "stream",
     "text": [
      "950 :  FFIV.OQ\n"
     ]
    },
    {
     "name": "stderr",
     "output_type": "stream",
     "text": [
      "FFIV.OQ: No data available for the requested date range | \n"
     ]
    },
    {
     "name": "stdout",
     "output_type": "stream",
     "text": [
      "951 :  MMI.N^E12\n"
     ]
    },
    {
     "name": "stderr",
     "output_type": "stream",
     "text": [
      "Error with MMI.N^E12: No data available for the requested date range\n",
      "MMI.N^E12: No data available for the requested date range | \n",
      "Error with MMI.N^E12: No data available for the requested date range\n",
      "MMI.N^E12: No data available for the requested date range | \n"
     ]
    },
    {
     "name": "stdout",
     "output_type": "stream",
     "text": [
      "952 :  JOY.N^D17\n"
     ]
    },
    {
     "name": "stderr",
     "output_type": "stream",
     "text": [
      "Error with JOY.N^D17: No data available for the requested date range\n",
      "JOY.N^D17: No data available for the requested date range | \n",
      "Error with EW.N: No data available for the requested date range\n",
      "EW.N: No data available for the requested date range | \n"
     ]
    },
    {
     "name": "stdout",
     "output_type": "stream",
     "text": [
      "953 :  EW.N\n",
      "954 :  BLK.N\n"
     ]
    },
    {
     "name": "stderr",
     "output_type": "stream",
     "text": [
      "Error with BLK.N: No data available for the requested date range\n",
      "BLK.N: No data available for the requested date range | \n"
     ]
    },
    {
     "name": "stdout",
     "output_type": "stream",
     "text": [
      "955 :  CMG.N\n"
     ]
    },
    {
     "name": "stderr",
     "output_type": "stream",
     "text": [
      "Error with CMG.N: No data available for the requested date range\n",
      "CMG.N: No data available for the requested date range | \n"
     ]
    },
    {
     "name": "stdout",
     "output_type": "stream",
     "text": [
      "956 :  ANR.N^G15\n"
     ]
    },
    {
     "name": "stderr",
     "output_type": "stream",
     "text": [
      "Error with ANR.N^G15: No data available for the requested date range\n",
      "ANR.N^G15: No data available for the requested date range | \n"
     ]
    },
    {
     "name": "stdout",
     "output_type": "stream",
     "text": [
      "957 :  PLD.N\n"
     ]
    },
    {
     "name": "stderr",
     "output_type": "stream",
     "text": [
      "Error with MPC.N: No data available for the requested date range\n",
      "MPC.N: No data available for the requested date range | \n"
     ]
    },
    {
     "name": "stdout",
     "output_type": "stream",
     "text": [
      "958 :  MPC.N\n"
     ]
    },
    {
     "name": "stderr",
     "output_type": "stream",
     "text": [
      "Error with MPC.N: No data available for the requested date range\n",
      "MPC.N: No data available for the requested date range | \n"
     ]
    },
    {
     "name": "stdout",
     "output_type": "stream",
     "text": [
      "959 :  ACN.N\n"
     ]
    },
    {
     "name": "stderr",
     "output_type": "stream",
     "text": [
      "Error with ACN.N: No data available for the requested date range\n",
      "ACN.N: No data available for the requested date range | \n",
      "Error with MOS.N: No data available for the requested date range\n"
     ]
    },
    {
     "name": "stdout",
     "output_type": "stream",
     "text": [
      "960 :  MOS.N\n"
     ]
    },
    {
     "name": "stderr",
     "output_type": "stream",
     "text": [
      "MOS.N: No data available for the requested date range | \n"
     ]
    },
    {
     "name": "stdout",
     "output_type": "stream",
     "text": [
      "961 :  XYL.N\n"
     ]
    },
    {
     "name": "stderr",
     "output_type": "stream",
     "text": [
      "Error with XYL.N: No data available for the requested date range\n",
      "XYL.N: No data available for the requested date range | \n",
      "Error with XYL.N: No data available for the requested date range\n",
      "XYL.N: No data available for the requested date range | \n"
     ]
    },
    {
     "name": "stdout",
     "output_type": "stream",
     "text": [
      "962 :  GAS.N^G16\n",
      "963 :  BWA.N\n",
      "964 :  PRGO.N\n",
      "965 :  DLTR.OQ\n",
      "966 :  TRIP.OQ\n"
     ]
    },
    {
     "name": "stderr",
     "output_type": "stream",
     "text": [
      "Error with TRIP.OQ: No data available for the requested date range\n",
      "TRIP.OQ: No data available for the requested date range | \n",
      "Error with TRIP.OQ: No data available for the requested date range\n",
      "TRIP.OQ: No data available for the requested date range | \n"
     ]
    },
    {
     "name": "stdout",
     "output_type": "stream",
     "text": [
      "967 :  WPX.N\n"
     ]
    },
    {
     "name": "stderr",
     "output_type": "stream",
     "text": [
      "Error with WPX.N: No data available for the requested date range\n",
      "WPX.N: No data available for the requested date range | \n",
      "Error with WPX.N: No data available for the requested date range\n",
      "WPX.N: No data available for the requested date range | \n"
     ]
    },
    {
     "name": "stdout",
     "output_type": "stream",
     "text": [
      "968 :  CCI.N\n"
     ]
    },
    {
     "name": "stderr",
     "output_type": "stream",
     "text": [
      "Error with CCI.N: No data available for the requested date range\n",
      "CCI.N: No data available for the requested date range | \n"
     ]
    },
    {
     "name": "stdout",
     "output_type": "stream",
     "text": [
      "969 :  FOSL.OQ\n",
      "970 :  PSX.N\n"
     ]
    },
    {
     "name": "stderr",
     "output_type": "stream",
     "text": [
      "Error with PSX.N: No data available for the requested date range\n",
      "PSX.N: No data available for the requested date range | \n",
      "Error with PSX.N: No data available for the requested date range\n",
      "PSX.N: No data available for the requested date range | \n"
     ]
    },
    {
     "name": "stdout",
     "output_type": "stream",
     "text": [
      "971 :  KMI.N\n"
     ]
    },
    {
     "name": "stderr",
     "output_type": "stream",
     "text": [
      "Error with KMI.N: No data available for the requested date range\n",
      "KMI.N: No data available for the requested date range | \n",
      "Error with KMI.N: No data available for the requested date range\n",
      "KMI.N: No data available for the requested date range | \n"
     ]
    },
    {
     "name": "stdout",
     "output_type": "stream",
     "text": [
      "972 :  ALXN.OQ\n",
      "973 :  LRCX.OQ\n",
      "974 :  MNST.OQ\n",
      "975 :  STX.OQ\n"
     ]
    },
    {
     "name": "stderr",
     "output_type": "stream",
     "text": [
      "Error with STX.OQ: No data available for the requested date range\n",
      "STX.OQ: No data available for the requested date range | \n",
      "Error with LYB.N: No data available for the requested date range\n"
     ]
    },
    {
     "name": "stdout",
     "output_type": "stream",
     "text": [
      "976 :  LYB.N\n"
     ]
    },
    {
     "name": "stderr",
     "output_type": "stream",
     "text": [
      "LYB.N: No data available for the requested date range | \n",
      "Error with LYB.N: No data available for the requested date range\n",
      "LYB.N: No data available for the requested date range | \n"
     ]
    },
    {
     "name": "stdout",
     "output_type": "stream",
     "text": [
      "977 :  ADT.N^E16\n"
     ]
    },
    {
     "name": "stderr",
     "output_type": "stream",
     "text": [
      "Error with ADT.N^E16: No data available for the requested date range\n",
      "ADT.N^E16: No data available for the requested date range | \n",
      "Error with ADT.N^E16: No data available for the requested date range\n",
      "ADT.N^E16: No data available for the requested date range | \n"
     ]
    },
    {
     "name": "stdout",
     "output_type": "stream",
     "text": [
      "978 :  PNR.N\n",
      "979 :  KRFT.OQ^G15\n"
     ]
    },
    {
     "name": "stderr",
     "output_type": "stream",
     "text": [
      "Error with KRFT.OQ^G15: No data available for the requested date range\n",
      "KRFT.OQ^G15: No data available for the requested date range | \n",
      "Error with KRFT.OQ^G15: No data available for the requested date range\n",
      "KRFT.OQ^G15: No data available for the requested date range | \n"
     ]
    },
    {
     "name": "stdout",
     "output_type": "stream",
     "text": [
      "980 :  PETM.OQ^C15\n"
     ]
    },
    {
     "name": "stderr",
     "output_type": "stream",
     "text": [
      "Error with DG.N: No data available for the requested date range\n"
     ]
    },
    {
     "name": "stdout",
     "output_type": "stream",
     "text": [
      "981 :  DG.N\n"
     ]
    },
    {
     "name": "stderr",
     "output_type": "stream",
     "text": [
      "DG.N: No data available for the requested date range | \n",
      "Error with DG.N: No data available for the requested date range\n",
      "DG.N: No data available for the requested date range | \n",
      "Error with GRMN.OQ: No data available for the requested date range\n"
     ]
    },
    {
     "name": "stdout",
     "output_type": "stream",
     "text": [
      "982 :  GRMN.OQ\n"
     ]
    },
    {
     "name": "stderr",
     "output_type": "stream",
     "text": [
      "GRMN.OQ: No data available for the requested date range | \n"
     ]
    },
    {
     "name": "stdout",
     "output_type": "stream",
     "text": [
      "983 :  APTV.N\n"
     ]
    },
    {
     "name": "stderr",
     "output_type": "stream",
     "text": [
      "Error with APTV.N: No data available for the requested date range\n",
      "APTV.N: No data available for the requested date range | \n",
      "Error with APTV.N: No data available for the requested date range\n",
      "APTV.N: No data available for the requested date range | \n"
     ]
    },
    {
     "name": "stdout",
     "output_type": "stream",
     "text": [
      "984 :  ABBV.N\n"
     ]
    },
    {
     "name": "stderr",
     "output_type": "stream",
     "text": [
      "Error with ABBV.N: No data available for the requested date range\n",
      "ABBV.N: No data available for the requested date range | \n",
      "Error with ABBV.N: No data available for the requested date range\n",
      "ABBV.N: No data available for the requested date range | \n"
     ]
    },
    {
     "name": "stdout",
     "output_type": "stream",
     "text": [
      "985 :  PVH.N\n",
      "986 :  REGN.OQ\n",
      "987 :  MAC.N\n"
     ]
    },
    {
     "name": "stderr",
     "output_type": "stream",
     "text": [
      "Error with GM.N: No data available for the requested date range\n"
     ]
    },
    {
     "name": "stdout",
     "output_type": "stream",
     "text": [
      "988 :  GM.N\n"
     ]
    },
    {
     "name": "stderr",
     "output_type": "stream",
     "text": [
      "GM.N: No data available for the requested date range | \n",
      "Error with GM.N: No data available for the requested date range\n",
      "GM.N: No data available for the requested date range | \n",
      "Error with ZTS.N: No data available for the requested date range\n",
      "ZTS.N: No data available for the requested date range | \n"
     ]
    },
    {
     "name": "stdout",
     "output_type": "stream",
     "text": [
      "989 :  ZTS.N\n"
     ]
    },
    {
     "name": "stderr",
     "output_type": "stream",
     "text": [
      "Error with ZTS.N: No data available for the requested date range\n",
      "ZTS.N: No data available for the requested date range | \n"
     ]
    },
    {
     "name": "stdout",
     "output_type": "stream",
     "text": [
      "990 :  ZTS_w.N^F13\n"
     ]
    },
    {
     "name": "stderr",
     "output_type": "stream",
     "text": [
      "Error with ZTS_w.N^F13: No data available for the requested date range\n",
      "ZTS_w.N^F13: No data available for the requested date range | \n",
      "Error with ZTS_w.N^F13: No data available for the requested date range\n",
      "ZTS_w.N^F13: No data available for the requested date range | \n",
      "Error with NWSA.OQ: No data available for the requested date range\n"
     ]
    },
    {
     "name": "stdout",
     "output_type": "stream",
     "text": [
      "991 :  NWSA.OQ\n"
     ]
    },
    {
     "name": "stderr",
     "output_type": "stream",
     "text": [
      "NWSA.OQ: No data available for the requested date range | \n",
      "Error with NWSA.OQ: No data available for the requested date range\n",
      "NWSA.OQ: No data available for the requested date range | \n",
      "Error with NLSN.N: No data available for the requested date range\n"
     ]
    },
    {
     "name": "stdout",
     "output_type": "stream",
     "text": [
      "992 :  NLSN.N\n"
     ]
    },
    {
     "name": "stderr",
     "output_type": "stream",
     "text": [
      "NLSN.N: No data available for the requested date range | \n",
      "Error with NLSN.N: No data available for the requested date range\n",
      "NLSN.N: No data available for the requested date range | \n"
     ]
    },
    {
     "name": "stdout",
     "output_type": "stream",
     "text": [
      "993 :  DAL.N\n"
     ]
    },
    {
     "name": "stderr",
     "output_type": "stream",
     "text": [
      "Error with DAL.N: No data available for the requested date range\n",
      "DAL.N: No data available for the requested date range | \n"
     ]
    },
    {
     "name": "stdout",
     "output_type": "stream",
     "text": [
      "994 :  AME.N\n",
      "995 :  VRTX.OQ\n"
     ]
    },
    {
     "name": "stderr",
     "output_type": "stream",
     "text": [
      "Error with KORS.N: No data available for the requested date range\n",
      "KORS.N: No data available for the requested date range | \n"
     ]
    },
    {
     "name": "stdout",
     "output_type": "stream",
     "text": [
      "996 :  KORS.N\n"
     ]
    },
    {
     "name": "stderr",
     "output_type": "stream",
     "text": [
      "Error with KORS.N: No data available for the requested date range\n",
      "KORS.N: No data available for the requested date range | \n",
      "Error with ALLE.N: No data available for the requested date range\n",
      "ALLE.N: No data available for the requested date range | \n"
     ]
    },
    {
     "name": "stdout",
     "output_type": "stream",
     "text": [
      "997 :  ALLE.N\n"
     ]
    },
    {
     "name": "stderr",
     "output_type": "stream",
     "text": [
      "Error with ALLE.N: No data available for the requested date range\n",
      "ALLE.N: No data available for the requested date range | \n"
     ]
    },
    {
     "name": "stdout",
     "output_type": "stream",
     "text": [
      "998 :  GGP.N^H18\n"
     ]
    },
    {
     "name": "stderr",
     "output_type": "stream",
     "text": [
      "Error with GGP.N^H18: No data available for the requested date range\n",
      "GGP.N^H18: No data available for the requested date range | \n",
      "Error with GGP.N^H18: No data available for the requested date range\n",
      "GGP.N^H18: No data available for the requested date range | \n"
     ]
    },
    {
     "name": "stdout",
     "output_type": "stream",
     "text": [
      "999 :  MHK.N\n",
      "1000 :  FB.OQ\n"
     ]
    },
    {
     "name": "stderr",
     "output_type": "stream",
     "text": [
      "Error with FB.OQ: No data available for the requested date range\n",
      "FB.OQ: No data available for the requested date range | \n",
      "Error with FB.OQ: No data available for the requested date range\n",
      "FB.OQ: No data available for the requested date range | \n"
     ]
    },
    {
     "name": "stdout",
     "output_type": "stream",
     "text": [
      "1001 :  ADS.N\n"
     ]
    },
    {
     "name": "stderr",
     "output_type": "stream",
     "text": [
      "Error with ADS.N: No data available for the requested date range\n",
      "ADS.N: No data available for the requested date range | \n"
     ]
    },
    {
     "name": "stdout",
     "output_type": "stream",
     "text": [
      "1002 :  TSCO.OQ\n",
      "1003 :  GMCR.OQ^C16\n",
      "1004 :  ESS.N\n"
     ]
    },
    {
     "name": "stderr",
     "output_type": "stream",
     "text": [
      "Error with GOOG.OQ: No data available for the requested date range\n",
      "GOOG.OQ: No data available for the requested date range | \n"
     ]
    },
    {
     "name": "stdout",
     "output_type": "stream",
     "text": [
      "1005 :  GOOG.OQ\n"
     ]
    },
    {
     "name": "stderr",
     "output_type": "stream",
     "text": [
      "Error with GOOG.OQ: No data available for the requested date range\n",
      "GOOG.OQ: No data available for the requested date range | \n"
     ]
    },
    {
     "name": "stdout",
     "output_type": "stream",
     "text": [
      "1006 :  NAVI.OQ\n"
     ]
    },
    {
     "name": "stderr",
     "output_type": "stream",
     "text": [
      "Error with NAVI.OQ: No data available for the requested date range\n",
      "NAVI.OQ: No data available for the requested date range | \n",
      "Error with NAVI.OQ: No data available for the requested date range\n",
      "NAVI.OQ: No data available for the requested date range | \n",
      "Error with UAA.N: No data available for the requested date range\n"
     ]
    },
    {
     "name": "stdout",
     "output_type": "stream",
     "text": [
      "1007 :  UAA.N\n"
     ]
    },
    {
     "name": "stderr",
     "output_type": "stream",
     "text": [
      "UAA.N: No data available for the requested date range | \n"
     ]
    },
    {
     "name": "stdout",
     "output_type": "stream",
     "text": [
      "1008 :  AVGO.OQ\n"
     ]
    },
    {
     "name": "stderr",
     "output_type": "stream",
     "text": [
      "Error with AVGO.OQ: No data available for the requested date range\n",
      "AVGO.OQ: No data available for the requested date range | \n",
      "Error with AVGO.OQ: No data available for the requested date range\n",
      "AVGO.OQ: No data available for the requested date range | \n"
     ]
    },
    {
     "name": "stdout",
     "output_type": "stream",
     "text": [
      "1009 :  XEC.N\n"
     ]
    },
    {
     "name": "stderr",
     "output_type": "stream",
     "text": [
      "Error with XEC.N: No data available for the requested date range\n",
      "XEC.N: No data available for the requested date range | \n"
     ]
    },
    {
     "name": "stdout",
     "output_type": "stream",
     "text": [
      "1010 :  AMG.N\n",
      "1011 :  MLM.N\n"
     ]
    },
    {
     "name": "stderr",
     "output_type": "stream",
     "text": [
      "Error with DISCK.OQ: No data available for the requested date range\n"
     ]
    },
    {
     "name": "stdout",
     "output_type": "stream",
     "text": [
      "1012 :  DISCK.OQ\n"
     ]
    },
    {
     "name": "stderr",
     "output_type": "stream",
     "text": [
      "DISCK.OQ: No data available for the requested date range | \n"
     ]
    },
    {
     "name": "stdout",
     "output_type": "stream",
     "text": [
      "1013 :  MNK.N\n"
     ]
    },
    {
     "name": "stderr",
     "output_type": "stream",
     "text": [
      "Error with MNK.N: No data available for the requested date range\n",
      "MNK.N: No data available for the requested date range | \n",
      "Error with MNK.N: No data available for the requested date range\n",
      "MNK.N: No data available for the requested date range | \n"
     ]
    },
    {
     "name": "stdout",
     "output_type": "stream",
     "text": [
      "1014 :  URI.N\n",
      "1015 :  UHS.N\n",
      "1016 :  LVLT.N^K17\n",
      "1017 :  RCL.N\n",
      "1018 :  ENDP.OQ\n"
     ]
    },
    {
     "name": "stderr",
     "output_type": "stream",
     "text": [
      "Error with ENDP.OQ: No data available for the requested date range\n",
      "ENDP.OQ: No data available for the requested date range | \n",
      "Error with HCA.N: No data available for the requested date range\n"
     ]
    },
    {
     "name": "stdout",
     "output_type": "stream",
     "text": [
      "1019 :  HCA.N\n"
     ]
    },
    {
     "name": "stderr",
     "output_type": "stream",
     "text": [
      "HCA.N: No data available for the requested date range | \n",
      "Error with HCA.N: No data available for the requested date range\n",
      "HCA.N: No data available for the requested date range | \n"
     ]
    },
    {
     "name": "stdout",
     "output_type": "stream",
     "text": [
      "1020 :  SWKS.OQ\n",
      "1021 :  HSIC.OQ\n",
      "1022 :  EQIX.OQ\n"
     ]
    },
    {
     "name": "stderr",
     "output_type": "stream",
     "text": [
      "Error with EQIX.OQ: No data available for the requested date range\n",
      "EQIX.OQ: No data available for the requested date range | \n",
      "Error with HBI.N: No data available for the requested date range\n"
     ]
    },
    {
     "name": "stdout",
     "output_type": "stream",
     "text": [
      "1023 :  HBI.N\n"
     ]
    },
    {
     "name": "stderr",
     "output_type": "stream",
     "text": [
      "HBI.N: No data available for the requested date range | \n",
      "Error with AAL.OQ: No data available for the requested date range\n"
     ]
    },
    {
     "name": "stdout",
     "output_type": "stream",
     "text": [
      "1024 :  AAL.OQ\n"
     ]
    },
    {
     "name": "stderr",
     "output_type": "stream",
     "text": [
      "AAL.OQ: No data available for the requested date range | \n",
      "Error with AAL.OQ: No data available for the requested date range\n",
      "AAL.OQ: No data available for the requested date range | \n"
     ]
    },
    {
     "name": "stdout",
     "output_type": "stream",
     "text": [
      "1025 :  SLG.N\n",
      "1026 :  O.N\n",
      "1027 :  QRVO.OQ\n",
      "1028 :  BXLT.N^F16\n"
     ]
    },
    {
     "name": "stderr",
     "output_type": "stream",
     "text": [
      "Error with BXLT.N^F16: No data available for the requested date range\n",
      "BXLT.N^F16: No data available for the requested date range | \n",
      "Error with BXLT.N^F16: No data available for the requested date range\n",
      "BXLT.N^F16: No data available for the requested date range | \n"
     ]
    },
    {
     "name": "stdout",
     "output_type": "stream",
     "text": [
      "1029 :  JBHT.OQ\n",
      "1030 :  CPGX.N^G16\n"
     ]
    },
    {
     "name": "stderr",
     "output_type": "stream",
     "text": [
      "Error with CPGX.N^G16: No data available for the requested date range\n",
      "CPGX.N^G16: No data available for the requested date range | \n",
      "Error with CPGX.N^G16: No data available for the requested date range\n",
      "CPGX.N^G16: No data available for the requested date range | \n"
     ]
    },
    {
     "name": "stdout",
     "output_type": "stream",
     "text": [
      "1031 :  WRK.N\n"
     ]
    },
    {
     "name": "stderr",
     "output_type": "stream",
     "text": [
      "Error with WRK.N: No data available for the requested date range\n",
      "WRK.N: No data available for the requested date range | \n",
      "Error with WRK.N: No data available for the requested date range\n",
      "WRK.N: No data available for the requested date range | \n",
      "Error with KHC.OQ: No data available for the requested date range\n",
      "KHC.OQ: No data available for the requested date range | \n"
     ]
    },
    {
     "name": "stdout",
     "output_type": "stream",
     "text": [
      "1032 :  KHC.OQ\n"
     ]
    },
    {
     "name": "stderr",
     "output_type": "stream",
     "text": [
      "Error with KHC.OQ: No data available for the requested date range\n",
      "KHC.OQ: No data available for the requested date range | \n",
      "Error with AAP.N: No data available for the requested date range\n",
      "AAP.N: No data available for the requested date range | \n"
     ]
    },
    {
     "name": "stdout",
     "output_type": "stream",
     "text": [
      "1033 :  AAP.N\n"
     ]
    },
    {
     "name": "stderr",
     "output_type": "stream",
     "text": [
      "Error with PYPL.OQ: No data available for the requested date range\n",
      "PYPL.OQ: No data available for the requested date range | \n"
     ]
    },
    {
     "name": "stdout",
     "output_type": "stream",
     "text": [
      "1034 :  PYPL.OQ\n"
     ]
    },
    {
     "name": "stderr",
     "output_type": "stream",
     "text": [
      "Error with PYPL.OQ: No data available for the requested date range\n",
      "PYPL.OQ: No data available for the requested date range | \n"
     ]
    },
    {
     "name": "stdout",
     "output_type": "stream",
     "text": [
      "1035 :  SIG.N\n",
      "1036 :  ATVI.OQ\n",
      "1037 :  UAL.OQ\n"
     ]
    },
    {
     "name": "stderr",
     "output_type": "stream",
     "text": [
      "Error with UAL.OQ: No data available for the requested date range\n",
      "UAL.OQ: No data available for the requested date range | \n"
     ]
    },
    {
     "name": "stdout",
     "output_type": "stream",
     "text": [
      "1038 :  FOX.OQ\n"
     ]
    },
    {
     "name": "stderr",
     "output_type": "stream",
     "text": [
      "Error with NWS.OQ: No data available for the requested date range\n",
      "NWS.OQ: No data available for the requested date range | \n"
     ]
    },
    {
     "name": "stdout",
     "output_type": "stream",
     "text": [
      "1039 :  NWS.OQ\n"
     ]
    },
    {
     "name": "stderr",
     "output_type": "stream",
     "text": [
      "Error with NWS.OQ: No data available for the requested date range\n",
      "NWS.OQ: No data available for the requested date range | \n"
     ]
    },
    {
     "name": "stdout",
     "output_type": "stream",
     "text": [
      "1040 :  VRSK.OQ\n"
     ]
    },
    {
     "name": "stderr",
     "output_type": "stream",
     "text": [
      "Error with VRSK.OQ: No data available for the requested date range\n",
      "VRSK.OQ: No data available for the requested date range | \n",
      "Error with VRSK.OQ: No data available for the requested date range\n",
      "VRSK.OQ: No data available for the requested date range | \n"
     ]
    },
    {
     "name": "stdout",
     "output_type": "stream",
     "text": [
      "1041 :  HPE.N\n"
     ]
    },
    {
     "name": "stderr",
     "output_type": "stream",
     "text": [
      "Error with HPE.N: No data available for the requested date range\n",
      "HPE.N: No data available for the requested date range | \n",
      "Error with HPE.N: No data available for the requested date range\n",
      "HPE.N: No data available for the requested date range | \n"
     ]
    },
    {
     "name": "stdout",
     "output_type": "stream",
     "text": [
      "1042 :  FCPT.N\n"
     ]
    },
    {
     "name": "stderr",
     "output_type": "stream",
     "text": [
      "Error with FCPT.N: No data available for the requested date range\n",
      "FCPT.N: No data available for the requested date range | \n",
      "Error with FCPT.N: No data available for the requested date range\n",
      "FCPT.N: No data available for the requested date range | \n",
      "Error with SYF.N: No data available for the requested date range\n"
     ]
    },
    {
     "name": "stdout",
     "output_type": "stream",
     "text": [
      "1043 :  SYF.N\n"
     ]
    },
    {
     "name": "stderr",
     "output_type": "stream",
     "text": [
      "SYF.N: No data available for the requested date range | \n",
      "Error with SYF.N: No data available for the requested date range\n",
      "SYF.N: No data available for the requested date range | \n",
      "Error with ILMN.OQ: No data available for the requested date range\n"
     ]
    },
    {
     "name": "stdout",
     "output_type": "stream",
     "text": [
      "1044 :  ILMN.OQ\n"
     ]
    },
    {
     "name": "stderr",
     "output_type": "stream",
     "text": [
      "ILMN.OQ: No data available for the requested date range | \n"
     ]
    },
    {
     "name": "stdout",
     "output_type": "stream",
     "text": [
      "1045 :  CSRA.N^D18\n"
     ]
    },
    {
     "name": "stderr",
     "output_type": "stream",
     "text": [
      "Error with CSRA.N^D18: No data available for the requested date range\n",
      "CSRA.N^D18: No data available for the requested date range | \n",
      "Error with CSRA.N^D18: No data available for the requested date range\n",
      "CSRA.N^D18: No data available for the requested date range | \n"
     ]
    },
    {
     "name": "stdout",
     "output_type": "stream",
     "text": [
      "1046 :  CHD.N\n",
      "1047 :  WLTW.OQ\n"
     ]
    },
    {
     "name": "stderr",
     "output_type": "stream",
     "text": [
      "Error with WLTW.OQ: No data available for the requested date range\n",
      "WLTW.OQ: No data available for the requested date range | \n"
     ]
    },
    {
     "name": "stdout",
     "output_type": "stream",
     "text": [
      "1048 :  EXR.N\n"
     ]
    },
    {
     "name": "stderr",
     "output_type": "stream",
     "text": [
      "Error with EXR.N: No data available for the requested date range\n",
      "EXR.N: No data available for the requested date range | \n"
     ]
    },
    {
     "name": "stdout",
     "output_type": "stream",
     "text": [
      "1049 :  FRT.N\n",
      "1050 :  CFG.N\n"
     ]
    },
    {
     "name": "stderr",
     "output_type": "stream",
     "text": [
      "Error with CFG.N: No data available for the requested date range\n",
      "CFG.N: No data available for the requested date range | \n",
      "Error with CFG.N: No data available for the requested date range\n",
      "CFG.N: No data available for the requested date range | \n",
      "Error with CXO.N: No data available for the requested date range\n"
     ]
    },
    {
     "name": "stdout",
     "output_type": "stream",
     "text": [
      "1051 :  CXO.N\n"
     ]
    },
    {
     "name": "stderr",
     "output_type": "stream",
     "text": [
      "CXO.N: No data available for the requested date range | \n",
      "Error with AWK.N: No data available for the requested date range\n"
     ]
    },
    {
     "name": "stdout",
     "output_type": "stream",
     "text": [
      "1052 :  AWK.N\n"
     ]
    },
    {
     "name": "stderr",
     "output_type": "stream",
     "text": [
      "AWK.N: No data available for the requested date range | \n"
     ]
    },
    {
     "name": "stdout",
     "output_type": "stream",
     "text": [
      "1053 :  UDR.N\n",
      "1054 :  HOLX.OQ\n",
      "1055 :  CNC.N\n"
     ]
    },
    {
     "name": "stderr",
     "output_type": "stream",
     "text": [
      "Error with CNC.N: No data available for the requested date range\n",
      "CNC.N: No data available for the requested date range | \n"
     ]
    },
    {
     "name": "stdout",
     "output_type": "stream",
     "text": [
      "1056 :  UA.N\n"
     ]
    },
    {
     "name": "stderr",
     "output_type": "stream",
     "text": [
      "Error with UA.N: No data available for the requested date range\n",
      "UA.N: No data available for the requested date range | \n",
      "Error with UA.N: No data available for the requested date range\n",
      "UA.N: No data available for the requested date range | \n"
     ]
    },
    {
     "name": "stdout",
     "output_type": "stream",
     "text": [
      "1057 :  ULTA.OQ\n"
     ]
    },
    {
     "name": "stderr",
     "output_type": "stream",
     "text": [
      "Error with ULTA.OQ: No data available for the requested date range\n",
      "ULTA.OQ: No data available for the requested date range | \n"
     ]
    },
    {
     "name": "stdout",
     "output_type": "stream",
     "text": [
      "1058 :  GPN.N\n"
     ]
    },
    {
     "name": "stderr",
     "output_type": "stream",
     "text": [
      "Error with GPN.N: No data available for the requested date range\n",
      "GPN.N: No data available for the requested date range | \n",
      "Error with AYI.N: No data available for the requested date range\n"
     ]
    },
    {
     "name": "stdout",
     "output_type": "stream",
     "text": [
      "1059 :  AYI.N\n"
     ]
    },
    {
     "name": "stderr",
     "output_type": "stream",
     "text": [
      "AYI.N: No data available for the requested date range | \n"
     ]
    },
    {
     "name": "stdout",
     "output_type": "stream",
     "text": [
      "1060 :  ALK.N\n",
      "1061 :  IILGV.OQ^E16\n"
     ]
    },
    {
     "name": "stderr",
     "output_type": "stream",
     "text": [
      "Error with IILGV.OQ^E16: No data available for the requested date range\n",
      "IILGV.OQ^E16: No data available for the requested date range | \n",
      "Error with IILGV.OQ^E16: No data available for the requested date range\n",
      "IILGV.OQ^E16: No data available for the requested date range | \n",
      "Error with NGVT.N: No data available for the requested date range\n"
     ]
    },
    {
     "name": "stdout",
     "output_type": "stream",
     "text": [
      "1062 :  NGVT.N\n"
     ]
    },
    {
     "name": "stderr",
     "output_type": "stream",
     "text": [
      "NGVT.N: No data available for the requested date range | \n",
      "Error with NGVT.N: No data available for the requested date range\n",
      "NGVT.N: No data available for the requested date range | \n"
     ]
    },
    {
     "name": "stdout",
     "output_type": "stream",
     "text": [
      "1063 :  DLR.N\n"
     ]
    },
    {
     "name": "stderr",
     "output_type": "stream",
     "text": [
      "Error with DLR.N: No data available for the requested date range\n",
      "DLR.N: No data available for the requested date range | \n",
      "Error with LKQ.OQ: No data available for the requested date range\n"
     ]
    },
    {
     "name": "stdout",
     "output_type": "stream",
     "text": [
      "1064 :  LKQ.OQ\n"
     ]
    },
    {
     "name": "stderr",
     "output_type": "stream",
     "text": [
      "LKQ.OQ: No data available for the requested date range | \n"
     ]
    },
    {
     "name": "stdout",
     "output_type": "stream",
     "text": [
      "1065 :  AJG.N\n",
      "1066 :  TDG.N\n"
     ]
    },
    {
     "name": "stderr",
     "output_type": "stream",
     "text": [
      "Error with TDG.N: No data available for the requested date range\n",
      "TDG.N: No data available for the requested date range | \n"
     ]
    },
    {
     "name": "stdout",
     "output_type": "stream",
     "text": [
      "1067 :  FBHS.N\n"
     ]
    },
    {
     "name": "stderr",
     "output_type": "stream",
     "text": [
      "Error with FBHS.N: No data available for the requested date range\n",
      "FBHS.N: No data available for the requested date range | \n",
      "Error with FBHS.N: No data available for the requested date range\n",
      "FBHS.N: No data available for the requested date range | \n"
     ]
    },
    {
     "name": "stdout",
     "output_type": "stream",
     "text": [
      "1068 :  LNT.N\n",
      "1069 :  ALB.N\n",
      "1070 :  FTV.N\n"
     ]
    },
    {
     "name": "stderr",
     "output_type": "stream",
     "text": [
      "Error with FTV.N: No data available for the requested date range\n",
      "FTV.N: No data available for the requested date range | \n",
      "Error with FTV.N: No data available for the requested date range\n",
      "FTV.N: No data available for the requested date range | \n"
     ]
    },
    {
     "name": "stdout",
     "output_type": "stream",
     "text": [
      "1071 :  MTD.N\n"
     ]
    },
    {
     "name": "stderr",
     "output_type": "stream",
     "text": [
      "Error with DVMT.N: No data available for the requested date range\n",
      "DVMT.N: No data available for the requested date range | \n"
     ]
    },
    {
     "name": "stdout",
     "output_type": "stream",
     "text": [
      "1072 :  DVMT.N\n"
     ]
    },
    {
     "name": "stderr",
     "output_type": "stream",
     "text": [
      "Error with DVMT.N: No data available for the requested date range\n",
      "DVMT.N: No data available for the requested date range | \n",
      "Error with CHTR.OQ: No data available for the requested date range\n"
     ]
    },
    {
     "name": "stdout",
     "output_type": "stream",
     "text": [
      "1073 :  CHTR.OQ\n"
     ]
    },
    {
     "name": "stderr",
     "output_type": "stream",
     "text": [
      "CHTR.OQ: No data available for the requested date range | \n",
      "Error with CHTR.OQ: No data available for the requested date range\n",
      "CHTR.OQ: No data available for the requested date range | \n"
     ]
    },
    {
     "name": "stdout",
     "output_type": "stream",
     "text": [
      "1074 :  COO.N\n"
     ]
    },
    {
     "name": "stderr",
     "output_type": "stream",
     "text": [
      "Error with COTY.N: No data available for the requested date range\n",
      "COTY.N: No data available for the requested date range | \n"
     ]
    },
    {
     "name": "stdout",
     "output_type": "stream",
     "text": [
      "1075 :  COTY.N\n"
     ]
    },
    {
     "name": "stderr",
     "output_type": "stream",
     "text": [
      "Error with COTY.N: No data available for the requested date range\n",
      "COTY.N: No data available for the requested date range | \n"
     ]
    },
    {
     "name": "stdout",
     "output_type": "stream",
     "text": [
      "1076 :  VSM.N\n"
     ]
    },
    {
     "name": "stderr",
     "output_type": "stream",
     "text": [
      "Error with VSM.N: No data available for the requested date range\n",
      "VSM.N: No data available for the requested date range | \n",
      "Error with VSM.N: No data available for the requested date range\n",
      "VSM.N: No data available for the requested date range | \n",
      "Error with ASIX.N: No data available for the requested date range\n",
      "ASIX.N: No data available for the requested date range | \n"
     ]
    },
    {
     "name": "stdout",
     "output_type": "stream",
     "text": [
      "1077 :  ASIX.N\n"
     ]
    },
    {
     "name": "stderr",
     "output_type": "stream",
     "text": [
      "Error with ASIX.N: No data available for the requested date range\n",
      "ASIX.N: No data available for the requested date range | \n"
     ]
    },
    {
     "name": "stdout",
     "output_type": "stream",
     "text": [
      "1078 :  ADNT.N\n"
     ]
    },
    {
     "name": "stderr",
     "output_type": "stream",
     "text": [
      "Error with ADNT.N: No data available for the requested date range\n",
      "ADNT.N: No data available for the requested date range | \n",
      "Error with ADNT.N: No data available for the requested date range\n",
      "ADNT.N: No data available for the requested date range | \n",
      "Error with AA.N: No data available for the requested date range\n",
      "AA.N: No data available for the requested date range | \n"
     ]
    },
    {
     "name": "stdout",
     "output_type": "stream",
     "text": [
      "1079 :  AA.N\n"
     ]
    },
    {
     "name": "stderr",
     "output_type": "stream",
     "text": [
      "Error with AA.N: No data available for the requested date range\n",
      "AA.N: No data available for the requested date range | \n",
      "Error with YUMC.N: No data available for the requested date range\n"
     ]
    },
    {
     "name": "stdout",
     "output_type": "stream",
     "text": [
      "1080 :  YUMC.N\n"
     ]
    },
    {
     "name": "stderr",
     "output_type": "stream",
     "text": [
      "YUMC.N: No data available for the requested date range | \n",
      "Error with YUMC.N: No data available for the requested date range\n",
      "YUMC.N: No data available for the requested date range | \n"
     ]
    },
    {
     "name": "stdout",
     "output_type": "stream",
     "text": [
      "1081 :  QCP.N^G18\n"
     ]
    },
    {
     "name": "stderr",
     "output_type": "stream",
     "text": [
      "Error with QCP.N^G18: No data available for the requested date range\n",
      "QCP.N^G18: No data available for the requested date range | \n",
      "Error with QCP.N^G18: No data available for the requested date range\n",
      "QCP.N^G18: No data available for the requested date range | \n"
     ]
    },
    {
     "name": "stdout",
     "output_type": "stream",
     "text": [
      "1082 :  LW.N\n"
     ]
    },
    {
     "name": "stderr",
     "output_type": "stream",
     "text": [
      "Error with LW.N: No data available for the requested date range\n",
      "LW.N: No data available for the requested date range | \n",
      "Error with LW.N: No data available for the requested date range\n",
      "LW.N: No data available for the requested date range | \n"
     ]
    },
    {
     "name": "stdout",
     "output_type": "stream",
     "text": [
      "1083 :  EVHC.N^L16\n"
     ]
    },
    {
     "name": "stderr",
     "output_type": "stream",
     "text": [
      "Error with EVHC.N^L16: No data available for the requested date range\n",
      "EVHC.N^L16: No data available for the requested date range | \n",
      "Error with EVHC.N^L16: No data available for the requested date range\n",
      "EVHC.N^L16: No data available for the requested date range | \n"
     ]
    },
    {
     "name": "stdout",
     "output_type": "stream",
     "text": [
      "1084 :  EVHC.N^J18\n",
      "1085 :  MAA.N\n"
     ]
    },
    {
     "name": "stderr",
     "output_type": "stream",
     "text": [
      "Error with CNDT.N: No data available for the requested date range\n"
     ]
    },
    {
     "name": "stdout",
     "output_type": "stream",
     "text": [
      "1086 :  CNDT.N\n"
     ]
    },
    {
     "name": "stderr",
     "output_type": "stream",
     "text": [
      "CNDT.N: No data available for the requested date range | \n",
      "Error with CNDT.N: No data available for the requested date range\n",
      "CNDT.N: No data available for the requested date range | \n"
     ]
    },
    {
     "name": "stdout",
     "output_type": "stream",
     "text": [
      "1087 :  IDXX.OQ\n",
      "1088 :  VREX.OQ\n"
     ]
    },
    {
     "name": "stderr",
     "output_type": "stream",
     "text": [
      "Error with VREX.OQ: No data available for the requested date range\n",
      "VREX.OQ: No data available for the requested date range | \n",
      "Error with VREX.OQ: No data available for the requested date range\n",
      "VREX.OQ: No data available for the requested date range | \n"
     ]
    },
    {
     "name": "stdout",
     "output_type": "stream",
     "text": [
      "1089 :  BIVV.OQ^C18\n"
     ]
    },
    {
     "name": "stderr",
     "output_type": "stream",
     "text": [
      "Error with BIVV.OQ^C18: No data available for the requested date range\n",
      "BIVV.OQ^C18: No data available for the requested date range | \n",
      "Error with BIVV.OQ^C18: No data available for the requested date range\n",
      "BIVV.OQ^C18: No data available for the requested date range | \n"
     ]
    },
    {
     "name": "stdout",
     "output_type": "stream",
     "text": [
      "1090 :  INCY.OQ\n",
      "1091 :  CBOE.Z\n"
     ]
    },
    {
     "name": "stderr",
     "output_type": "stream",
     "text": [
      "Error with CBOE.Z: No data available for the requested date range\n",
      "CBOE.Z: No data available for the requested date range | \n",
      "Error with CBOE.Z: No data available for the requested date range\n",
      "CBOE.Z: No data available for the requested date range | \n"
     ]
    },
    {
     "name": "stdout",
     "output_type": "stream",
     "text": [
      "1092 :  REG.OQ\n",
      "1093 :  DISH.OQ\n",
      "1094 :  SNPS.OQ\n",
      "1095 :  RJF.N\n",
      "1096 :  ARE.N\n",
      "1097 :  IT.N\n",
      "1098 :  CARS.N\n"
     ]
    },
    {
     "name": "stderr",
     "output_type": "stream",
     "text": [
      "Error with CARS.N: No data available for the requested date range\n",
      "CARS.N: No data available for the requested date range | \n",
      "Error with CARS.N: No data available for the requested date range\n",
      "CARS.N: No data available for the requested date range | \n",
      "Error with INFO.OQ: No data available for the requested date range\n",
      "INFO.OQ: No data available for the requested date range | \n"
     ]
    },
    {
     "name": "stdout",
     "output_type": "stream",
     "text": [
      "1099 :  INFO.OQ\n"
     ]
    },
    {
     "name": "stderr",
     "output_type": "stream",
     "text": [
      "Error with INFO.OQ: No data available for the requested date range\n",
      "INFO.OQ: No data available for the requested date range | \n"
     ]
    },
    {
     "name": "stdout",
     "output_type": "stream",
     "text": [
      "1100 :  ALGN.OQ\n"
     ]
    },
    {
     "name": "stderr",
     "output_type": "stream",
     "text": [
      "Error with ALGN.OQ: No data available for the requested date range\n",
      "ALGN.OQ: No data available for the requested date range | \n",
      "Error with HLT.N: No data available for the requested date range\n",
      "HLT.N: No data available for the requested date range | \n"
     ]
    },
    {
     "name": "stdout",
     "output_type": "stream",
     "text": [
      "1101 :  HLT.N\n"
     ]
    },
    {
     "name": "stderr",
     "output_type": "stream",
     "text": [
      "Error with HLT.N: No data available for the requested date range\n",
      "HLT.N: No data available for the requested date range | \n"
     ]
    },
    {
     "name": "stdout",
     "output_type": "stream",
     "text": [
      "1102 :  RE.N\n",
      "1103 :  ANSS.OQ\n"
     ]
    },
    {
     "name": "stderr",
     "output_type": "stream",
     "text": [
      "Error with JBGS.N: No data available for the requested date range\n"
     ]
    },
    {
     "name": "stdout",
     "output_type": "stream",
     "text": [
      "1104 :  JBGS.N\n"
     ]
    },
    {
     "name": "stderr",
     "output_type": "stream",
     "text": [
      "JBGS.N: No data available for the requested date range | \n",
      "Error with JBGS.N: No data available for the requested date range\n",
      "JBGS.N: No data available for the requested date range | \n"
     ]
    },
    {
     "name": "stdout",
     "output_type": "stream",
     "text": [
      "1105 :  PKG.N\n"
     ]
    },
    {
     "name": "stderr",
     "output_type": "stream",
     "text": [
      "Error with PKG.N: No data available for the requested date range\n",
      "PKG.N: No data available for the requested date range | \n"
     ]
    },
    {
     "name": "stdout",
     "output_type": "stream",
     "text": [
      "1106 :  MGM.N\n",
      "1107 :  AOS.N\n",
      "1108 :  RMD.N\n"
     ]
    },
    {
     "name": "stderr",
     "output_type": "stream",
     "text": [
      "Error with RMD.N: No data available for the requested date range\n",
      "RMD.N: No data available for the requested date range | \n"
     ]
    },
    {
     "name": "stdout",
     "output_type": "stream",
     "text": [
      "1109 :  DRE.N\n",
      "1110 :  BHF.OQ\n"
     ]
    },
    {
     "name": "stderr",
     "output_type": "stream",
     "text": [
      "Error with BHF.OQ: No data available for the requested date range\n",
      "BHF.OQ: No data available for the requested date range | \n",
      "Error with BHF.OQ: No data available for the requested date range\n",
      "BHF.OQ: No data available for the requested date range | \n"
     ]
    },
    {
     "name": "stdout",
     "output_type": "stream",
     "text": [
      "1111 :  IQV.N\n"
     ]
    },
    {
     "name": "stderr",
     "output_type": "stream",
     "text": [
      "Error with IQV.N: No data available for the requested date range\n",
      "IQV.N: No data available for the requested date range | \n",
      "Error with IQV.N: No data available for the requested date range\n",
      "IQV.N: No data available for the requested date range | \n"
     ]
    },
    {
     "name": "stdout",
     "output_type": "stream",
     "text": [
      "1112 :  SBAC.OQ\n"
     ]
    },
    {
     "name": "stderr",
     "output_type": "stream",
     "text": [
      "Error with SBAC.OQ: No data available for the requested date range\n",
      "SBAC.OQ: No data available for the requested date range | \n"
     ]
    },
    {
     "name": "stdout",
     "output_type": "stream",
     "text": [
      "1113 :  DWDP.N\n"
     ]
    },
    {
     "name": "stderr",
     "output_type": "stream",
     "text": [
      "Error with DWDP.N: No data available for the requested date range\n",
      "DWDP.N: No data available for the requested date range | \n",
      "Error with DWDP.N: No data available for the requested date range\n",
      "DWDP.N: No data available for the requested date range | \n"
     ]
    },
    {
     "name": "stdout",
     "output_type": "stream",
     "text": [
      "1114 :  CDNS.OQ\n"
     ]
    },
    {
     "name": "stderr",
     "output_type": "stream",
     "text": [
      "Error with NCLH.N: No data available for the requested date range\n"
     ]
    },
    {
     "name": "stdout",
     "output_type": "stream",
     "text": [
      "1115 :  NCLH.N\n"
     ]
    },
    {
     "name": "stderr",
     "output_type": "stream",
     "text": [
      "NCLH.N: No data available for the requested date range | \n",
      "Error with NCLH.N: No data available for the requested date range\n",
      "NCLH.N: No data available for the requested date range | \n"
     ]
    },
    {
     "name": "stdout",
     "output_type": "stream",
     "text": [
      "1116 :  DLPH.N\n"
     ]
    },
    {
     "name": "stderr",
     "output_type": "stream",
     "text": [
      "Error with DLPH.N: No data available for the requested date range\n",
      "DLPH.N: No data available for the requested date range | \n",
      "Error with DLPH.N: No data available for the requested date range\n",
      "DLPH.N: No data available for the requested date range | \n"
     ]
    },
    {
     "name": "stdout",
     "output_type": "stream",
     "text": [
      "1117 :  HII.N\n"
     ]
    },
    {
     "name": "stderr",
     "output_type": "stream",
     "text": [
      "Error with HII.N: No data available for the requested date range\n",
      "HII.N: No data available for the requested date range | \n",
      "Error with HII.N: No data available for the requested date range\n",
      "HII.N: No data available for the requested date range | \n",
      "Error with IPGP.OQ: No data available for the requested date range\n"
     ]
    },
    {
     "name": "stdout",
     "output_type": "stream",
     "text": [
      "1118 :  IPGP.OQ\n"
     ]
    },
    {
     "name": "stderr",
     "output_type": "stream",
     "text": [
      "IPGP.OQ: No data available for the requested date range | \n"
     ]
    },
    {
     "name": "stdout",
     "output_type": "stream",
     "text": [
      "1119 :  SIVB.OQ\n",
      "1120 :  NKTR.OQ\n",
      "1121 :  TTWO.OQ\n"
     ]
    },
    {
     "name": "stderr",
     "output_type": "stream",
     "text": [
      "Error with MSCI.N: No data available for the requested date range\n",
      "MSCI.N: No data available for the requested date range | \n"
     ]
    },
    {
     "name": "stdout",
     "output_type": "stream",
     "text": [
      "1122 :  MSCI.N\n",
      "1123 :  NVT.N\n"
     ]
    },
    {
     "name": "stderr",
     "output_type": "stream",
     "text": [
      "Error with NVT.N: No data available for the requested date range\n",
      "NVT.N: No data available for the requested date range | \n",
      "Error with NVT.N: No data available for the requested date range\n",
      "NVT.N: No data available for the requested date range | \n"
     ]
    },
    {
     "name": "stdout",
     "output_type": "stream",
     "text": [
      "1124 :  APY.N\n"
     ]
    },
    {
     "name": "stderr",
     "output_type": "stream",
     "text": [
      "Error with APY.N: No data available for the requested date range\n",
      "APY.N: No data available for the requested date range | \n",
      "Error with APY.N: No data available for the requested date range\n",
      "APY.N: No data available for the requested date range | \n"
     ]
    },
    {
     "name": "stdout",
     "output_type": "stream",
     "text": [
      "1125 :  ABMD.OQ\n",
      "1126 :  PRSP.N\n"
     ]
    },
    {
     "name": "stderr",
     "output_type": "stream",
     "text": [
      "Error with PRSP.N: No data available for the requested date range\n",
      "PRSP.N: No data available for the requested date range | \n",
      "Error with PRSP.N: No data available for the requested date range\n",
      "PRSP.N: No data available for the requested date range | \n"
     ]
    },
    {
     "name": "stdout",
     "output_type": "stream",
     "text": [
      "1127 :  EVRG.N\n"
     ]
    },
    {
     "name": "stderr",
     "output_type": "stream",
     "text": [
      "Error with TWTR.N: No data available for the requested date range\n",
      "TWTR.N: No data available for the requested date range | \n"
     ]
    },
    {
     "name": "stdout",
     "output_type": "stream",
     "text": [
      "1128 :  TWTR.N\n"
     ]
    },
    {
     "name": "stderr",
     "output_type": "stream",
     "text": [
      "Error with TWTR.N: No data available for the requested date range\n",
      "TWTR.N: No data available for the requested date range | \n"
     ]
    },
    {
     "name": "stdout",
     "output_type": "stream",
     "text": [
      "1129 :  BR.N\n"
     ]
    },
    {
     "name": "stderr",
     "output_type": "stream",
     "text": [
      "Error with BR.N: No data available for the requested date range\n",
      "BR.N: No data available for the requested date range | \n"
     ]
    },
    {
     "name": "stdout",
     "output_type": "stream",
     "text": [
      "1130 :  HFC.N\n",
      "1131 :  FLT.N\n"
     ]
    },
    {
     "name": "stderr",
     "output_type": "stream",
     "text": [
      "Error with FLT.N: No data available for the requested date range\n",
      "FLT.N: No data available for the requested date range | \n",
      "Error with FLT.N: No data available for the requested date range\n",
      "FLT.N: No data available for the requested date range | \n"
     ]
    },
    {
     "name": "stdout",
     "output_type": "stream",
     "text": [
      "1132 :  CPRT.OQ\n",
      "1133 :  ANET.N\n"
     ]
    },
    {
     "name": "stderr",
     "output_type": "stream",
     "text": [
      "Error with ANET.N: No data available for the requested date range\n",
      "ANET.N: No data available for the requested date range | \n",
      "Error with ANET.N: No data available for the requested date range\n",
      "ANET.N: No data available for the requested date range | \n",
      "Error with WCG.N: No data available for the requested date range\n"
     ]
    },
    {
     "name": "stdout",
     "output_type": "stream",
     "text": [
      "1134 :  WCG.N\n"
     ]
    },
    {
     "name": "stderr",
     "output_type": "stream",
     "text": [
      "WCG.N: No data available for the requested date range | \n"
     ]
    },
    {
     "name": "stdout",
     "output_type": "stream",
     "text": [
      "1135 :  GTX.N\n"
     ]
    },
    {
     "name": "stderr",
     "output_type": "stream",
     "text": [
      "Error with GTX.N: No data available for the requested date range\n",
      "GTX.N: No data available for the requested date range | \n",
      "Error with GTX.N: No data available for the requested date range\n",
      "GTX.N: No data available for the requested date range | \n"
     ]
    },
    {
     "name": "stdout",
     "output_type": "stream",
     "text": [
      "1136 :  ROL.N\n",
      "1137 :  FTNT.OQ\n"
     ]
    },
    {
     "name": "stderr",
     "output_type": "stream",
     "text": [
      "Error with FTNT.OQ: No data available for the requested date range\n",
      "FTNT.OQ: No data available for the requested date range | \n",
      "Error with FTNT.OQ: No data available for the requested date range\n",
      "FTNT.OQ: No data available for the requested date range | \n",
      "Error with REZI.N: No data available for the requested date range\n"
     ]
    },
    {
     "name": "stdout",
     "output_type": "stream",
     "text": [
      "1138 :  REZI.N\n"
     ]
    },
    {
     "name": "stderr",
     "output_type": "stream",
     "text": [
      "REZI.N: No data available for the requested date range | \n",
      "Error with REZI.N: No data available for the requested date range\n",
      "REZI.N: No data available for the requested date range | \n"
     ]
    },
    {
     "name": "stdout",
     "output_type": "stream",
     "text": [
      "1139 :  KEYS.N\n"
     ]
    },
    {
     "name": "stderr",
     "output_type": "stream",
     "text": [
      "Error with KEYS.N: No data available for the requested date range\n",
      "KEYS.N: No data available for the requested date range | \n",
      "Error with KEYS.N: No data available for the requested date range\n",
      "KEYS.N: No data available for the requested date range | \n"
     ]
    },
    {
     "name": "stdout",
     "output_type": "stream",
     "text": [
      "1140 :  JKHY.OQ\n",
      "1141 :  FANG.OQ\n"
     ]
    },
    {
     "name": "stderr",
     "output_type": "stream",
     "text": [
      "Error with FANG.OQ: No data available for the requested date range\n",
      "FANG.OQ: No data available for the requested date range | \n",
      "Error with FANG.OQ: No data available for the requested date range\n",
      "FANG.OQ: No data available for the requested date range | \n"
     ]
    },
    {
     "name": "stdout",
     "output_type": "stream",
     "text": [
      "1142 :  MXIM.OQ\n"
     ]
    },
    {
     "name": "stderr",
     "output_type": "stream",
     "text": [
      "Error with MXIM.OQ: No data available for the requested date range\n",
      "MXIM.OQ: No data available for the requested date range | \n",
      "Error with FTI.N: No data available for the requested date range\n",
      "FTI.N: No data available for the requested date range | \n"
     ]
    },
    {
     "name": "stdout",
     "output_type": "stream",
     "text": [
      "1143 :  FTI.N\n"
     ]
    },
    {
     "name": "stderr",
     "output_type": "stream",
     "text": [
      "Error with FTI.N: No data available for the requested date range\n",
      "FTI.N: No data available for the requested date range | \n"
     ]
    }
   ],
   "source": [
    "n=test_ljc.shape[0]\n",
    "for i in range(25, n):\n",
    "    print(i, ': ', test_ljc.iloc[i][2])\n",
    "    file_exist = False\n",
    "    try:\n",
    "        timeseries = ek.get_timeseries([test_ljc.iloc[i][2]], \n",
    "                           start_date=\"1990-01-01\",  \n",
    "                           end_date=\"1998-12-31\")\n",
    "        if timeseries.shape[0] > 0:\n",
    "            timeseries.to_csv(\"C:/Users/gp1396/Desktop/stock prices historic/\"+test_ljc.iloc[i][2]+\".csv\", index = True)\n",
    "            file_exist = True\n",
    "    except Exception as exc:\n",
    "        if 'No data available for the requested date range' in str(exc):\n",
    "            pass\n",
    "        else:\n",
    "            i -= 1\n",
    "            continue\n",
    "        \n",
    "    time.sleep(1)\n",
    "    try:\n",
    "        timeseries = ek.get_timeseries([test_ljc.iloc[i][2]], \n",
    "                           start_date=\"1999-01-01\",  \n",
    "                           end_date=\"2008-12-31\")\n",
    "        if timeseries.shape[0] > 0:\n",
    "            if file_exist:\n",
    "                timeseries.to_csv(\"C:/Users/gp1396/Desktop/stock prices historic/\"+test_ljc.iloc[i][2]+\".csv\", index = True, header = False, mode = 'a')\n",
    "            else:\n",
    "                timeseries.to_csv(\"C:/Users/gp1396/Desktop/stock prices historic/\"+test_ljc.iloc[i][2]+\".csv\", index = True)\n",
    "                file_exist = True\n",
    "    except Exception as exc:\n",
    "        if 'No data available for the requested date range' in str(exc):\n",
    "            pass\n",
    "        else:\n",
    "            i -= 1\n",
    "            continue\n",
    "        \n",
    "    time.sleep(1)\n",
    "    try:\n",
    "        timeseries = ek.get_timeseries([test_ljc.iloc[i][2]], \n",
    "                           start_date=\"2009-01-01\",  \n",
    "                           end_date=\"2018-12-20\")\n",
    "        if timeseries.shape[0] > 0:\n",
    "            if file_exist:\n",
    "                timeseries.to_csv(\"C:/Users/gp1396/Desktop/stock prices historic/\"+test_ljc.iloc[i][2]+\".csv\", index = True, header = False, mode = 'a')\n",
    "            else:\n",
    "                timeseries.to_csv(\"C:/Users/gp1396/Desktop/stock prices historic/\"+test_ljc.iloc[i][2]+\".csv\", index = True)\n",
    "                file_exist = True\n",
    "    except Exception as exc:\n",
    "        if 'No data available for the requested date range' in str(exc):\n",
    "            pass\n",
    "        else:\n",
    "            i -= 1\n",
    "            continue\n",
    "    time.sleep(1)"
   ]
  },
  {
   "cell_type": "code",
   "execution_count": 179,
   "metadata": {},
   "outputs": [],
   "source": [
    "    timeseries = ek.get_timeseries(['MDP'], \n",
    "                       start_date=\"2007-01-25\",  \n",
    "                       end_date=\"2018-12-20\", count = 10000, interval = 'daily')\n",
    "    timeseries.to_csv(\"C:/Users/gp1396/Desktop/MDP.csv\", index = True, mode = 'a')"
   ]
  },
  {
   "cell_type": "code",
   "execution_count": 175,
   "metadata": {},
   "outputs": [
    {
     "ename": "SyntaxError",
     "evalue": "positional argument follows keyword argument (<ipython-input-175-232820e7c65e>, line 1)",
     "output_type": "error",
     "traceback": [
      "\u001b[1;36m  File \u001b[1;32m\"<ipython-input-175-232820e7c65e>\"\u001b[1;36m, line \u001b[1;32m1\u001b[0m\n\u001b[1;33m    timeseries = ek.get_timeseries('MDP','*',start_date = '1930-03-21T01:00:00', end_date='2017-03-24T00:00:00','daily')\u001b[0m\n\u001b[1;37m                                                                                                               ^\u001b[0m\n\u001b[1;31mSyntaxError\u001b[0m\u001b[1;31m:\u001b[0m positional argument follows keyword argument\n"
     ]
    }
   ],
   "source": []
  },
  {
   "cell_type": "code",
   "execution_count": null,
   "metadata": {},
   "outputs": [],
   "source": []
  }
 ],
 "metadata": {
  "kernelspec": {
   "display_name": "Python 3",
   "language": "python",
   "name": "python3"
  },
  "language_info": {
   "codemirror_mode": {
    "name": "ipython",
    "version": 3
   },
   "file_extension": ".py",
   "mimetype": "text/x-python",
   "name": "python",
   "nbconvert_exporter": "python",
   "pygments_lexer": "ipython3",
   "version": "3.6.8"
  }
 },
 "nbformat": 4,
 "nbformat_minor": 2
}
