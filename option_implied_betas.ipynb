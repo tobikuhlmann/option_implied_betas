{
 "cells": [
  {
   "cell_type": "markdown",
   "metadata": {
    "nbpresent": {
     "id": "28ea5f66-c563-4046-a48e-8d0ff213383c"
    }
   },
   "source": [
    "Tobias Kuhlmann, Karlsruhe Institute of Technology (KIT), tobias.kuhlmann@student.kit.edu"
   ]
  },
  {
   "cell_type": "code",
   "execution_count": 51,
   "metadata": {
    "nbpresent": {
     "id": "e253a17a-6fc8-4eea-97a8-b21f61fec87a"
    }
   },
   "outputs": [],
   "source": [
    "%matplotlib inline\n",
    "\n",
    "import numpy as np\n",
    "import pylab as pl\n",
    "import pandas as pd\n",
    "import matplotlib.pyplot as plt\n",
    "\n",
    "import datetime as dt\n"
   ]
  },
  {
   "cell_type": "markdown",
   "metadata": {
    "nbpresent": {
     "id": "8327563f-b6f8-4bdf-8b9b-c1157484f08c"
    }
   },
   "source": [
    "## Option implied betas following Buss and Vilkov (2012)\n",
    "Implements calculation of option implied correlations following Buss, A. and Vilkov, G., 2012. Measuring equity risk with option-implied correlations. The Review of Financial Studies, 25(10), pp.3113-3140.\n"
   ]
  },
  {
   "cell_type": "markdown",
   "metadata": {
    "nbpresent": {
     "id": "5c0f31fc-002e-4154-92fd-2c2f0f1b77c0"
    }
   },
   "source": [
    "## Idea\n",
    "\n",
    "Buss and Vilkov use forward-looking information from option prices to estimate option-implied correlations and to construct an option-implied predictor of factor betas. All of that under risk neutral probability measure.\n",
    "\n",
    "##### General comments: \n",
    "- Only using historical information implies that the future is sufficiently similar to the past, which is questionable in financial markets -> Need for option implied information as they are forward-looking and traded, which means they include current market expectations. Use of option implied information may improve predictive quality\n",
    "- Variance risk premium: Overinsurance of volatility risk -> Implied volatility is higher in magnitude than realized volatility\n",
    " - Intuition: Investors are also willing to pay a risk premium to hedge against changes in variance (rising variance)\n",
    "- Correlation risk premium: Premium for uncertainty of future correlation. Need to insure future correlation, as a rise in correlation reduces diversification benefits. Underlying uncertainty: Correlations go crazy in crises -> Not much diversification in large market downturns and systemic crises, except with short positions. Result is that option-implied correlations are higher than realized.\n",
    " - Intuition: Investors are also willing to pay a risk premium to hedge against changes in correlations\n",
    " \n",
    "##### Risk neutral vs realized repetition\n",
    "- Option implied measures are under risk neutral probability measure, which differs from realized / objective probability measure because of variance and correlation risk premium. Risk premia makes risk neutral moments biased predictors of realized moments. \n",
    "- Option implied correlations not directly observable, needs modeling choice -> parametric with assumptions\n",
    "\n",
    "##### Technical conditions of correlation matrix\n",
    "1. Propose a parametric way to estimate implied correlations not exceeding one\n",
    "2. correlation risk premium is negative (so consistent with the literature)\n",
    "3. correlation risk premium is higher in magnitude for low or negatively correlated stocks that are exposed to a higher risk of losing diversification benefits (so consistent with literature)\n",
    "4. Correlation matrix should be consistent with empirical observations\n",
    "    - Implied correlation is higher than realized\n",
    "    - Correlation risk premium is larger in magnitude for pairs of stocks that provide higher diversification benefits (negative and low correlation)"
   ]
  },
  {
   "cell_type": "markdown",
   "metadata": {
    "nbpresent": {
     "id": "93906692-5a50-4388-bb94-7a4464efe562"
    }
   },
   "source": [
    "## Theoretical implementation steps\n",
    "\n",
    "##### Goal\n",
    "- Implied correlation matrix $\\Gamma^{Q}_{t}$ with elements $\\rho^{Q}_{ij,t}$\n",
    "- Implied betas $\\beta^{Q}_{iM,t}$ calculated from implied correlations\n",
    "\n",
    "##### Implied variance of market index\n",
    "Observed implied variance of market index \n",
    "$$(\\sigma^{Q}_{M,t})^2 = \\sum_{i=1}^{N}\\sum_{j=1}^{N}{w_iw_j\\sigma^{Q}_{i,t}\\sigma^{Q}_{j,t}\\rho^{Q}_{ij,t}}$$\n",
    " \n",
    "where $\\sigma^{Q}_{i,t}$ is implied volatility of stock i in the index and $w_i$ are index weights\n",
    " \n",
    "##### Parametric form of implied correlations $\\rho^{Q}_{ij,t}$\n",
    "$$\\rho^{Q}_{ij,t} = \\rho^{P}_{ij,t} - \\alpha_t(1-\\rho^{P}_{ij,t})$$\n",
    " \n",
    "where $\\rho^{P}_{ij,t}$ is expected correlation under objective measure (realized), $\\alpha_t$ needs to be identified\n",
    "\n",
    "##### Identify $\\alpha_t$ in closed form\n",
    "$$\\alpha_t = \\frac{(\\sigma^{Q}_{M,t})^2-\\sum_{i=1}^{N}\\sum_{j=1}^{N}{w_iw_j\\sigma^{Q}_{i,t}\\sigma^{Q}_{j,t}\\rho^{P}_{ij,t}}}{\\sum_{i=1}^{N}\\sum_{j=1}^{N}{w_iw_j\\sigma^{Q}_{i,t}\\sigma^{Q}_{j,t}(1-\\rho^{P}_{ij,t})}}$$\n",
    "\n",
    "To satisfy above conditions: $-1\\leq\\alpha_t\\leq0$\n",
    "\n",
    "##### Calculate market betas $\\beta_{ik,t}$ with option implied correlation\n",
    "$$\\beta^{Q}_{iM,t} = \\frac{\\sigma^{Q}_{i,t}\\sum_{j=1}^{N}{w_j\\sigma^{Q}_{j,t}\\rho_{ij,t}}}{(\\sigma^{Q}_{M,t})^2}$$\n",
    "\n",
    "For a multifactor model with multiple non-correlated factors, the beta $\\beta_{ik,t}$, where $i$ is the stock and $k$ the factor, can be calulated as the ratio of stock-to-factor covariance $\\sigma_{ik,t}$ to the factor variance $\\sigma^{2}_{k,t}$. $\\rho_{ij,t}$ is the pairwise stock correlation, $\\sigma_{j,t}$ stock volatilities, and $w_j$ the factor-mimicking portfolio weights.\n",
    " \n",
    " \n",
    " "
   ]
  },
  {
   "cell_type": "code",
   "execution_count": null,
   "metadata": {},
   "outputs": [],
   "source": []
  },
  {
   "cell_type": "markdown",
   "metadata": {},
   "source": [
    "## Data\n",
    "\n",
    "##### Data needed\n",
    "- Return time series to calculate stock-stock correlations $\\rho^{P}_{ij,t}$\n",
    "- Stock weights in index over time (time-varying or time-invariant?)\n",
    "- Implied volatilities of every single stock i $\\sigma^{Q}_{i,t}$\n",
    "- Implied volatilities of Index $\\sigma^{Q}_{M,t}$\n",
    "- Use stock-stock correlations, implied volatilities of single stocks and index implied volatility to calculate $\\alpha_t$\n",
    "\n",
    "\n",
    "##### Description of Vilkov: http://www.vilkov.net/codedata.html\n",
    "- :market_betas_1996_2009.mat contains the betas themselves (6 different beta methodologies, time vector dt, and IDs vector permno) in a structure betas. \n",
    "All betas are aligned to the same timeline in time vector dt. \n",
    "In the paper we used the betas in fields impl_daily_251d_mfiv, impl_monthly_60m_mfiv for implied and hist_daily_251d, and hist_monthly_60m for historical.  \n",
    "- :id_dt.mat contains the time vector dt, and the vectors of IDs (PERMNO from CRSP), the first PERMNO = 999999 is market itself (SP500).\n",
    "- :weights.mat contains the synthetic weights w of stocks in the SP500 index (first column is NaN, because it is SP500 itself).\n",
    "- :dailyret.mat contains daily returns (ret and retx for ex div returns) for SP500 and its components.\n",
    "- :mnthly_ret.mat contains monthly returns retm for SP500 and its components, and the time vector for these returns in dtm. \n",
    "\n",
    "The same data as above saves in CSV. Lots of files for betas; the tables are arranged in time x cross section, where dates (time points) are located in files with '_dt...', and identifiers are in files with '_permno'. The ZIP for Download (just click it and Save As..) - let me know if there are any questions!\n",
    "Id: the vectors of IDs (PERMNO from CRSP), the first PERMNO = 999999 is market itself (SP500)"
   ]
  },
  {
   "cell_type": "code",
   "execution_count": 36,
   "metadata": {},
   "outputs": [
    {
     "data": {
      "text/plain": [
       "['mnthly_ret_hsicmg.csv',\n",
       " 'dailyret_retx.csv',\n",
       " 'mnthly_ret_dtmadd.csv',\n",
       " 'mnthly_ret_retm.csv',\n",
       " 'id_dt_dtadd.csv',\n",
       " 'market_betas_1996_2009_dt.csv',\n",
       " 'market_betas_1996_2009_impl_monthly_60m_mfiv.csv',\n",
       " 'mnthly_ret_dtmMatlabFormat.csv',\n",
       " 'market_betas_1996_2009_hist_monthly_60m.csv',\n",
       " 'id_dt_dtMatlabFormat.csv',\n",
       " 'weights_w.csv',\n",
       " 'id_dt_permno.csv',\n",
       " 'market_betas_1996_2009_hist_daily_251d.csv',\n",
       " 'market_betas_1996_2009_impl_daily_251d_mfiv.csv',\n",
       " 'dailyret_cfacshr.csv',\n",
       " 'dailyret_ret.csv',\n",
       " 'market_betas_1996_2009_permno.csv',\n",
       " 'market_betas_1996_2009_impl_daily_251d_midiv.csv',\n",
       " 'market_betas_1996_2009_impl_monthly_60m_midiv.csv']"
      ]
     },
     "execution_count": 36,
     "metadata": {},
     "output_type": "execute_result"
    }
   ],
   "source": [
    "# Validate relative file path and list files\n",
    "import os\n",
    "os.listdir(\"../Vilkov_data/RFS_Data_implied_betasCSV_1996_2009/\")"
   ]
  },
  {
   "cell_type": "markdown",
   "metadata": {},
   "source": [
    "##### Transform Vilkov Matlab datetime number to python datetime"
   ]
  },
  {
   "cell_type": "code",
   "execution_count": 181,
   "metadata": {},
   "outputs": [
    {
     "data": {
      "text/plain": [
       "(3777, 1)"
      ]
     },
     "execution_count": 181,
     "metadata": {},
     "output_type": "execute_result"
    }
   ],
   "source": [
    "# time\n",
    "filename = \"../Vilkov_data/RFS_Data_implied_betasCSV_1996_2009/id_dt_dtMatlabFormat.csv\"\n",
    "dates = pd.read_csv(filename, header=None).astype(int)\n",
    "dates.rename(columns={0:'date'}, inplace=True)\n",
    "\n",
    "def matlab_datenum_to_python(matlab_datenum):\n",
    "    \"\"\"\n",
    "    Translates matlab datenum to python datetime format\n",
    "    \"\"\"\n",
    "    return dt.datetime.fromordinal(int(matlab_datenum) - 366) + dt.timedelta(days=matlab_datenum%1)\n",
    "\n",
    "# test function\n",
    "#matlab_datenum = 728660\n",
    "#matlab_datenum_to_python(matlab_datenum=matlab_datenum)\n",
    "\n",
    "# apply matlab datetime conversion to dates dataframe column\n",
    "dates['date'] = dates.date.apply(matlab_datenum_to_python)\n",
    "dates.shape"
   ]
  },
  {
   "cell_type": "markdown",
   "metadata": {},
   "source": [
    "##### Read in Stock Ids\n",
    "Id: the vectors of IDs (PERMNO from CRSP), the first PERMNO = 999999 is market itself (SP500)"
   ]
  },
  {
   "cell_type": "code",
   "execution_count": 182,
   "metadata": {},
   "outputs": [
    {
     "data": {
      "text/plain": [
       "(950, 1)"
      ]
     },
     "execution_count": 182,
     "metadata": {},
     "output_type": "execute_result"
    }
   ],
   "source": [
    "# stock ids\n",
    "filename = \"../Vilkov_data/RFS_Data_implied_betasCSV_1996_2009/id_dt_permno.csv\"\n",
    "ids = pd.read_csv(filename, header=None).astype(int)\n",
    "ids.shape"
   ]
  },
  {
   "cell_type": "code",
   "execution_count": null,
   "metadata": {},
   "outputs": [],
   "source": []
  },
  {
   "cell_type": "markdown",
   "metadata": {},
   "source": [
    "##### Import stock weights in SP500 index"
   ]
  },
  {
   "cell_type": "code",
   "execution_count": 106,
   "metadata": {},
   "outputs": [
    {
     "name": "stdout",
     "output_type": "stream",
     "text": [
      "(3776, 950)\n"
     ]
    },
    {
     "data": {
      "text/html": [
       "<div>\n",
       "<style scoped>\n",
       "    .dataframe tbody tr th:only-of-type {\n",
       "        vertical-align: middle;\n",
       "    }\n",
       "\n",
       "    .dataframe tbody tr th {\n",
       "        vertical-align: top;\n",
       "    }\n",
       "\n",
       "    .dataframe thead th {\n",
       "        text-align: right;\n",
       "    }\n",
       "</style>\n",
       "<table border=\"1\" class=\"dataframe\">\n",
       "  <thead>\n",
       "    <tr style=\"text-align: right;\">\n",
       "      <th></th>\n",
       "      <th>NaN</th>\n",
       "      <th>0.0010306</th>\n",
       "      <th>0.0037365</th>\n",
       "      <th>0.010638</th>\n",
       "      <th>NaN.1</th>\n",
       "      <th>NaN.2</th>\n",
       "      <th>NaN.3</th>\n",
       "      <th>0.002927</th>\n",
       "      <th>NaN.4</th>\n",
       "      <th>0.0022975</th>\n",
       "      <th>...</th>\n",
       "      <th>NaN.441</th>\n",
       "      <th>NaN.442</th>\n",
       "      <th>NaN.443</th>\n",
       "      <th>NaN.444</th>\n",
       "      <th>NaN.445</th>\n",
       "      <th>NaN.446</th>\n",
       "      <th>NaN.447</th>\n",
       "      <th>0.0022601</th>\n",
       "      <th>NaN.448</th>\n",
       "      <th>NaN.449</th>\n",
       "    </tr>\n",
       "  </thead>\n",
       "  <tbody>\n",
       "    <tr>\n",
       "      <th>0</th>\n",
       "      <td>NaN</td>\n",
       "      <td>0.000995</td>\n",
       "      <td>0.003757</td>\n",
       "      <td>0.010680</td>\n",
       "      <td>NaN</td>\n",
       "      <td>NaN</td>\n",
       "      <td>NaN</td>\n",
       "      <td>0.002907</td>\n",
       "      <td>NaN</td>\n",
       "      <td>0.002328</td>\n",
       "      <td>...</td>\n",
       "      <td>NaN</td>\n",
       "      <td>NaN</td>\n",
       "      <td>NaN</td>\n",
       "      <td>NaN</td>\n",
       "      <td>NaN</td>\n",
       "      <td>NaN</td>\n",
       "      <td>NaN</td>\n",
       "      <td>0.002227</td>\n",
       "      <td>NaN</td>\n",
       "      <td>NaN</td>\n",
       "    </tr>\n",
       "    <tr>\n",
       "      <th>1</th>\n",
       "      <td>NaN</td>\n",
       "      <td>0.000988</td>\n",
       "      <td>0.003684</td>\n",
       "      <td>0.010513</td>\n",
       "      <td>NaN</td>\n",
       "      <td>NaN</td>\n",
       "      <td>NaN</td>\n",
       "      <td>0.002942</td>\n",
       "      <td>NaN</td>\n",
       "      <td>0.002323</td>\n",
       "      <td>...</td>\n",
       "      <td>NaN</td>\n",
       "      <td>NaN</td>\n",
       "      <td>NaN</td>\n",
       "      <td>NaN</td>\n",
       "      <td>NaN</td>\n",
       "      <td>NaN</td>\n",
       "      <td>NaN</td>\n",
       "      <td>0.002235</td>\n",
       "      <td>NaN</td>\n",
       "      <td>NaN</td>\n",
       "    </tr>\n",
       "    <tr>\n",
       "      <th>2</th>\n",
       "      <td>NaN</td>\n",
       "      <td>0.001009</td>\n",
       "      <td>0.003723</td>\n",
       "      <td>0.010678</td>\n",
       "      <td>NaN</td>\n",
       "      <td>NaN</td>\n",
       "      <td>NaN</td>\n",
       "      <td>0.002949</td>\n",
       "      <td>NaN</td>\n",
       "      <td>0.002274</td>\n",
       "      <td>...</td>\n",
       "      <td>NaN</td>\n",
       "      <td>NaN</td>\n",
       "      <td>NaN</td>\n",
       "      <td>NaN</td>\n",
       "      <td>NaN</td>\n",
       "      <td>NaN</td>\n",
       "      <td>NaN</td>\n",
       "      <td>0.002233</td>\n",
       "      <td>NaN</td>\n",
       "      <td>NaN</td>\n",
       "    </tr>\n",
       "    <tr>\n",
       "      <th>3</th>\n",
       "      <td>NaN</td>\n",
       "      <td>0.001022</td>\n",
       "      <td>0.003831</td>\n",
       "      <td>0.010610</td>\n",
       "      <td>NaN</td>\n",
       "      <td>NaN</td>\n",
       "      <td>NaN</td>\n",
       "      <td>0.002927</td>\n",
       "      <td>NaN</td>\n",
       "      <td>0.002259</td>\n",
       "      <td>...</td>\n",
       "      <td>NaN</td>\n",
       "      <td>NaN</td>\n",
       "      <td>NaN</td>\n",
       "      <td>NaN</td>\n",
       "      <td>NaN</td>\n",
       "      <td>NaN</td>\n",
       "      <td>NaN</td>\n",
       "      <td>0.002343</td>\n",
       "      <td>NaN</td>\n",
       "      <td>NaN</td>\n",
       "    </tr>\n",
       "    <tr>\n",
       "      <th>4</th>\n",
       "      <td>NaN</td>\n",
       "      <td>0.001014</td>\n",
       "      <td>0.003834</td>\n",
       "      <td>0.010721</td>\n",
       "      <td>NaN</td>\n",
       "      <td>NaN</td>\n",
       "      <td>NaN</td>\n",
       "      <td>0.002975</td>\n",
       "      <td>NaN</td>\n",
       "      <td>0.002262</td>\n",
       "      <td>...</td>\n",
       "      <td>NaN</td>\n",
       "      <td>NaN</td>\n",
       "      <td>NaN</td>\n",
       "      <td>NaN</td>\n",
       "      <td>NaN</td>\n",
       "      <td>NaN</td>\n",
       "      <td>NaN</td>\n",
       "      <td>0.002384</td>\n",
       "      <td>NaN</td>\n",
       "      <td>NaN</td>\n",
       "    </tr>\n",
       "  </tbody>\n",
       "</table>\n",
       "<p>5 rows × 950 columns</p>\n",
       "</div>"
      ],
      "text/plain": [
       "   NaN  0.0010306  0.0037365  0.010638  NaN.1  NaN.2  NaN.3  0.002927  NaN.4  \\\n",
       "0  NaN   0.000995   0.003757  0.010680    NaN    NaN    NaN  0.002907    NaN   \n",
       "1  NaN   0.000988   0.003684  0.010513    NaN    NaN    NaN  0.002942    NaN   \n",
       "2  NaN   0.001009   0.003723  0.010678    NaN    NaN    NaN  0.002949    NaN   \n",
       "3  NaN   0.001022   0.003831  0.010610    NaN    NaN    NaN  0.002927    NaN   \n",
       "4  NaN   0.001014   0.003834  0.010721    NaN    NaN    NaN  0.002975    NaN   \n",
       "\n",
       "   0.0022975  ...  NaN.441  NaN.442  NaN.443  NaN.444  NaN.445  NaN.446  \\\n",
       "0   0.002328  ...      NaN      NaN      NaN      NaN      NaN      NaN   \n",
       "1   0.002323  ...      NaN      NaN      NaN      NaN      NaN      NaN   \n",
       "2   0.002274  ...      NaN      NaN      NaN      NaN      NaN      NaN   \n",
       "3   0.002259  ...      NaN      NaN      NaN      NaN      NaN      NaN   \n",
       "4   0.002262  ...      NaN      NaN      NaN      NaN      NaN      NaN   \n",
       "\n",
       "   NaN.447  0.0022601  NaN.448  NaN.449  \n",
       "0      NaN   0.002227      NaN      NaN  \n",
       "1      NaN   0.002235      NaN      NaN  \n",
       "2      NaN   0.002233      NaN      NaN  \n",
       "3      NaN   0.002343      NaN      NaN  \n",
       "4      NaN   0.002384      NaN      NaN  \n",
       "\n",
       "[5 rows x 950 columns]"
      ]
     },
     "execution_count": 106,
     "metadata": {},
     "output_type": "execute_result"
    }
   ],
   "source": [
    "# import categorical/numerical data (.csv) with Pandas DataFrame\n",
    "filename = \"../Vilkov_data/RFS_Data_implied_betasCSV_1996_2009/weights_w.csv\"\n",
    "weights = pd.read_csv(filename)\n",
    "print(weights.shape)\n",
    "weights.head()"
   ]
  },
  {
   "cell_type": "code",
   "execution_count": null,
   "metadata": {},
   "outputs": [],
   "source": []
  },
  {
   "cell_type": "code",
   "execution_count": 154,
   "metadata": {},
   "outputs": [
    {
     "name": "stdout",
     "output_type": "stream",
     "text": [
      "(3777, 1)\n"
     ]
    },
    {
     "data": {
      "text/html": [
       "<div>\n",
       "<style scoped>\n",
       "    .dataframe tbody tr th:only-of-type {\n",
       "        vertical-align: middle;\n",
       "    }\n",
       "\n",
       "    .dataframe tbody tr th {\n",
       "        vertical-align: top;\n",
       "    }\n",
       "\n",
       "    .dataframe thead th {\n",
       "        text-align: right;\n",
       "    }\n",
       "</style>\n",
       "<table border=\"1\" class=\"dataframe\">\n",
       "  <thead>\n",
       "    <tr style=\"text-align: right;\">\n",
       "      <th></th>\n",
       "      <th>0</th>\n",
       "    </tr>\n",
       "  </thead>\n",
       "  <tbody>\n",
       "    <tr>\n",
       "      <th>0</th>\n",
       "      <td>728660.0</td>\n",
       "    </tr>\n",
       "    <tr>\n",
       "      <th>1</th>\n",
       "      <td>728660.0</td>\n",
       "    </tr>\n",
       "    <tr>\n",
       "      <th>2</th>\n",
       "      <td>728660.0</td>\n",
       "    </tr>\n",
       "    <tr>\n",
       "      <th>3</th>\n",
       "      <td>728670.0</td>\n",
       "    </tr>\n",
       "    <tr>\n",
       "      <th>4</th>\n",
       "      <td>728670.0</td>\n",
       "    </tr>\n",
       "  </tbody>\n",
       "</table>\n",
       "</div>"
      ],
      "text/plain": [
       "          0\n",
       "0  728660.0\n",
       "1  728660.0\n",
       "2  728660.0\n",
       "3  728670.0\n",
       "4  728670.0"
      ]
     },
     "execution_count": 154,
     "metadata": {},
     "output_type": "execute_result"
    }
   ],
   "source": [
    "filename = \"../Vilkov_data/RFS_Data_implied_betasCSV_1996_2009/market_betas_1996_2009_dt.csv\"\n",
    "data = pd.read_csv(filename, header=None)\n",
    "print(data.shape)\n",
    "data.head()"
   ]
  },
  {
   "cell_type": "code",
   "execution_count": null,
   "metadata": {
    "nbpresent": {
     "id": "21f3b684-160c-495b-b7c3-9150c46a3e01"
    }
   },
   "outputs": [],
   "source": []
  },
  {
   "cell_type": "markdown",
   "metadata": {},
   "source": [
    "## Implementation"
   ]
  },
  {
   "cell_type": "markdown",
   "metadata": {},
   "source": [
    "##### Steps\n",
    "- Return time series to calculate stock-stock correlations $\\rho^{P}_{ij,t}$\n",
    "- Stock weights $w_i$ in index over time (time-varying or time-invariant?)\n",
    "- Implied volatilities of every single stock i $\\sigma^{Q}_{i,t}$\n",
    "- Implied volatilities of Index $\\sigma^{Q}_{M,t}$\n",
    "- Use stock-stock correlations, implied volatilities of single stocks and index implied volatility to calculate $\\alpha_t$"
   ]
  },
  {
   "cell_type": "code",
   "execution_count": null,
   "metadata": {},
   "outputs": [],
   "source": []
  },
  {
   "cell_type": "code",
   "execution_count": null,
   "metadata": {},
   "outputs": [],
   "source": []
  },
  {
   "cell_type": "code",
   "execution_count": null,
   "metadata": {},
   "outputs": [],
   "source": []
  }
 ],
 "metadata": {
  "kernelspec": {
   "display_name": "densityresearch",
   "language": "python",
   "name": "densityresearch"
  },
  "language_info": {
   "codemirror_mode": {
    "name": "ipython",
    "version": 3
   },
   "file_extension": ".py",
   "mimetype": "text/x-python",
   "name": "python",
   "nbconvert_exporter": "python",
   "pygments_lexer": "ipython3",
   "version": "3.6.8"
  }
 },
 "nbformat": 4,
 "nbformat_minor": 2
}
