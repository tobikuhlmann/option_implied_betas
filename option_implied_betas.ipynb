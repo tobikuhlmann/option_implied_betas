{
 "cells": [
  {
   "cell_type": "markdown",
   "metadata": {
    "nbpresent": {
     "id": "28ea5f66-c563-4046-a48e-8d0ff213383c"
    }
   },
   "source": [
    "Tobias Kuhlmann, Karlsruhe Institute of Technology (KIT), tobias.kuhlmann@student.kit.edu"
   ]
  },
  {
   "cell_type": "code",
   "execution_count": 1,
   "metadata": {
    "nbpresent": {
     "id": "e253a17a-6fc8-4eea-97a8-b21f61fec87a"
    }
   },
   "outputs": [],
   "source": [
    "%matplotlib inline\n",
    "\n",
    "# Pretty Display of Variables\n",
    "from IPython.core.interactiveshell import InteractiveShell\n",
    "InteractiveShell.ast_node_interactivity = \"all\"\n",
    "\n",
    "# Double resolution plotting for retina display\n",
    "%config InlineBackend.figure_format ='retina'\n",
    "\n",
    "import numpy as np\n",
    "import pylab as pl\n",
    "import pandas as pd\n",
    "import matplotlib.pyplot as plt\n",
    "\n",
    "import glob\n",
    "import os\n",
    "\n",
    "import datetime as dt\n",
    "\n",
    "\n"
   ]
  },
  {
   "cell_type": "markdown",
   "metadata": {
    "nbpresent": {
     "id": "8327563f-b6f8-4bdf-8b9b-c1157484f08c"
    }
   },
   "source": [
    "## Option implied betas following Buss and Vilkov (2012)\n",
    "Implements calculation of option implied correlations following Buss, A. and Vilkov, G., 2012. Measuring equity risk with option-implied correlations. The Review of Financial Studies, 25(10), pp.3113-3140.\n"
   ]
  },
  {
   "cell_type": "markdown",
   "metadata": {
    "nbpresent": {
     "id": "5c0f31fc-002e-4154-92fd-2c2f0f1b77c0"
    }
   },
   "source": [
    "## Idea\n",
    "\n",
    "Buss and Vilkov use forward-looking information from option prices to estimate option-implied correlations and to construct an option-implied predictor of factor betas. All of that under risk neutral probability measure.\n",
    "\n",
    "##### Intuition: \n",
    "- Only using historical information implies that the future is sufficiently similar to the past, which is questionable in financial markets -> Need for option implied information as they are forward-looking and traded, which means they include current market expectations. Use of option implied information may improve predictive quality\n",
    "- Variance risk premium: Overinsurance of volatility risk -> Implied volatility is higher in magnitude than realized volatility\n",
    " - Intuition: Investors are also willing to pay a risk premium to hedge against changes in variance (rising variance)\n",
    "- Correlation risk premium: Premium for uncertainty of future correlation. Need to insure future correlation, as a rise in correlation reduces diversification benefits. Underlying uncertainty: Correlations go crazy in crises -> Not much diversification in large market downturns and systemic crises, except with short positions. Result is that option-implied correlations are higher than realized.\n",
    " - Intuition: Investors are also willing to pay a risk premium to hedge against changes in correlations\n",
    " \n",
    "##### Rep: Risk neutral vs realized\n",
    "- Option implied measures are under risk neutral probability measure, which differs from realized / objective probability measure because of variance and correlation risk premium. Risk premia makes risk neutral moments biased predictors of realized moments. \n",
    "- Option implied correlations not directly observable, needs modeling choice -> parametric with assumptions\n",
    "\n",
    "##### Technical conditions of correlation matrix\n",
    "1. Propose a parametric way to estimate implied correlations not exceeding one\n",
    "2. correlation risk premium is negative (so consistent with the literature)\n",
    "3. correlation risk premium is higher in magnitude for low or negatively correlated stocks that are exposed to a higher risk of losing diversification benefits (so consistent with literature)\n",
    "4. Correlation matrix should be consistent with empirical observations\n",
    "    - Implied correlation is higher than realized\n",
    "    - Correlation risk premium is larger in magnitude for pairs of stocks that provide higher diversification benefits (negative and low correlation)"
   ]
  },
  {
   "cell_type": "markdown",
   "metadata": {
    "nbpresent": {
     "id": "93906692-5a50-4388-bb94-7a4464efe562"
    }
   },
   "source": [
    "## Theoretical implementation steps\n",
    "\n",
    "##### Goal\n",
    "- Implied correlation matrix $\\Gamma^{Q}_{t}$ with elements $\\rho^{Q}_{ij,t}$\n",
    "- Implied betas $\\beta^{Q}_{iM,t}$ calculated from implied correlations\n",
    "\n",
    "##### Implied variance of market index\n",
    "Observed implied variance of market index \n",
    "$$(\\sigma^{Q}_{M,t})^2 = \\sum_{i=1}^{N}\\sum_{j=1}^{N}{w_iw_j\\sigma^{Q}_{i,t}\\sigma^{Q}_{j,t}\\rho^{Q}_{ij,t}}$$\n",
    " \n",
    "where $\\sigma^{Q}_{i,t}$ is implied volatility of stock i in the index and $w_i$ are index weights\n",
    " \n",
    "##### Parametric form of implied correlations $\\rho^{Q}_{ij,t}$\n",
    "$$\\rho^{Q}_{ij,t} = \\rho^{P}_{ij,t} - \\alpha_t(1-\\rho^{P}_{ij,t})$$\n",
    " \n",
    "where $\\rho^{P}_{ij,t}$ is expected correlation under objective measure (realized), $\\alpha_t$ needs to be identified\n",
    "\n",
    "##### Identify $\\alpha_t$ in closed form\n",
    "$$\\alpha_t = \\frac{(\\sigma^{Q}_{M,t})^2-\\sum_{i=1}^{N}\\sum_{j=1}^{N}{w_iw_j\\sigma^{Q}_{i,t}\\sigma^{Q}_{j,t}\\rho^{P}_{ij,t}}}{\\sum_{i=1}^{N}\\sum_{j=1}^{N}{w_iw_j\\sigma^{Q}_{i,t}\\sigma^{Q}_{j,t}(1-\\rho^{P}_{ij,t})}}$$\n",
    "\n",
    "To satisfy above conditions: $-1\\leq\\alpha_t\\leq0$\n",
    "\n",
    "##### Calculate market betas $\\beta_{ik,t}$ with option implied correlation\n",
    "$$\\beta^{Q}_{iM,t} = \\frac{\\sigma^{Q}_{i,t}\\sum_{j=1}^{N}{w_j\\sigma^{Q}_{j,t}\\rho^{Q}_{ij,t}}}{(\\sigma^{Q}_{M,t})^2}$$\n",
    "\n",
    "For a multifactor model with multiple non-correlated factors, the beta $\\beta_{ik,t}$, where $i$ is the stock and $k$ the factor, can be calulated as the ratio of stock-to-factor covariance $\\sigma_{ik,t}$ to the factor variance $\\sigma^{2}_{k,t}$. $\\rho_{ij,t}$ is the pairwise stock correlation, $\\sigma_{j,t}$ stock volatilities, and $w_j$ the factor-mimicking portfolio weights.\n",
    " \n",
    " \n",
    " "
   ]
  },
  {
   "cell_type": "markdown",
   "metadata": {},
   "source": [
    "## Data\n",
    "\n",
    "##### Data needed\n",
    "- Return time series to calculate rolling window stock-stock correlations $\\rho^{P}_{ij,t}$\n",
    "- Stock weights in index over time \n",
    "- Implied volatilities of every single stock i $\\sigma^{Q}_{i,t}$\n",
    "- Implied volatilities of Index $\\sigma^{Q}_{M,t}$\n",
    "- Use stock-stock correlations, implied volatilities of single stocks and index implied volatility to calculate $\\alpha_t$\n"
   ]
  },
  {
   "cell_type": "code",
   "execution_count": 2,
   "metadata": {},
   "outputs": [
    {
     "data": {
      "text/plain": [
       "['Single_Stock_Skewness',\n",
       " 'Fundamentals_SP500_Full.xlsx',\n",
       " 'usdOIScurve.csv',\n",
       " '0_Paper',\n",
       " 'Calculation_Process2.ipynb',\n",
       " 'SP500 Prices',\n",
       " 'instrumentid_and_symbol.csv',\n",
       " 'CRAMnoarbEOD_USOPT0007588D1_measuresByMaturity.csv',\n",
       " '.ipynb_checkpoints']"
      ]
     },
     "execution_count": 2,
     "metadata": {},
     "output_type": "execute_result"
    }
   ],
   "source": [
    "# Validate relative file path and list files\n",
    "os.listdir(\"../Option_Implied_Beta_Tobias/\")"
   ]
  },
  {
   "cell_type": "markdown",
   "metadata": {},
   "source": [
    "###### Import instrument id on ticker mapping"
   ]
  },
  {
   "cell_type": "code",
   "execution_count": 3,
   "metadata": {},
   "outputs": [
    {
     "data": {
      "text/plain": [
       "(7590, 3)"
      ]
     },
     "execution_count": 3,
     "metadata": {},
     "output_type": "execute_result"
    },
    {
     "data": {
      "text/html": [
       "<div>\n",
       "<style scoped>\n",
       "    .dataframe tbody tr th:only-of-type {\n",
       "        vertical-align: middle;\n",
       "    }\n",
       "\n",
       "    .dataframe tbody tr th {\n",
       "        vertical-align: top;\n",
       "    }\n",
       "\n",
       "    .dataframe thead th {\n",
       "        text-align: right;\n",
       "    }\n",
       "</style>\n",
       "<table border=\"1\" class=\"dataframe\">\n",
       "  <thead>\n",
       "    <tr style=\"text-align: right;\">\n",
       "      <th></th>\n",
       "      <th>instrumentid</th>\n",
       "      <th>symbol</th>\n",
       "      <th>name</th>\n",
       "    </tr>\n",
       "  </thead>\n",
       "  <tbody>\n",
       "    <tr>\n",
       "      <th>0</th>\n",
       "      <td>USOPT0000001D1</td>\n",
       "      <td>1R</td>\n",
       "      <td>NFX (OPIS) Mont Belvieu Non-LST Propane Future</td>\n",
       "    </tr>\n",
       "  </tbody>\n",
       "</table>\n",
       "</div>"
      ],
      "text/plain": [
       "     instrumentid symbol                                            name\n",
       "0  USOPT0000001D1     1R  NFX (OPIS) Mont Belvieu Non-LST Propane Future"
      ]
     },
     "execution_count": 3,
     "metadata": {},
     "output_type": "execute_result"
    }
   ],
   "source": [
    "id_ticker_map = pd.read_csv(\"../Option_Implied_Beta_Tobias/instrumentid_and_symbol.csv\")\n",
    "id_ticker_map.shape\n",
    "id_ticker_map.head(1)\n"
   ]
  },
  {
   "cell_type": "markdown",
   "metadata": {},
   "source": [
    "##### Import USD risk free rate"
   ]
  },
  {
   "cell_type": "code",
   "execution_count": 4,
   "metadata": {},
   "outputs": [
    {
     "data": {
      "text/html": [
       "<div>\n",
       "<style scoped>\n",
       "    .dataframe tbody tr th:only-of-type {\n",
       "        vertical-align: middle;\n",
       "    }\n",
       "\n",
       "    .dataframe tbody tr th {\n",
       "        vertical-align: top;\n",
       "    }\n",
       "\n",
       "    .dataframe thead th {\n",
       "        text-align: right;\n",
       "    }\n",
       "</style>\n",
       "<table border=\"1\" class=\"dataframe\">\n",
       "  <thead>\n",
       "    <tr style=\"text-align: right;\">\n",
       "      <th></th>\n",
       "      <th>loctimestamp</th>\n",
       "      <th>maturity</th>\n",
       "      <th>yld</th>\n",
       "    </tr>\n",
       "  </thead>\n",
       "  <tbody>\n",
       "    <tr>\n",
       "      <th>0</th>\n",
       "      <td>2002-01-01</td>\n",
       "      <td>7</td>\n",
       "      <td>1.785</td>\n",
       "    </tr>\n",
       "  </tbody>\n",
       "</table>\n",
       "</div>"
      ],
      "text/plain": [
       "  loctimestamp  maturity    yld\n",
       "0   2002-01-01         7  1.785"
      ]
     },
     "execution_count": 4,
     "metadata": {},
     "output_type": "execute_result"
    }
   ],
   "source": [
    "risk_free_rate = pd.read_csv(\"../Option_Implied_Beta_Tobias/usdOIScurve.csv\", sep=\";\")\n",
    "risk_free_rate.head(1)"
   ]
  },
  {
   "cell_type": "markdown",
   "metadata": {},
   "source": [
    "##### Stock weights in index over time \n",
    "\n",
    "- Problem: In SP500 fundamentals excel sheet only current market cap, need free float market cap\n",
    "\n",
    "S&P 500 index is free-float market capitalization weighted. \n",
    "Free-float weighted means that instead of full market cap, only the public float of the company is considered when calculating its weight. Not all the shares of a company can be traded freely but some stocks might be under restrictions from SEC. S&P Dow Jones is assigning IWF (Investable Weight Factor) for all components part of its US indexes based on the component’s float\n",
    "\n",
    "References: \n",
    "- https://us.spindices.com/documents/index-policies/methodology-sp-float-adjustment.pdf\n",
    "- http://siblisresearch.com/data/weights-sp-500-companies/\n",
    "\n",
    "\n",
    "##### ToDo\n",
    "- Get free-float market caps from all SP500 stocks (Bloomberg?)\n",
    "- Calculate free-float market cap = Share price  ×  Free Float for all stocks\n",
    "\n"
   ]
  },
  {
   "cell_type": "code",
   "execution_count": null,
   "metadata": {},
   "outputs": [],
   "source": []
  },
  {
   "cell_type": "code",
   "execution_count": null,
   "metadata": {},
   "outputs": [],
   "source": []
  },
  {
   "cell_type": "code",
   "execution_count": null,
   "metadata": {},
   "outputs": [],
   "source": []
  },
  {
   "cell_type": "markdown",
   "metadata": {},
   "source": [
    "##### Implied volatilities of Index $\\sigma^{Q}_{M,t}$\n",
    "- Question: Daiana file: Bereits bereinigt? Maturities 30 days out, interpolated out\n",
    "- Ein Tag: 14 Tage, 41 Tage -> linear interpolieren auf 30 Tage\n",
    "- Interpolation aus Simon's vol surface paper\n"
   ]
  },
  {
   "cell_type": "code",
   "execution_count": 5,
   "metadata": {
    "nbpresent": {
     "id": "21f3b684-160c-495b-b7c3-9150c46a3e01"
    }
   },
   "outputs": [
    {
     "data": {
      "text/plain": [
       "(58244, 14)"
      ]
     },
     "execution_count": 5,
     "metadata": {},
     "output_type": "execute_result"
    },
    {
     "data": {
      "text/html": [
       "<div>\n",
       "<style scoped>\n",
       "    .dataframe tbody tr th:only-of-type {\n",
       "        vertical-align: middle;\n",
       "    }\n",
       "\n",
       "    .dataframe tbody tr th {\n",
       "        vertical-align: top;\n",
       "    }\n",
       "\n",
       "    .dataframe thead th {\n",
       "        text-align: right;\n",
       "    }\n",
       "</style>\n",
       "<table border=\"1\" class=\"dataframe\">\n",
       "  <thead>\n",
       "    <tr style=\"text-align: right;\">\n",
       "      <th></th>\n",
       "      <th>instrumentID</th>\n",
       "      <th>loctimestamp</th>\n",
       "      <th>daystomaturity</th>\n",
       "      <th>underlyingprice</th>\n",
       "      <th>underlyingforwardprice</th>\n",
       "      <th>bakshiVariance</th>\n",
       "      <th>bakshiCubic</th>\n",
       "      <th>bakshiQuartic</th>\n",
       "      <th>bakshiSkew</th>\n",
       "      <th>bakshiKurt</th>\n",
       "      <th>hellingerVar</th>\n",
       "      <th>hellingerSkew</th>\n",
       "      <th>hellingerQuart</th>\n",
       "      <th>SVIX</th>\n",
       "    </tr>\n",
       "  </thead>\n",
       "  <tbody>\n",
       "    <tr>\n",
       "      <th>0</th>\n",
       "      <td>USOPT0007588D1</td>\n",
       "      <td>2004-01-02 00:00:00</td>\n",
       "      <td>15</td>\n",
       "      <td>1108.03</td>\n",
       "      <td>1110.05</td>\n",
       "      <td>0.00136</td>\n",
       "      <td>-0.000114</td>\n",
       "      <td>0.000046</td>\n",
       "      <td>-2.26189</td>\n",
       "      <td>24.9558</td>\n",
       "      <td>1611.08</td>\n",
       "      <td>-41.2902</td>\n",
       "      <td>8.06682</td>\n",
       "      <td>0.030755</td>\n",
       "    </tr>\n",
       "  </tbody>\n",
       "</table>\n",
       "</div>"
      ],
      "text/plain": [
       "     instrumentID         loctimestamp  daystomaturity  underlyingprice  \\\n",
       "0  USOPT0007588D1  2004-01-02 00:00:00              15          1108.03   \n",
       "\n",
       "   underlyingforwardprice  bakshiVariance  bakshiCubic  bakshiQuartic  \\\n",
       "0                 1110.05         0.00136    -0.000114       0.000046   \n",
       "\n",
       "   bakshiSkew  bakshiKurt  hellingerVar  hellingerSkew  hellingerQuart  \\\n",
       "0    -2.26189     24.9558       1611.08       -41.2902         8.06682   \n",
       "\n",
       "       SVIX  \n",
       "0  0.030755  "
      ]
     },
     "execution_count": 5,
     "metadata": {},
     "output_type": "execute_result"
    }
   ],
   "source": [
    "sp500_options = pd.read_csv(\"../Option_Implied_Beta_Tobias/CRAMnoarbEOD_USOPT0007588D1_measuresByMaturity.csv\", sep=\";\")\n",
    "sp500_options.shape\n",
    "sp500_options.head(1)\n",
    "\n"
   ]
  },
  {
   "cell_type": "markdown",
   "metadata": {},
   "source": [
    "##### Implied volatilities of every single stock i $\\sigma^{Q}_{i,t}$\n",
    "Read in risk neutral measures for single stocks and combine in dataframe"
   ]
  },
  {
   "cell_type": "code",
   "execution_count": null,
   "metadata": {},
   "outputs": [],
   "source": [
    "# the path to your csv file directory\n",
    "mycsvdir = '../Option_Implied_Beta_Tobias/Single_Stock_Skewness/'\n",
    "\n",
    "# get all the csv files in that directory\n",
    "csvfiles_w_path = glob.glob(os.path.join(mycsvdir, '*.csv'))\n",
    "\n",
    "# loop through the files and read them in with pandas\n",
    "stock_risk_neutral_measures = pd.DataFrame(columns=['id', \n",
    "                                     'loctimestamp',\n",
    "                                     'daystomaturity', \n",
    "                                     'bakshiVariance',\n",
    "                                     'hellingerVar',\n",
    "                                     'SVIX' , \n",
    "                                     'interpolmaturity']) \n",
    "for csvfile in csvfiles_w_path:\n",
    "    df = pd.read_csv(csvfile, usecols=['loctimestamp',\n",
    "                                     'daystomaturity', \n",
    "                                     'bakshiVariance',\n",
    "                                     'hellingerVar',\n",
    "                                     'SVIX' , \n",
    "                                     'interpolmaturity'])\n",
    "    # add column with instrument id\n",
    "    filename_wo_ext=os.path.basename(csvfile)\n",
    "    df['id'] = os.path.splitext(filename_wo_ext)[0].partition(\"_\")[0]\n",
    "    # append\n",
    "    stock_risk_neutral_measures = stock_risk_neutral_measures.append(df[['id',\n",
    "                                     'loctimestamp',\n",
    "                                     'daystomaturity', \n",
    "                                     'bakshiVariance',\n",
    "                                     'hellingerVar',\n",
    "                                     'SVIX' , \n",
    "                                     'interpolmaturity']])\n",
    "\n",
    "stock_risk_neutral_measures.shape\n",
    "print(f\"Unique instrument id: {stock_risk_neutral_measures.id.unique().shape}\")"
   ]
  },
  {
   "cell_type": "markdown",
   "metadata": {},
   "source": [
    "##### Stock prices\n",
    "Why are there 871 files / ticker symbols, SP500 supposed to have 505?"
   ]
  },
  {
   "cell_type": "code",
   "execution_count": null,
   "metadata": {},
   "outputs": [],
   "source": [
    "# the path to your csv file directory\n",
    "mycsvdir = '../Option_Implied_Beta_Tobias/SP500 Prices/'\n",
    "\n",
    "# get all the csv files in that directory\n",
    "csvfiles_w_path = glob.glob(os.path.join(mycsvdir, '*.csv'))"
   ]
  },
  {
   "cell_type": "code",
   "execution_count": null,
   "metadata": {},
   "outputs": [],
   "source": [
    "# loop through the files and read them in with pandas\n",
    "stock_prices = pd.DataFrame(columns=['id', 'Date', 'CLOSE']) \n",
    "for csvfile in csvfiles_w_path:\n",
    "    df = pd.read_csv(csvfile, usecols=['Date', 'CLOSE'])\n",
    "    # add column with ticker symbol\n",
    "    filename_wo_ext=os.path.basename(csvfile)\n",
    "    df['id'] = os.path.splitext(filename_wo_ext)[0]\n",
    "    # append\n",
    "    stock_prices = stock_prices.append(df[['id', 'Date', 'CLOSE']])\n",
    "    \n",
    "stock_prices.shape\n",
    "print(f\"Unique ticker labels: {stock_prices.id.unique().shape}\")"
   ]
  },
  {
   "cell_type": "code",
   "execution_count": null,
   "metadata": {},
   "outputs": [],
   "source": []
  },
  {
   "cell_type": "markdown",
   "metadata": {},
   "source": [
    "##### Rolling window stock-stock correlations $\\rho^{P}_{ij,t}$ under empirical measure P\n",
    "- rolling window correlations of log returns: rolling window = 252"
   ]
  },
  {
   "cell_type": "code",
   "execution_count": null,
   "metadata": {},
   "outputs": [],
   "source": []
  },
  {
   "cell_type": "code",
   "execution_count": null,
   "metadata": {},
   "outputs": [],
   "source": []
  },
  {
   "cell_type": "markdown",
   "metadata": {},
   "source": [
    "## Implementation"
   ]
  },
  {
   "cell_type": "markdown",
   "metadata": {},
   "source": [
    "##### Steps\n",
    "- Return time series to calculate stock-stock correlations $\\rho^{P}_{ij,t}$\n",
    "- Stock weights $w_i$ in index over time (time-varying or time-invariant?)\n",
    "- Implied volatilities of every single stock i $\\sigma^{Q}_{i,t}$\n",
    "- Implied volatilities of Index $\\sigma^{Q}_{M,t}$\n",
    "- Use stock-stock correlations, implied volatilities of single stocks and index implied volatility to calculate $\\alpha_t$"
   ]
  },
  {
   "cell_type": "code",
   "execution_count": null,
   "metadata": {},
   "outputs": [],
   "source": []
  },
  {
   "cell_type": "code",
   "execution_count": null,
   "metadata": {},
   "outputs": [],
   "source": []
  },
  {
   "cell_type": "code",
   "execution_count": null,
   "metadata": {},
   "outputs": [],
   "source": []
  }
 ],
 "metadata": {
  "kernelspec": {
   "display_name": "densityresearch",
   "language": "python",
   "name": "densityresearch"
  },
  "language_info": {
   "codemirror_mode": {
    "name": "ipython",
    "version": 3
   },
   "file_extension": ".py",
   "mimetype": "text/x-python",
   "name": "python",
   "nbconvert_exporter": "python",
   "pygments_lexer": "ipython3",
   "version": "3.6.8"
  }
 },
 "nbformat": 4,
 "nbformat_minor": 2
}
