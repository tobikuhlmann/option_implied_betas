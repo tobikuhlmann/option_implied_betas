{
 "cells": [
  {
   "cell_type": "markdown",
   "metadata": {},
   "source": [
    "## Option implied betas following Buss and Vilkov (2012)\n",
    "Implements calculation of option implied correlations following Buss, A. and Vilkov, G., 2012. Measuring equity risk with option-implied correlations. The Review of Financial Studies, 25(10), pp.3113-3140.\n"
   ]
  },
  {
   "cell_type": "markdown",
   "metadata": {},
   "source": [
    "Idea: Buss and Vilkov use forward-looking information from option prices to estimate option-implied correlations and to construct an option-implied predictor of factor betas. All of that under risk neutral probability measure.\n",
    "\n",
    "##### General comments: \n",
    "- Only using historical information implies that the future is sufficiently similar to the past, which is questionable in financial markets -> Need for option implied information as they are forward-looking and traded, which means they include current market expectations. Use of option implied information may improve predictive quality\n",
    "- Variance risk premium: Overinsurance of volatility risk -> Implied volatility is higher in magnitude than realized volatility\n",
    " - Intuition: Investors are also willing to pay a risk premium to hedge against changes in variance (rising variance)\n",
    "- Correlation risk premium: Premium for uncertainty of future correlation. Need to insure future correlation, as a rise in correlation reduces diversification benefits. Underlying uncertainty: Correlations go crazy in crises -> Not much diversification in large market downturns and systemic crises, except with short positions. Result is that option-implied correlations are higher than realized.\n",
    " - Intuition: Investors are also willing to pay a risk premium to hedge against changes in correlations\n",
    " \n",
    "##### Risk neutral vs realized\n",
    "- Option implied measures are under risk neutral probability measure, which differs from realized / objective probability measure because of variance and correlation risk premium. Risk premia makes risk neutral moments biased predictors of realized moments. \n",
    "- Option implied correlations not directly observable, needs modeling choice -> parametric with assumptions\n",
    "\n",
    "##### Technical conditions of correlation matrix\n",
    "1. Propose a parametric way to estimate implied correlations not exceeding one\n",
    "2. correlation risk premium is negative (so consistent with the literature)\n",
    "3. correlation risk premium is higher in magnitude for low or negatively correlated stocks that are exposed to a higher risk of losing diversification benefits (so consistent with literature)\n",
    "4. Correlation matrix should be consistent with empirical observations\n",
    "    - Implied correlation is higher than realized\n",
    "    - Correlation risk premium is larger in magnitude for pairs of stocks that provide higher diversification benefits (negative and low correlation)"
   ]
  },
  {
   "cell_type": "markdown",
   "metadata": {},
   "source": [
    "##### Goal\n",
    "Implied correlation matrix $\\Gamma^{Q}_{t}$ with elements $\\rho^{Q}_{ij,t}$\n",
    "\n",
    "##### Implied variance of market index\n",
    "Observed implied variance of market index \n",
    "$$(\\sigma^{Q}_{M,t})^2 = \\sum_{i=1}^{N}\\sum_{j=1}^{N}{w_iw_j\\sigma^{Q}_{i,t}\\sigma^{Q}_{j,t}\\rho^{Q}_{ij,t}}$$\n",
    " \n",
    "where $\\sigma^{Q}_{i,t}$ is implied volatility of stock i in the index and $w_i$ are index weights\n",
    " \n",
    " ##### Parametric form of implied correlations $\\rho^{Q}_{ij,t}$\n",
    " $$\\rho^{Q}_{ij,t} = \\rho^{P}_{ij,t} - \\alpha_t(1-\\rho^{P}_{ij,t})$$\n",
    " \n",
    "where $\\rho^{P}_{ij,t}$ is expected correlation under objective measure (realized), $\\alpha_t$ needs to be identified\n",
    "\n",
    "##### Identify $\\alpha_t$ in closed form\n",
    "$$\\alpha_t = \\frac{(\\sigma^{Q}_{M,t})^2-\\sum_{i=1}^{N}\\sum_{j=1}^{N}{w_iw_j\\sigma^{Q}_{i,t}\\sigma^{Q}_{j,t}\\rho^{Q}_{ij,t}}}{\\sum_{i=1}^{N}\\sum_{j=1}^{N}{w_iw_j\\sigma^{Q}_{i,t}\\sigma^{Q}_{j,t}(1-\\rho^{Q}_{ij,t})}}$$\n",
    "\n",
    "To satisfy above conditions: $-1\\leq\\alpha_t\\leq0$\n",
    "\n",
    "\n",
    " \n",
    " \n",
    " \n",
    " "
   ]
  },
  {
   "cell_type": "code",
   "execution_count": null,
   "metadata": {},
   "outputs": [],
   "source": []
  },
  {
   "cell_type": "code",
   "execution_count": null,
   "metadata": {},
   "outputs": [],
   "source": []
  },
  {
   "cell_type": "code",
   "execution_count": null,
   "metadata": {},
   "outputs": [],
   "source": []
  },
  {
   "cell_type": "code",
   "execution_count": null,
   "metadata": {},
   "outputs": [],
   "source": []
  },
  {
   "cell_type": "code",
   "execution_count": null,
   "metadata": {},
   "outputs": [],
   "source": []
  }
 ],
 "metadata": {
  "kernelspec": {
   "display_name": "densityresearch",
   "language": "python",
   "name": "densityresearch"
  },
  "language_info": {
   "codemirror_mode": {
    "name": "ipython",
    "version": 3
   },
   "file_extension": ".py",
   "mimetype": "text/x-python",
   "name": "python",
   "nbconvert_exporter": "python",
   "pygments_lexer": "ipython3",
   "version": "3.6.8"
  }
 },
 "nbformat": 4,
 "nbformat_minor": 2
}
