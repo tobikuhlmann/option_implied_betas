{
 "cells": [
  {
   "cell_type": "code",
   "execution_count": 9,
   "metadata": {},
   "outputs": [],
   "source": [
    "import eikon as ek\n",
    "import pandas as pd\n",
    "import time\n",
    "ek.set_app_id('24851b66f5d640999f6bf3c0bef4bd71bc86c619')\n",
    "# App id in Eikon Reuters von dem KIT account <- Search for App Key Generator in Eikon"
   ]
  },
  {
   "cell_type": "code",
   "execution_count": 10,
   "metadata": {},
   "outputs": [
    {
     "data": {
      "text/plain": [
       "'C:\\\\Users\\\\uqdkx\\\\Desktop'"
      ]
     },
     "execution_count": 10,
     "metadata": {},
     "output_type": "execute_result"
    }
   ],
   "source": [
    "# Show current working directory\n",
    "import os\n",
    "os.getcwd()"
   ]
  },
  {
   "cell_type": "markdown",
   "metadata": {},
   "source": [
    "##### Get constituents at specific date"
   ]
  },
  {
   "cell_type": "code",
   "execution_count": 11,
   "metadata": {},
   "outputs": [
    {
     "data": {
      "text/html": [
       "<div>\n",
       "<style scoped>\n",
       "    .dataframe tbody tr th:only-of-type {\n",
       "        vertical-align: middle;\n",
       "    }\n",
       "\n",
       "    .dataframe tbody tr th {\n",
       "        vertical-align: top;\n",
       "    }\n",
       "\n",
       "    .dataframe thead th {\n",
       "        text-align: right;\n",
       "    }\n",
       "</style>\n",
       "<table border=\"1\" class=\"dataframe\">\n",
       "  <thead>\n",
       "    <tr style=\"text-align: right;\">\n",
       "      <th></th>\n",
       "      <th>Instrument</th>\n",
       "      <th>Constituent Name</th>\n",
       "      <th>Constituent RIC</th>\n",
       "      <th>type</th>\n",
       "    </tr>\n",
       "  </thead>\n",
       "  <tbody>\n",
       "    <tr>\n",
       "      <th>0</th>\n",
       "      <td>.SPX</td>\n",
       "      <td>NaN</td>\n",
       "      <td>NaN</td>\n",
       "      <td>start_constituent</td>\n",
       "    </tr>\n",
       "  </tbody>\n",
       "</table>\n",
       "</div>"
      ],
      "text/plain": [
       "  Instrument  Constituent Name  Constituent RIC               type\n",
       "0       .SPX               NaN              NaN  start_constituent"
      ]
     },
     "execution_count": 11,
     "metadata": {},
     "output_type": "execute_result"
    }
   ],
   "source": [
    "test_constituents, err = ek.get_data('.SPX', ['TR.IndexConstituentName','TR.IndexConstituentRIC'], parameters={'SDate':'2014-12-31'})\n",
    "test_constituents['type'] = 'start_constituent'\n",
    "test_c = pd.DataFrame(test_constituents)\n",
    "test_c.head()\n",
    "# in der Constituents Liste ist S&P500 selber dabei"
   ]
  },
  {
   "cell_type": "markdown",
   "metadata": {},
   "source": [
    "##### Get S&P 500 Joiners und Leavers"
   ]
  },
  {
   "cell_type": "code",
   "execution_count": 12,
   "metadata": {},
   "outputs": [],
   "source": [
    "#S&P 500 Joiners und Leavers Liste\n",
    "f = ['TR.IndexJLConstituentChangeDate','TR.IndexJLConstituentName',\n",
    "     'TR.IndexJLConstituentRIC','TR.IndexJLConstituentComName']\n",
    "test_leavers, err = ek.get_data([\".SPX\"], fields=f, parameters={'IC':'L', 'SDate':'0D', 'EDate':'-24CY'})\n",
    "test_leavers = test_leavers\n",
    "test_joiners, err = ek.get_data([\".SPX\"], fields=f, parameters={'IC':'J', 'SDate':'0D', 'EDate':'-24CY'})\n",
    "test_joiners = test_joiners\n",
    "\n",
    "test_leavers['type'] = 'leaver'\n",
    "test_joiners['type'] = 'joiner'\n",
    "test_lj = pd.concat((test_joiners, test_leavers)).sort_values(by = ['Date'])\n",
    "\n",
    "test_lj.to_csv(\"C:/Users/uqdkx/Desktop/2019_05_15_SP500_leavers_joiners.csv\", index = False)"
   ]
  },
  {
   "cell_type": "markdown",
   "metadata": {},
   "source": [
    "##### S&P 500 Constituents "
   ]
  },
  {
   "cell_type": "code",
   "execution_count": 13,
   "metadata": {},
   "outputs": [],
   "source": [
    "#S&P 500 Constituents Liste\n",
    "test_constituents, err = ek.get_data('.SPX', ['TR.IndexConstituentName','TR.IndexConstituentRIC'])\n",
    "test_constituents['type'] = 'constituent'\n",
    "test_c = pd.DataFrame(test_constituents)\n",
    "test_c.to_csv(\"C:/Users/uqdkx/Desktop/2019_05_15_SP500_constituents.csv\", index = False)\n",
    "# in der Constituents Liste ist S&P500 selber dabei"
   ]
  },
  {
   "cell_type": "markdown",
   "metadata": {},
   "source": [
    "#### S&P Constituents w/o duplicates"
   ]
  },
  {
   "cell_type": "code",
   "execution_count": 14,
   "metadata": {},
   "outputs": [],
   "source": [
    "#Eine Liste mit Joiners, Leavers, Constituents ohne Duplikate\n",
    "\n",
    "test_ljc = pd.concat([test_lj, test_c], sort=False)\n",
    "test_ljc = pd.DataFrame(test_ljc, columns = ['Instrument','Constituent Name','Constituent RIC'])\n",
    "test_ljc = pd.DataFrame.drop_duplicates(test_ljc, subset='Constituent RIC')\n",
    "test_ljc.to_csv(\"C:/Users/uqdkx/Desktop/2019_05_15_SP500_ljc_without_duplicates.csv\", index = False)"
   ]
  },
  {
   "cell_type": "code",
   "execution_count": 15,
   "metadata": {},
   "outputs": [
    {
     "name": "stdout",
     "output_type": "stream",
     "text": [
      "E.N^E95\n",
      "EXC.N\n",
      "1152\n"
     ]
    }
   ],
   "source": [
    "# test names for loop run\n",
    "test_ljc = pd.read_csv(\"C:/Users/uqdkx/Desktop/2019_05_15_SP500_ljc_without_duplicates.csv\")\n",
    "print(test_ljc.iloc[0][2])\n",
    "print(test_ljc.iloc[1143][2])\n",
    "n=test_ljc.shape[0]\n",
    "print(n)"
   ]
  },
  {
   "cell_type": "code",
   "execution_count": null,
   "metadata": {},
   "outputs": [],
   "source": []
  }
 ],
 "metadata": {
  "kernelspec": {
   "display_name": "Python 3",
   "language": "python",
   "name": "python3"
  },
  "language_info": {
   "codemirror_mode": {
    "name": "ipython",
    "version": 3
   },
   "file_extension": ".py",
   "mimetype": "text/x-python",
   "name": "python",
   "nbconvert_exporter": "python",
   "pygments_lexer": "ipython3",
   "version": "3.7.3"
  }
 },
 "nbformat": 4,
 "nbformat_minor": 2
}
