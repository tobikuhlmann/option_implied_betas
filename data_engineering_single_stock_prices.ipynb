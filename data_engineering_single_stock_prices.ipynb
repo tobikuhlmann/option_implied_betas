{
 "cells": [
  {
   "cell_type": "markdown",
   "metadata": {},
   "source": [
    "Tobias Kuhlmann, Karlsruhe Institute of Technology (KIT), tobias.kuhlmann@student.kit.edu"
   ]
  },
  {
   "cell_type": "code",
   "execution_count": 13,
   "metadata": {},
   "outputs": [],
   "source": [
    "%matplotlib inline\n",
    "\n",
    "# Pretty Display of Variables\n",
    "from IPython.core.interactiveshell import InteractiveShell\n",
    "InteractiveShell.ast_node_interactivity = \"all\"\n",
    "\n",
    "# Double resolution plotting for retina display\n",
    "%config InlineBackend.figure_format ='retina'\n",
    "\n",
    "import numpy as np\n",
    "import pylab as pl\n",
    "import pandas as pd\n",
    "import matplotlib.pyplot as plt\n",
    "\n",
    "import glob\n",
    "import os\n",
    "\n",
    "import datetime as dt"
   ]
  },
  {
   "cell_type": "markdown",
   "metadata": {},
   "source": [
    "## Data\n",
    "\n",
    "##### Data needed\n",
    "- Return time series to calculate rolling window stock-stock correlations $\\rho^{P}_{ij,t}$\n",
    "- Stock weights in index over time $w_{i,t}$\n",
    "- Implied volatilities of every single stock i $\\sigma^{Q}_{i,t}$\n",
    "- Implied volatilities of Index $\\sigma^{Q}_{M,t}$\n",
    "- Use stock-stock correlations, implied volatilities of single stocks and index implied volatility to calculate $\\alpha_t$\n"
   ]
  },
  {
   "cell_type": "code",
   "execution_count": 14,
   "metadata": {},
   "outputs": [
    {
     "data": {
      "text/plain": [
       "['Single_Stock_Skewness',\n",
       " 'Fundamentals_SP500_Full.xlsx',\n",
       " 'usdOIScurve.csv',\n",
       " '.DS_Store',\n",
       " '0_Paper',\n",
       " 'Calculation_Process2.ipynb',\n",
       " '2019_04_26_Cpy_Python_Code-Skewness_v8.ipynb',\n",
       " 'processed_data',\n",
       " 'instrumentid_and_symbol.csv',\n",
       " 'SP500',\n",
       " 'CRAMnoarbEOD_USOPT0007588D1_measuresByMaturity.csv',\n",
       " '.ipynb_checkpoints']"
      ]
     },
     "execution_count": 14,
     "metadata": {},
     "output_type": "execute_result"
    }
   ],
   "source": [
    "# Validate relative file path and list files\n",
    "os.listdir(\"../Option_Implied_Beta_Tobias/\")"
   ]
  },
  {
   "cell_type": "markdown",
   "metadata": {},
   "source": [
    "###### Import instrument id on ticker mapping"
   ]
  },
  {
   "cell_type": "code",
   "execution_count": 3,
   "metadata": {},
   "outputs": [
    {
     "data": {
      "text/plain": [
       "(7590, 3)"
      ]
     },
     "execution_count": 3,
     "metadata": {},
     "output_type": "execute_result"
    },
    {
     "data": {
      "text/html": [
       "<div>\n",
       "<style scoped>\n",
       "    .dataframe tbody tr th:only-of-type {\n",
       "        vertical-align: middle;\n",
       "    }\n",
       "\n",
       "    .dataframe tbody tr th {\n",
       "        vertical-align: top;\n",
       "    }\n",
       "\n",
       "    .dataframe thead th {\n",
       "        text-align: right;\n",
       "    }\n",
       "</style>\n",
       "<table border=\"1\" class=\"dataframe\">\n",
       "  <thead>\n",
       "    <tr style=\"text-align: right;\">\n",
       "      <th></th>\n",
       "      <th>instrumentid</th>\n",
       "      <th>symbol</th>\n",
       "      <th>name</th>\n",
       "    </tr>\n",
       "  </thead>\n",
       "  <tbody>\n",
       "    <tr>\n",
       "      <th>0</th>\n",
       "      <td>USOPT0000001D1</td>\n",
       "      <td>1R</td>\n",
       "      <td>NFX (OPIS) Mont Belvieu Non-LST Propane Future</td>\n",
       "    </tr>\n",
       "  </tbody>\n",
       "</table>\n",
       "</div>"
      ],
      "text/plain": [
       "     instrumentid symbol                                            name\n",
       "0  USOPT0000001D1     1R  NFX (OPIS) Mont Belvieu Non-LST Propane Future"
      ]
     },
     "execution_count": 3,
     "metadata": {},
     "output_type": "execute_result"
    }
   ],
   "source": [
    "id_ticker_map = pd.read_csv(\"../Option_Implied_Beta_Tobias/instrumentid_and_symbol.csv\")\n",
    "id_ticker_map.shape\n",
    "id_ticker_map.head(1)\n"
   ]
  },
  {
   "cell_type": "markdown",
   "metadata": {},
   "source": [
    "## Reuters stock data approach"
   ]
  },
  {
   "cell_type": "markdown",
   "metadata": {},
   "source": [
    "##### Stock prices\n",
    "- All instrument prices in long format\n",
    "- SP500 prices: Handle leaver and joiners\n",
    "- Are the price series already filtered by active membership in SP500? Or just the full price series without the necessity of constantly being a SP500 member"
   ]
  },
  {
   "cell_type": "code",
   "execution_count": 4,
   "metadata": {},
   "outputs": [],
   "source": [
    "# the path to csv file directory\n",
    "mycsvdir = '../Option_Implied_Beta_Tobias/SP500/SP500 Prices/'\n",
    "# get all the csv files in that directory\n",
    "csvfiles_w_path = glob.glob(os.path.join(mycsvdir, '*.csv'))"
   ]
  },
  {
   "cell_type": "code",
   "execution_count": 5,
   "metadata": {},
   "outputs": [
    {
     "data": {
      "text/plain": [
       "(4123715, 3)"
      ]
     },
     "execution_count": 5,
     "metadata": {},
     "output_type": "execute_result"
    },
    {
     "name": "stdout",
     "output_type": "stream",
     "text": [
      "Unique ticker labels: (871,)\n"
     ]
    }
   ],
   "source": [
    "# loop through the files and read them in with pandas\n",
    "stock_prices = pd.DataFrame(columns=['id', 'Date', 'CLOSE']) \n",
    "for csvfile in csvfiles_w_path:\n",
    "    df = pd.read_csv(csvfile, usecols=['Date', 'CLOSE'])\n",
    "    # add column with ticker symbol\n",
    "    filename_wo_ext=os.path.basename(csvfile)\n",
    "    df['id'] = os.path.splitext(filename_wo_ext)[0]\n",
    "    # append\n",
    "    stock_prices = stock_prices.append(df[['id', 'Date', 'CLOSE']])\n",
    "    \n",
    "stock_prices.shape\n",
    "print(f\"Unique ticker labels: {stock_prices.id.unique().shape}\")"
   ]
  },
  {
   "cell_type": "markdown",
   "metadata": {},
   "source": [
    "##### Stock price data quality and validation\n"
   ]
  },
  {
   "cell_type": "markdown",
   "metadata": {},
   "source": [
    "Problems with stock price data:\n",
    " - Every date should have around 500 constituents (right now 505 because of different stock types per company)\n",
    "  - Some dates with 1 (min) instrument and some with 630 (max)\n",
    " "
   ]
  },
  {
   "cell_type": "code",
   "execution_count": 6,
   "metadata": {},
   "outputs": [
    {
     "name": "stdout",
     "output_type": "stream",
     "text": [
      "Minimum constituent count per date: [1]\n",
      "Maximum constituent count per date: [630]\n"
     ]
    }
   ],
   "source": [
    "print(f\"Minimum constituent count per date: {stock_prices.groupby(by='Date').count().sort_values(by='id', ascending=True).head(1).id.values}\")\n",
    "print(f\"Maximum constituent count per date: {stock_prices.groupby(by='Date').count().sort_values(by='id', ascending=False).head(1).id.values}\")"
   ]
  },
  {
   "cell_type": "code",
   "execution_count": 7,
   "metadata": {
    "scrolled": false
   },
   "outputs": [
    {
     "data": {
      "text/plain": [
       "<matplotlib.axes._subplots.AxesSubplot at 0x119dbe550>"
      ]
     },
     "execution_count": 7,
     "metadata": {},
     "output_type": "execute_result"
    },
    {
     "data": {
      "image/png": "[encoded data removed]",
      "text/plain": [
       "<Figure size 432x288 with 1 Axes>"
      ]
     },
     "metadata": {
      "image/png": {
       "height": 250,
       "width": 383
      },
      "needs_background": "light"
     },
     "output_type": "display_data"
    }
   ],
   "source": [
    "stock_prices.groupby(by='Date').count().id.hist()"
   ]
  },
  {
   "cell_type": "markdown",
   "metadata": {},
   "source": [
    "##### SP500 constituent filtering\n",
    "- Make sure leavers and joiners are adequately handled\n",
    " - Time series should only consist of dates where instrument is part of SP500\n",
    " \n",
    "1. Attach beginning constituents to leaver joiners sheet\n",
    "2. Create active membership time series for every ticker symbol\n",
    "3. Filter time series on read in by those dates and delete rest in long format"
   ]
  },
  {
   "cell_type": "code",
   "execution_count": 8,
   "metadata": {},
   "outputs": [
    {
     "data": {
      "text/html": [
       "<div>\n",
       "<style scoped>\n",
       "    .dataframe tbody tr th:only-of-type {\n",
       "        vertical-align: middle;\n",
       "    }\n",
       "\n",
       "    .dataframe tbody tr th {\n",
       "        vertical-align: top;\n",
       "    }\n",
       "\n",
       "    .dataframe thead th {\n",
       "        text-align: right;\n",
       "    }\n",
       "</style>\n",
       "<table border=\"1\" class=\"dataframe\">\n",
       "  <thead>\n",
       "    <tr style=\"text-align: right;\">\n",
       "      <th></th>\n",
       "      <th>Date</th>\n",
       "      <th>Constituent RIC</th>\n",
       "      <th>type</th>\n",
       "    </tr>\n",
       "  </thead>\n",
       "  <tbody>\n",
       "    <tr>\n",
       "      <th>0</th>\n",
       "      <td>1994-12-30T00:00:00Z</td>\n",
       "      <td>MDP.N</td>\n",
       "      <td>joiner</td>\n",
       "    </tr>\n",
       "  </tbody>\n",
       "</table>\n",
       "</div>"
      ],
      "text/plain": [
       "                   Date Constituent RIC    type\n",
       "0  1994-12-30T00:00:00Z           MDP.N  joiner"
      ]
     },
     "execution_count": 8,
     "metadata": {},
     "output_type": "execute_result"
    },
    {
     "data": {
      "text/plain": [
       "(1846, 3)"
      ]
     },
     "execution_count": 8,
     "metadata": {},
     "output_type": "execute_result"
    }
   ],
   "source": [
    "leavers_joiners = pd.read_csv('../Option_Implied_Beta_Tobias/SP500/Constituents/2018_12_20_SP500_leavers_joiners.csv', \n",
    "                              usecols=['Date', 'Constituent RIC', 'type'])\n",
    "leavers_joiners.head(1)\n",
    "leavers_joiners.shape"
   ]
  },
  {
   "cell_type": "markdown",
   "metadata": {},
   "source": [
    "This shows the problematic that some instruments join and leave the SP500 more than once. Which means we need the full datetime series to adequately filter valid constituents by their membership dates"
   ]
  },
  {
   "cell_type": "code",
   "execution_count": 9,
   "metadata": {},
   "outputs": [
    {
     "data": {
      "text/html": [
       "<div>\n",
       "<style scoped>\n",
       "    .dataframe tbody tr th:only-of-type {\n",
       "        vertical-align: middle;\n",
       "    }\n",
       "\n",
       "    .dataframe tbody tr th {\n",
       "        vertical-align: top;\n",
       "    }\n",
       "\n",
       "    .dataframe thead th {\n",
       "        text-align: right;\n",
       "    }\n",
       "</style>\n",
       "<table border=\"1\" class=\"dataframe\">\n",
       "  <thead>\n",
       "    <tr style=\"text-align: right;\">\n",
       "      <th></th>\n",
       "      <th>Date</th>\n",
       "      <th>type</th>\n",
       "    </tr>\n",
       "    <tr>\n",
       "      <th>Constituent RIC</th>\n",
       "      <th></th>\n",
       "      <th></th>\n",
       "    </tr>\n",
       "  </thead>\n",
       "  <tbody>\n",
       "    <tr>\n",
       "      <th>JCI.N</th>\n",
       "      <td>5</td>\n",
       "      <td>5</td>\n",
       "    </tr>\n",
       "    <tr>\n",
       "      <th>RX.N^C10</th>\n",
       "      <td>4</td>\n",
       "      <td>4</td>\n",
       "    </tr>\n",
       "  </tbody>\n",
       "</table>\n",
       "</div>"
      ],
      "text/plain": [
       "                 Date  type\n",
       "Constituent RIC            \n",
       "JCI.N               5     5\n",
       "RX.N^C10            4     4"
      ]
     },
     "execution_count": 9,
     "metadata": {},
     "output_type": "execute_result"
    }
   ],
   "source": [
    "leavers_joiners.groupby(by='Constituent RIC').count().sort_values(by='type', ascending=False).head(2)"
   ]
  },
  {
   "cell_type": "code",
   "execution_count": 10,
   "metadata": {},
   "outputs": [
    {
     "data": {
      "text/html": [
       "<div>\n",
       "<style scoped>\n",
       "    .dataframe tbody tr th:only-of-type {\n",
       "        vertical-align: middle;\n",
       "    }\n",
       "\n",
       "    .dataframe tbody tr th {\n",
       "        vertical-align: top;\n",
       "    }\n",
       "\n",
       "    .dataframe thead th {\n",
       "        text-align: right;\n",
       "    }\n",
       "</style>\n",
       "<table border=\"1\" class=\"dataframe\">\n",
       "  <thead>\n",
       "    <tr style=\"text-align: right;\">\n",
       "      <th></th>\n",
       "      <th>Constituent RIC</th>\n",
       "    </tr>\n",
       "  </thead>\n",
       "  <tbody>\n",
       "    <tr>\n",
       "      <th>0</th>\n",
       "      <td>MDP.N</td>\n",
       "    </tr>\n",
       "    <tr>\n",
       "      <th>1</th>\n",
       "      <td>SO.N</td>\n",
       "    </tr>\n",
       "    <tr>\n",
       "      <th>2</th>\n",
       "      <td>VO.N^L00</td>\n",
       "    </tr>\n",
       "    <tr>\n",
       "      <th>3</th>\n",
       "      <td>CVX.N</td>\n",
       "    </tr>\n",
       "    <tr>\n",
       "      <th>4</th>\n",
       "      <td>TMC.N^F00</td>\n",
       "    </tr>\n",
       "  </tbody>\n",
       "</table>\n",
       "</div>"
      ],
      "text/plain": [
       "  Constituent RIC\n",
       "0           MDP.N\n",
       "1            SO.N\n",
       "2        VO.N^L00\n",
       "3           CVX.N\n",
       "4       TMC.N^F00"
      ]
     },
     "execution_count": 10,
     "metadata": {},
     "output_type": "execute_result"
    },
    {
     "data": {
      "text/plain": [
       "(1144, 1)"
      ]
     },
     "execution_count": 10,
     "metadata": {},
     "output_type": "execute_result"
    }
   ],
   "source": [
    "leavers_joiners_wo_duplic = pd.read_csv('../Option_Implied_Beta_Tobias/SP500/Constituents/2018_12_20_SP500_ljc_without_duplicates.csv', \n",
    "                                       usecols=['Constituent RIC'])\n",
    "leavers_joiners_wo_duplic.head()\n",
    "leavers_joiners_wo_duplic.shape"
   ]
  },
  {
   "cell_type": "markdown",
   "metadata": {},
   "source": [
    "##### Filter stock price data\n",
    " - Create time series of active membership dates for every instrument\n",
    " - Join imported prices on these time series \n",
    " - Should give a little more than 500 constituents at every date"
   ]
  },
  {
   "cell_type": "markdown",
   "metadata": {},
   "source": [
    "##### Stock weights in index over time \n",
    "\n",
    "- Problem: In SP500 fundamentals excel sheet only current market cap, need free float market cap\n",
    "\n",
    "S&P 500 index is free-float market capitalization weighted. \n",
    "Free-float weighted means that instead of full market cap, only the public float of the company is considered when calculating its weight. Not all the shares of a company can be traded freely but some stocks might be under restrictions from SEC. S&P Dow Jones is assigning IWF (Investable Weight Factor) for all components part of its US indexes based on the component’s float\n",
    "\n",
    "References: \n",
    "- https://us.spindices.com/documents/index-policies/methodology-sp-float-adjustment.pdf\n",
    "- http://siblisresearch.com/data/weights-sp-500-companies/\n",
    "\n",
    "\n",
    "##### Weight calculation using the Float Adjustment Methodology of SP Dow Jones Indices\n",
    "For each constituent i calculate free float market capitalization (FFMC): $$FFMC_{i,t} = {\\#(free\\ float\\ shares)}_{i,t} * p_{i,t}$$\n",
    "\n",
    "Then the respective index weight is the constituent's free float market capitalization $FFMC_{i,t}$ divided by the index' free float market capitalization $\\sum_{i=1}^{N}{}FFMC_{i,t}$, which is the sum of all constituents market capitalizations.\n",
    "$$w_{i,t} = \\frac{FFMC_{i,t}}{\\sum_{i=1}^{N}{}FFMC_{i,t}}$$\n",
    "\n",
    "\n",
    "\n"
   ]
  },
  {
   "cell_type": "markdown",
   "metadata": {},
   "source": [
    "## Fundamentals excel approach\n",
    "- For now, not from Reuters directly but from Simon's excel sheet with current market cap, not free float methodology\n",
    "- Bring SP500 fundamental data into nice long format"
   ]
  },
  {
   "cell_type": "code",
   "execution_count": 13,
   "metadata": {},
   "outputs": [],
   "source": [
    "# read in full SP500 fundamentals\n",
    "# runtime around 15min with 2,9 GHz Intel Core i5, 8gb ram\n",
    "sp_fund_full = pd.read_excel('../Option_Implied_Beta_Tobias/Fundamentals_SP500_Full.xlsx', \n",
    "                             index_col=0,\n",
    "                             header=[3,5])"
   ]
  },
  {
   "cell_type": "code",
   "execution_count": 14,
   "metadata": {},
   "outputs": [],
   "source": [
    "# stack to long format, twice for two index levels\n",
    "sp_fund_long = sp_fund_full.stack(dropna=True).stack(dropna=True)\n",
    "# reset index to work with valid long format\n",
    "sp_fund_long = sp_fund_long.reset_index()\n",
    "# clear column names\n",
    "sp_fund_long.rename(columns={\"level_0\": \"date\", \"Dates\": \"field\", 'level_2': 'id', 0: 'value'}, inplace=True)\n",
    "# filter price and market cap \n",
    "sp_fund_long = sp_fund_long[(sp_fund_long['field']=='PX_LAST') | (sp_fund_long['field']=='CUR_MKT_CAP')]\n",
    "\n",
    "# Transform back to wide format to do calculations\n",
    "sp_fund_wide = sp_fund_long.set_index(['date', 'id', 'field']).unstack()\n",
    "#drop second column level\n",
    "sp_fund_wide.columns = sp_fund_wide.columns.droplevel(0)"
   ]
  },
  {
   "cell_type": "markdown",
   "metadata": {},
   "source": [
    "##### Calculate index constituents weights\n",
    "- Calculate daily weight of every constituent $$w_{i,t}=\\frac{MKTCAP_{i,t}}{\\sum_{i=1}^{N}MKTCAP_{i,t}}$$\n",
    "where $MKTCAP_{i,t}$ is the market capitalization of constituent $i$ at time $t$."
   ]
  },
  {
   "cell_type": "code",
   "execution_count": 15,
   "metadata": {},
   "outputs": [],
   "source": [
    "# prepare index for correct join operation\n",
    "sp_fund_wide = sp_fund_wide.reset_index().set_index('date')\n",
    "# join cummulative market cap\n",
    "sp_fund_wide['INDEX_MKT_CAP'] = sp_fund_wide.groupby(by=['date']).agg({'CUR_MKT_CAP': ['sum']})\n",
    "# Calculate weight\n",
    "sp_fund_wide['weight'] = sp_fund_wide['CUR_MKT_CAP'].divide(sp_fund_wide['INDEX_MKT_CAP'])\n"
   ]
  },
  {
   "cell_type": "code",
   "execution_count": 16,
   "metadata": {},
   "outputs": [
    {
     "data": {
      "text/html": [
       "<div>\n",
       "<style scoped>\n",
       "    .dataframe tbody tr th:only-of-type {\n",
       "        vertical-align: middle;\n",
       "    }\n",
       "\n",
       "    .dataframe tbody tr th {\n",
       "        vertical-align: top;\n",
       "    }\n",
       "\n",
       "    .dataframe thead th {\n",
       "        text-align: right;\n",
       "    }\n",
       "</style>\n",
       "<table border=\"1\" class=\"dataframe\">\n",
       "  <thead>\n",
       "    <tr style=\"text-align: right;\">\n",
       "      <th></th>\n",
       "      <th>date</th>\n",
       "      <th>id</th>\n",
       "      <th>field</th>\n",
       "      <th>value</th>\n",
       "    </tr>\n",
       "  </thead>\n",
       "  <tbody>\n",
       "    <tr>\n",
       "      <th>0</th>\n",
       "      <td>2001-01-01</td>\n",
       "      <td>A UN Equity</td>\n",
       "      <td>CUR_MKT_CAP</td>\n",
       "      <td>24802.5721</td>\n",
       "    </tr>\n",
       "    <tr>\n",
       "      <th>1</th>\n",
       "      <td>2001-01-01</td>\n",
       "      <td>AAPL UW Equity</td>\n",
       "      <td>CUR_MKT_CAP</td>\n",
       "      <td>4996.2446</td>\n",
       "    </tr>\n",
       "  </tbody>\n",
       "</table>\n",
       "</div>"
      ],
      "text/plain": [
       "        date              id        field       value\n",
       "0 2001-01-01     A UN Equity  CUR_MKT_CAP  24802.5721\n",
       "1 2001-01-01  AAPL UW Equity  CUR_MKT_CAP   4996.2446"
      ]
     },
     "execution_count": 16,
     "metadata": {},
     "output_type": "execute_result"
    }
   ],
   "source": [
    "sp_fund_long_output = pd.melt(sp_fund_wide.reset_index(), id_vars=['date', \n",
    "                                             'id'], \n",
    "                                    value_vars=['CUR_MKT_CAP', \n",
    "                                                'PX_LAST',\n",
    "                                                'INDEX_MKT_CAP',\n",
    "                                                'weight'])\n",
    "sp_fund_long_output.head(2)"
   ]
  },
  {
   "cell_type": "markdown",
   "metadata": {},
   "source": [
    "##### Export to csv"
   ]
  },
  {
   "cell_type": "code",
   "execution_count": 17,
   "metadata": {},
   "outputs": [],
   "source": [
    "sp_fund_long_output.to_csv('../Option_Implied_Beta_Tobias/processed_data/sp500_stock_data.csv', index=True)"
   ]
  },
  {
   "cell_type": "markdown",
   "metadata": {},
   "source": [
    "##### Data validation\n",
    "- around 505 constituents per day\n",
    "- Weights sum up to 1 per day\n",
    "- Duplicate indices"
   ]
  },
  {
   "cell_type": "markdown",
   "metadata": {},
   "source": [
    "##### Dupplicate indices: Shouldn't exist"
   ]
  },
  {
   "cell_type": "code",
   "execution_count": 41,
   "metadata": {},
   "outputs": [
    {
     "name": "stdout",
     "output_type": "stream",
     "text": [
      "[[<matplotlib.axes._subplots.AxesSubplot object at 0x1751f94a8>]]\n"
     ]
    },
    {
     "data": {
      "image/png": "[encoded data removed]",
      "text/plain": [
       "<Figure size 432x288 with 1 Axes>"
      ]
     },
     "metadata": {
      "image/png": {
       "height": 263,
       "width": 383
      },
      "needs_background": "light"
     },
     "output_type": "display_data"
    }
   ],
   "source": [
    "print(sp_fund_long.groupby(by=['date']).agg({'id': ['count']}).hist())\n",
    "assert (sp_fund_wide.groupby(by=['date']).agg({'weight': ['sum']}).round(decimals=2) == 1.00).all().values, 'Weights don\\'t add up to 1.00'\n",
    "assert sp_fund_long[sp_fund_long.duplicated()].shape[0] == 0\n"
   ]
  },
  {
   "cell_type": "markdown",
   "metadata": {},
   "source": [
    "##### Read in data from above"
   ]
  },
  {
   "cell_type": "markdown",
   "metadata": {},
   "source": [
    "##### Rolling window stock-stock correlations $\\rho^{P}_{ij,t}$ under empirical measure P"
   ]
  },
  {
   "cell_type": "code",
   "execution_count": 18,
   "metadata": {},
   "outputs": [
    {
     "data": {
      "text/plain": [
       "array(['CUR_MKT_CAP', 'PX_LAST', 'INDEX_MKT_CAP', 'weight'], dtype=object)"
      ]
     },
     "execution_count": 18,
     "metadata": {},
     "output_type": "execute_result"
    },
    {
     "data": {
      "text/html": [
       "<div>\n",
       "<style scoped>\n",
       "    .dataframe tbody tr th:only-of-type {\n",
       "        vertical-align: middle;\n",
       "    }\n",
       "\n",
       "    .dataframe tbody tr th {\n",
       "        vertical-align: top;\n",
       "    }\n",
       "\n",
       "    .dataframe thead th {\n",
       "        text-align: right;\n",
       "    }\n",
       "</style>\n",
       "<table border=\"1\" class=\"dataframe\">\n",
       "  <thead>\n",
       "    <tr style=\"text-align: right;\">\n",
       "      <th></th>\n",
       "      <th>Unnamed: 0</th>\n",
       "      <th>date</th>\n",
       "      <th>id</th>\n",
       "      <th>field</th>\n",
       "      <th>value</th>\n",
       "    </tr>\n",
       "  </thead>\n",
       "  <tbody>\n",
       "    <tr>\n",
       "      <th>0</th>\n",
       "      <td>0</td>\n",
       "      <td>2001-01-01</td>\n",
       "      <td>A UN Equity</td>\n",
       "      <td>CUR_MKT_CAP</td>\n",
       "      <td>24802.5721</td>\n",
       "    </tr>\n",
       "    <tr>\n",
       "      <th>1</th>\n",
       "      <td>1</td>\n",
       "      <td>2001-01-01</td>\n",
       "      <td>AAPL UW Equity</td>\n",
       "      <td>CUR_MKT_CAP</td>\n",
       "      <td>4996.2446</td>\n",
       "    </tr>\n",
       "    <tr>\n",
       "      <th>2</th>\n",
       "      <td>2</td>\n",
       "      <td>2001-01-01</td>\n",
       "      <td>ADBE UW Equity</td>\n",
       "      <td>CUR_MKT_CAP</td>\n",
       "      <td>13984.9407</td>\n",
       "    </tr>\n",
       "    <tr>\n",
       "      <th>3</th>\n",
       "      <td>3</td>\n",
       "      <td>2001-01-01</td>\n",
       "      <td>ADSK UW Equity</td>\n",
       "      <td>CUR_MKT_CAP</td>\n",
       "      <td>1519.2750</td>\n",
       "    </tr>\n",
       "    <tr>\n",
       "      <th>4</th>\n",
       "      <td>4</td>\n",
       "      <td>2001-01-01</td>\n",
       "      <td>ALXN UW Equity</td>\n",
       "      <td>CUR_MKT_CAP</td>\n",
       "      <td>1169.9335</td>\n",
       "    </tr>\n",
       "  </tbody>\n",
       "</table>\n",
       "</div>"
      ],
      "text/plain": [
       "   Unnamed: 0        date              id        field       value\n",
       "0           0  2001-01-01     A UN Equity  CUR_MKT_CAP  24802.5721\n",
       "1           1  2001-01-01  AAPL UW Equity  CUR_MKT_CAP   4996.2446\n",
       "2           2  2001-01-01  ADBE UW Equity  CUR_MKT_CAP  13984.9407\n",
       "3           3  2001-01-01  ADSK UW Equity  CUR_MKT_CAP   1519.2750\n",
       "4           4  2001-01-01  ALXN UW Equity  CUR_MKT_CAP   1169.9335"
      ]
     },
     "execution_count": 18,
     "metadata": {},
     "output_type": "execute_result"
    },
    {
     "data": {
      "text/plain": [
       "(8382268, 5)"
      ]
     },
     "execution_count": 18,
     "metadata": {},
     "output_type": "execute_result"
    }
   ],
   "source": [
    "sp500_prices = pd.read_csv(\"../Option_Implied_Beta_Tobias/processed_data/sp500_stock_data.csv\")\n",
    "sp500_prices.head()\n",
    "sp500_prices.shape"
   ]
  },
  {
   "cell_type": "code",
   "execution_count": 21,
   "metadata": {},
   "outputs": [
    {
     "data": {
      "text/html": [
       "<div>\n",
       "<style scoped>\n",
       "    .dataframe tbody tr th:only-of-type {\n",
       "        vertical-align: middle;\n",
       "    }\n",
       "\n",
       "    .dataframe tbody tr th {\n",
       "        vertical-align: top;\n",
       "    }\n",
       "\n",
       "    .dataframe thead th {\n",
       "        text-align: right;\n",
       "    }\n",
       "</style>\n",
       "<table border=\"1\" class=\"dataframe\">\n",
       "  <thead>\n",
       "    <tr style=\"text-align: right;\">\n",
       "      <th></th>\n",
       "      <th>Unnamed: 0</th>\n",
       "      <th>date</th>\n",
       "      <th>id</th>\n",
       "      <th>field</th>\n",
       "      <th>value</th>\n",
       "    </tr>\n",
       "  </thead>\n",
       "  <tbody>\n",
       "    <tr>\n",
       "      <th>2095567</th>\n",
       "      <td>2095567</td>\n",
       "      <td>2001-01-01</td>\n",
       "      <td>A UN Equity</td>\n",
       "      <td>PX_LAST</td>\n",
       "      <td>34.4172</td>\n",
       "    </tr>\n",
       "    <tr>\n",
       "      <th>2095568</th>\n",
       "      <td>2095568</td>\n",
       "      <td>2001-01-01</td>\n",
       "      <td>AAPL UW Equity</td>\n",
       "      <td>PX_LAST</td>\n",
       "      <td>0.9344</td>\n",
       "    </tr>\n",
       "    <tr>\n",
       "      <th>2095569</th>\n",
       "      <td>2095569</td>\n",
       "      <td>2001-01-01</td>\n",
       "      <td>ADBE UW Equity</td>\n",
       "      <td>PX_LAST</td>\n",
       "      <td>28.9129</td>\n",
       "    </tr>\n",
       "    <tr>\n",
       "      <th>2095570</th>\n",
       "      <td>2095570</td>\n",
       "      <td>2001-01-01</td>\n",
       "      <td>ADSK UW Equity</td>\n",
       "      <td>PX_LAST</td>\n",
       "      <td>6.5486</td>\n",
       "    </tr>\n",
       "    <tr>\n",
       "      <th>2095571</th>\n",
       "      <td>2095571</td>\n",
       "      <td>2001-01-01</td>\n",
       "      <td>ALXN UW Equity</td>\n",
       "      <td>PX_LAST</td>\n",
       "      <td>16.2344</td>\n",
       "    </tr>\n",
       "  </tbody>\n",
       "</table>\n",
       "</div>"
      ],
      "text/plain": [
       "         Unnamed: 0        date              id    field    value\n",
       "2095567     2095567  2001-01-01     A UN Equity  PX_LAST  34.4172\n",
       "2095568     2095568  2001-01-01  AAPL UW Equity  PX_LAST   0.9344\n",
       "2095569     2095569  2001-01-01  ADBE UW Equity  PX_LAST  28.9129\n",
       "2095570     2095570  2001-01-01  ADSK UW Equity  PX_LAST   6.5486\n",
       "2095571     2095571  2001-01-01  ALXN UW Equity  PX_LAST  16.2344"
      ]
     },
     "execution_count": 21,
     "metadata": {},
     "output_type": "execute_result"
    },
    {
     "data": {
      "text/plain": [
       "(505,)"
      ]
     },
     "execution_count": 21,
     "metadata": {},
     "output_type": "execute_result"
    }
   ],
   "source": [
    "sp500_prices = sp500_prices[sp500_prices.field == 'PX_LAST']\n",
    "sp500_prices.head()\n",
    "sp500_prices.id.unique().shapefast\n"
   ]
  },
  {
   "cell_type": "markdown",
   "metadata": {},
   "source": [
    "##### Calculate daily log returns from prices"
   ]
  },
  {
   "cell_type": "code",
   "execution_count": 11,
   "metadata": {},
   "outputs": [
    {
     "ename": "NameError",
     "evalue": "name 'sp_fund_wide' is not defined",
     "output_type": "error",
     "traceback": [
      "\u001b[0;31m---------------------------------------------------------------------------\u001b[0m",
      "\u001b[0;31mNameError\u001b[0m                                 Traceback (most recent call last)",
      "\u001b[0;32m<ipython-input-11-d9b492e2d913>\u001b[0m in \u001b[0;36m<module>\u001b[0;34m\u001b[0m\n\u001b[0;32m----> 1\u001b[0;31m \u001b[0msp_fund_wide\u001b[0m\u001b[0;34m.\u001b[0m\u001b[0mhead\u001b[0m\u001b[0;34m(\u001b[0m\u001b[0;34m)\u001b[0m\u001b[0;34m\u001b[0m\u001b[0;34m\u001b[0m\u001b[0m\n\u001b[0m",
      "\u001b[0;31mNameError\u001b[0m: name 'sp_fund_wide' is not defined"
     ]
    }
   ],
   "source": []
  },
  {
   "cell_type": "code",
   "execution_count": null,
   "metadata": {},
   "outputs": [],
   "source": [
    "\n",
    "#constituents_returns = prices_joined.pct_change(1)\n",
    "constituents_log_returns = np.log(prices_joined/prices_joined.shift(1))"
   ]
  },
  {
   "cell_type": "markdown",
   "metadata": {},
   "source": [
    "##### Rolling window stock-stock correlations $\\rho^{P}_{ij,t}$ under empirical measure P\n",
    "- rolling window correlations of log returns: rolling window = 252"
   ]
  },
  {
   "cell_type": "code",
   "execution_count": null,
   "metadata": {},
   "outputs": [],
   "source": [
    "constituents_corr = constituents_log_returns.rolling(window=252).corr()"
   ]
  },
  {
   "cell_type": "code",
   "execution_count": null,
   "metadata": {},
   "outputs": [],
   "source": []
  },
  {
   "cell_type": "code",
   "execution_count": null,
   "metadata": {},
   "outputs": [],
   "source": []
  },
  {
   "cell_type": "code",
   "execution_count": null,
   "metadata": {},
   "outputs": [],
   "source": []
  }
 ],
 "metadata": {
  "kernelspec": {
   "display_name": "densityresearch",
   "language": "python",
   "name": "densityresearch"
  },
  "language_info": {
   "codemirror_mode": {
    "name": "ipython",
    "version": 3
   },
   "file_extension": ".py",
   "mimetype": "text/x-python",
   "name": "python",
   "nbconvert_exporter": "python",
   "pygments_lexer": "ipython3",
   "version": "3.6.8"
  }
 },
 "nbformat": 4,
 "nbformat_minor": 2
}
