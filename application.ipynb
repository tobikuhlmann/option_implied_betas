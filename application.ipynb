{
 "cells": [
  {
   "cell_type": "markdown",
   "metadata": {
    "nbpresent": {
     "id": "28ea5f66-c563-4046-a48e-8d0ff213383c"
    }
   },
   "source": [
    "Tobias Kuhlmann, Karlsruhe Institute of Technology (KIT), tobias.kuhlmann@student.kit.edu"
   ]
  },
  {
   "cell_type": "code",
   "execution_count": 4,
   "metadata": {
    "nbpresent": {
     "id": "e253a17a-6fc8-4eea-97a8-b21f61fec87a"
    }
   },
   "outputs": [],
   "source": [
    "import numpy as np\n",
    "import pylab as pl\n",
    "import pandas as pd\n",
    "import matplotlib.pyplot as plt\n",
    "import random\n",
    "import time\n",
    "import glob\n",
    "import os\n",
    "import sys\n",
    "import datetime as dt\n",
    "\n",
    "\n",
    "# add package location to path\n",
    "sys.path.append('../../../option_implied_betas/oib/')\n",
    "import OIB\n",
    "\n",
    "\n",
    "# Pretty Display of Variables\n",
    "from IPython.core.interactiveshell import InteractiveShell\n",
    "InteractiveShell.ast_node_interactivity = 'all'\n",
    "\n",
    "# Double resolution plotting for retina display\n",
    "%config InlineBackend.figure_format ='retina'\n",
    "\n",
    "%matplotlib inline"
   ]
  },
  {
   "cell_type": "markdown",
   "metadata": {
    "nbpresent": {
     "id": "8327563f-b6f8-4bdf-8b9b-c1157484f08c"
    }
   },
   "source": [
    "## Option implied betas following Buss and Vilkov (2012)\n",
    "Implements calculation of option implied correlations following Buss, A. and Vilkov, G., 2012. Measuring equity risk with option-implied correlations. The Review of Financial Studies, 25(10), pp.3113-3140.\n"
   ]
  },
  {
   "cell_type": "markdown",
   "metadata": {},
   "source": [
    "##### Data simulation"
   ]
  },
  {
   "cell_type": "code",
   "execution_count": 2,
   "metadata": {},
   "outputs": [
    {
     "data": {
      "text/plain": [
       "(500,)"
      ]
     },
     "execution_count": 2,
     "metadata": {},
     "output_type": "execute_result"
    },
    {
     "data": {
      "text/plain": [
       "(4000, 500)"
      ]
     },
     "execution_count": 2,
     "metadata": {},
     "output_type": "execute_result"
    },
    {
     "data": {
      "text/plain": [
       "(500,)"
      ]
     },
     "execution_count": 2,
     "metadata": {},
     "output_type": "execute_result"
    }
   ],
   "source": [
    "n_constituents = 500\n",
    "t = 4000\n",
    "# 500 stock return series\n",
    "single_stock_prices = np.random.rand(t, n_constituents)\n",
    "# weight vectors for every t\n",
    "w = np.random.rand(t, n_constituents)\n",
    "w[1,:].shape # specific t\n",
    "# implied vol sigma vector of all single stocks for every t\n",
    "sigma_single_stocks = np.random.rand(t, n_constituents)\n",
    "sigma_single_stocks.shape\n",
    "sigma_single_stocks[1,:].shape # specific t\n",
    "# implied vol sigma of index for every t\n",
    "sigma_index = np.random.rand(t, 1)"
   ]
  },
  {
   "cell_type": "markdown",
   "metadata": {},
   "source": [
    "##### Estimation"
   ]
  },
  {
   "cell_type": "code",
   "execution_count": 3,
   "metadata": {},
   "outputs": [
    {
     "data": {
      "text/plain": [
       "['__init__.py', '__pycache__', '.ipynb_checkpoints', 'OptionImpliedBetas.py']"
      ]
     },
     "execution_count": 3,
     "metadata": {},
     "output_type": "execute_result"
    }
   ],
   "source": [
    "# Validate relative file path and list files\n",
    "os.listdir(\"../../../option_implied_betas/oib\")"
   ]
  },
  {
   "cell_type": "code",
   "execution_count": 4,
   "metadata": {},
   "outputs": [
    {
     "name": "stdout",
     "output_type": "stream",
     "text": [
      "correlation calculation execution time: 6212.359127044678 seconds\n",
      "Option implied correlations execution time: 611.4665699005127 seconds\n"
     ]
    }
   ],
   "source": [
    "oib_ob = OIB.OptionImpliedBetas(single_stock_returns=single_stock_prices, \n",
    "             sigma_stocks=sigma_single_stocks, \n",
    "             sigma_index=sigma_index, \n",
    "             w=w)\n",
    "\n",
    "oib_ob.fit()"
   ]
  },
  {
   "cell_type": "code",
   "execution_count": null,
   "metadata": {},
   "outputs": [],
   "source": []
  },
  {
   "cell_type": "code",
   "execution_count": null,
   "metadata": {},
   "outputs": [],
   "source": []
  },
  {
   "cell_type": "code",
   "execution_count": null,
   "metadata": {},
   "outputs": [],
   "source": []
  }
 ],
 "metadata": {
  "kernelspec": {
   "display_name": "Python [conda env:bayesianfiltering] *",
   "language": "python",
   "name": "conda-env-bayesianfiltering-py"
  },
  "language_info": {
   "codemirror_mode": {
    "name": "ipython",
    "version": 3
   },
   "file_extension": ".py",
   "mimetype": "text/x-python",
   "name": "python",
   "nbconvert_exporter": "python",
   "pygments_lexer": "ipython3",
   "version": "3.7.7"
  }
 },
 "nbformat": 4,
 "nbformat_minor": 4
}
