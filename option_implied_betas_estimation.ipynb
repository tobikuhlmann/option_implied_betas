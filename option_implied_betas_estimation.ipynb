{
 "cells": [
  {
   "cell_type": "markdown",
   "metadata": {
    "nbpresent": {
     "id": "28ea5f66-c563-4046-a48e-8d0ff213383c"
    }
   },
   "source": [
    "Tobias Kuhlmann, Karlsruhe Institute of Technology (KIT), tobias.kuhlmann@student.kit.edu"
   ]
  },
  {
   "cell_type": "code",
   "execution_count": 1,
   "metadata": {
    "nbpresent": {
     "id": "e253a17a-6fc8-4eea-97a8-b21f61fec87a"
    }
   },
   "outputs": [],
   "source": [
    "%matplotlib inline\n",
    "\n",
    "# Pretty Display of Variables\n",
    "from IPython.core.interactiveshell import InteractiveShell\n",
    "InteractiveShell.ast_node_interactivity = \"all\"\n",
    "\n",
    "# Double resolution plotting for retina display\n",
    "%config InlineBackend.figure_format ='retina'\n",
    "\n",
    "import numpy as np\n",
    "import pylab as pl\n",
    "import pandas as pd\n",
    "import matplotlib.pyplot as plt\n",
    "\n",
    "import glob\n",
    "import os\n",
    "\n",
    "import datetime as dt\n",
    "\n",
    "\n"
   ]
  },
  {
   "cell_type": "markdown",
   "metadata": {
    "nbpresent": {
     "id": "8327563f-b6f8-4bdf-8b9b-c1157484f08c"
    }
   },
   "source": [
    "## Option implied betas following Buss and Vilkov (2012)\n",
    "Implements calculation of option implied correlations following Buss, A. and Vilkov, G., 2012. Measuring equity risk with option-implied correlations. The Review of Financial Studies, 25(10), pp.3113-3140.\n"
   ]
  },
  {
   "cell_type": "markdown",
   "metadata": {
    "nbpresent": {
     "id": "5c0f31fc-002e-4154-92fd-2c2f0f1b77c0"
    }
   },
   "source": [
    "## Idea\n",
    "\n",
    "Buss and Vilkov use forward-looking information from option prices to estimate option-implied correlations and to construct an option-implied predictor of factor betas. All of that under risk neutral probability measure.\n",
    "\n",
    "##### Intuition: \n",
    "- Only using historical information implies that the future is sufficiently similar to the past, which is questionable in financial markets -> Need for option implied information as they are forward-looking and traded, which means they include current market expectations. Use of option implied information may improve predictive quality\n",
    "- Variance risk premium: Overinsurance of volatility risk -> Implied volatility is higher in magnitude than realized volatility\n",
    " - Intuition: Investors are also willing to pay a risk premium to hedge against changes in variance (rising variance)\n",
    "- Correlation risk premium: Premium for uncertainty of future correlation. Need to insure future correlation, as a rise in correlation reduces diversification benefits. Underlying uncertainty: Correlations go crazy in crises -> Not much diversification in large market downturns and systemic crises, except with short positions. Result is that option-implied correlations are higher than realized.\n",
    " - Intuition: Investors are also willing to pay a risk premium to hedge against changes in correlations\n",
    " \n",
    "##### Rep: Risk neutral vs realized\n",
    "- Option implied measures are under risk neutral probability measure, which differs from realized / objective probability measure because of variance and correlation risk premium. Risk premia makes risk neutral moments biased predictors of realized moments. \n",
    "- Option implied correlations not directly observable, needs modeling choice -> parametric with assumptions\n",
    "\n",
    "##### Technical conditions of correlation matrix\n",
    "1. Propose a parametric way to estimate implied correlations not exceeding one\n",
    "2. correlation risk premium is negative (so consistent with the literature)\n",
    "3. correlation risk premium is higher in magnitude for low or negatively correlated stocks that are exposed to a higher risk of losing diversification benefits (so consistent with literature)\n",
    "4. Correlation matrix should be consistent with empirical observations\n",
    "    - Implied correlation is higher than realized\n",
    "    - Correlation risk premium is larger in magnitude for pairs of stocks that provide higher diversification benefits (negative and low correlation)"
   ]
  },
  {
   "cell_type": "markdown",
   "metadata": {
    "nbpresent": {
     "id": "93906692-5a50-4388-bb94-7a4464efe562"
    }
   },
   "source": [
    "## Theoretical implementation steps\n",
    "\n",
    "##### Goal\n",
    "- Implied correlation matrix $\\Gamma^{Q}_{t}$ with elements $\\rho^{Q}_{ij,t}$\n",
    "- Implied betas $\\beta^{Q}_{iM,t}$ calculated from implied correlations\n",
    "\n",
    "##### Implied variance of market index\n",
    "Observed implied variance of market index \n",
    "$$(\\sigma^{Q}_{M,t})^2 = \\sum_{i=1}^{N}\\sum_{j=1}^{N}{w_iw_j\\sigma^{Q}_{i,t}\\sigma^{Q}_{j,t}\\rho^{Q}_{ij,t}}$$\n",
    " \n",
    "where $\\sigma^{Q}_{i,t}$ is implied volatility of stock i in the index and $w_i$ are index weights\n",
    " \n",
    "##### Parametric form of implied correlations $\\rho^{Q}_{ij,t}$\n",
    "$$\\rho^{Q}_{ij,t} = \\rho^{P}_{ij,t} - \\alpha_t(1-\\rho^{P}_{ij,t})$$\n",
    " \n",
    "where $\\rho^{P}_{ij,t}$ is expected correlation under objective measure (realized), $\\alpha_t$ needs to be identified\n",
    "\n",
    "##### Identify $\\alpha_t$ in closed form\n",
    "$$\\alpha_t = \\frac{(\\sigma^{Q}_{M,t})^2-\\sum_{i=1}^{N}\\sum_{j=1}^{N}{w_iw_j\\sigma^{Q}_{i,t}\\sigma^{Q}_{j,t}\\rho^{P}_{ij,t}}}{\\sum_{i=1}^{N}\\sum_{j=1}^{N}{w_iw_j\\sigma^{Q}_{i,t}\\sigma^{Q}_{j,t}(1-\\rho^{P}_{ij,t})}}$$\n",
    "\n",
    "To satisfy above conditions: $-1\\leq\\alpha_t\\leq0$\n",
    "\n",
    "##### Calculate market betas $\\beta_{ik,t}$ with option implied correlation\n",
    "$$\\beta^{Q}_{iM,t} = \\frac{\\sigma^{Q}_{i,t}\\sum_{j=1}^{N}{w_j\\sigma^{Q}_{j,t}\\rho^{Q}_{ij,t}}}{(\\sigma^{Q}_{M,t})^2}$$\n",
    "\n",
    "For a multifactor model with multiple non-correlated factors, the beta $\\beta_{ik,t}$, where $i$ is the stock and $k$ the factor, can be calulated as the ratio of stock-to-factor covariance $\\sigma_{ik,t}$ to the factor variance $\\sigma^{2}_{k,t}$. $\\rho_{ij,t}$ is the pairwise stock correlation, $\\sigma_{j,t}$ stock volatilities, and $w_j$ the factor-mimicking portfolio weights.\n",
    " \n",
    " \n",
    " "
   ]
  },
  {
   "cell_type": "markdown",
   "metadata": {
    "nbpresent": {
     "id": "4ffd897c-afde-46fc-8021-dd49aed01647"
    }
   },
   "source": [
    "## Data\n",
    "\n",
    "##### Data needed\n",
    "- Return time series to calculate rolling window stock-stock correlations $\\rho^{P}_{ij,t}$\n",
    "- Stock weights in index over time \n",
    "- Implied volatilities of every single stock i $\\sigma^{Q}_{i,t}$\n",
    "- Implied volatilities of Index $\\sigma^{Q}_{M,t}$\n",
    "- Use stock-stock correlations, implied volatilities of single stocks and index implied volatility to calculate $\\alpha_t$\n"
   ]
  },
  {
   "cell_type": "markdown",
   "metadata": {},
   "source": []
  },
  {
   "cell_type": "markdown",
   "metadata": {
    "nbpresent": {
     "id": "5a6b476c-b707-461a-8397-ab19f9de53ad"
    }
   },
   "source": [
    "## Implied correlation estimation"
   ]
  },
  {
   "cell_type": "markdown",
   "metadata": {
    "nbpresent": {
     "id": "2b0b2393-8c0d-4652-a4ec-b21f73b94eaa"
    }
   },
   "source": [
    "##### Steps\n",
    "- Return time series to calculate stock-stock correlations $\\rho^{P}_{ij,t}$\n",
    "- Stock weights $w_i$ in index over time (time-varying or time-invariant?)\n",
    "- Implied volatilities of every single stock i $\\sigma^{Q}_{i,t}$\n",
    "- Implied volatilities of Index $\\sigma^{Q}_{M,t}$\n",
    "- Use stock-stock correlations, implied volatilities of single stocks and index implied volatility to calculate $\\alpha_t$"
   ]
  },
  {
   "cell_type": "code",
   "execution_count": null,
   "metadata": {
    "nbpresent": {
     "id": "bf55569b-da98-407f-8661-abe93a08b72d"
    }
   },
   "outputs": [],
   "source": []
  },
  {
   "cell_type": "code",
   "execution_count": null,
   "metadata": {
    "nbpresent": {
     "id": "3122e910-66cb-4e95-8417-f41a51cd7cb9"
    }
   },
   "outputs": [],
   "source": []
  },
  {
   "cell_type": "code",
   "execution_count": null,
   "metadata": {
    "nbpresent": {
     "id": "52023634-268f-4d98-99c9-b8e61551cf68"
    }
   },
   "outputs": [],
   "source": []
  }
 ],
 "metadata": {
  "kernelspec": {
   "display_name": "densityresearch",
   "language": "python",
   "name": "densityresearch"
  },
  "language_info": {
   "codemirror_mode": {
    "name": "ipython",
    "version": 3
   },
   "file_extension": ".py",
   "mimetype": "text/x-python",
   "name": "python",
   "nbconvert_exporter": "python",
   "pygments_lexer": "ipython3",
   "version": "3.6.8"
  }
 },
 "nbformat": 4,
 "nbformat_minor": 2
}
