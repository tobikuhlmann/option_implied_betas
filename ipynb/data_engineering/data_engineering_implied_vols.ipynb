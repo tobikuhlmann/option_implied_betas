{
 "cells": [
  {
   "cell_type": "markdown",
   "metadata": {
    "nbpresent": {
     "id": "28ea5f66-c563-4046-a48e-8d0ff213383c"
    }
   },
   "source": [
    "Tobias Kuhlmann, Karlsruhe Institute of Technology (KIT), tobias.kuhlmann@student.kit.edu"
   ]
  },
  {
   "cell_type": "code",
   "execution_count": 2,
   "metadata": {
    "nbpresent": {
     "id": "e253a17a-6fc8-4eea-97a8-b21f61fec87a"
    }
   },
   "outputs": [],
   "source": [
    "%matplotlib inline\n",
    "\n",
    "# Pretty Display of Variables\n",
    "from IPython.core.interactiveshell import InteractiveShell\n",
    "InteractiveShell.ast_node_interactivity = \"all\"\n",
    "\n",
    "# Double resolution plotting for retina display\n",
    "%config InlineBackend.figure_format ='retina'\n",
    "\n",
    "import numpy as np\n",
    "import pylab as pl\n",
    "import pandas as pd\n",
    "import matplotlib.pyplot as plt\n",
    "\n",
    "import glob\n",
    "import os\n",
    "\n",
    "import datetime as dt"
   ]
  },
  {
   "cell_type": "markdown",
   "metadata": {
    "nbpresent": {
     "id": "4ffd897c-afde-46fc-8021-dd49aed01647"
    }
   },
   "source": [
    "## Data\n",
    "Calculate \n",
    "- Implied volatilities of every single stock i $\\sigma^{Q}_{i,t}$\n",
    "- Implied volatilities of Index $\\sigma^{Q}_{M,t}$"
   ]
  },
  {
   "cell_type": "code",
   "execution_count": 3,
   "metadata": {
    "nbpresent": {
     "id": "386d8627-b770-415f-9ad7-6430b08fd274"
    }
   },
   "outputs": [
    {
     "data": {
      "text/plain": [
       "['Fundamentals_SP500_Full.xlsx',\n",
       " 'usdOIScurve.csv',\n",
       " '.DS_Store',\n",
       " '0_Paper',\n",
       " 'SP500_data',\n",
       " 'Calculation_Process2.ipynb',\n",
       " '2019_04_26_Cpy_Python_Code-Skewness_v8.ipynb',\n",
       " 'processed_data',\n",
       " 'instrumentid_and_symbol.csv',\n",
       " 'CRAMnoarbEOD_USOPT0007588D1_measuresByMaturity.csv',\n",
       " '.ipynb_checkpoints',\n",
       " 'stocks_risk_neutral_measures']"
      ]
     },
     "execution_count": 3,
     "metadata": {},
     "output_type": "execute_result"
    }
   ],
   "source": [
    "# Validate relative file path and list files\n",
    "os.listdir(\"../Option_Implied_Beta_Tobias/\")"
   ]
  },
  {
   "cell_type": "markdown",
   "metadata": {
    "nbpresent": {
     "id": "867d2bf0-b895-4e6f-a8b6-09c9bc31c22d"
    }
   },
   "source": [
    "###### Import instrument id on ticker mapping"
   ]
  },
  {
   "cell_type": "code",
   "execution_count": 4,
   "metadata": {
    "nbpresent": {
     "id": "a2a9c59d-6869-43ca-b0e7-fa6b0ce367c0"
    }
   },
   "outputs": [
    {
     "data": {
      "text/plain": [
       "(7590, 3)"
      ]
     },
     "execution_count": 4,
     "metadata": {},
     "output_type": "execute_result"
    },
    {
     "data": {
      "text/html": [
       "<div>\n",
       "<style scoped>\n",
       "    .dataframe tbody tr th:only-of-type {\n",
       "        vertical-align: middle;\n",
       "    }\n",
       "\n",
       "    .dataframe tbody tr th {\n",
       "        vertical-align: top;\n",
       "    }\n",
       "\n",
       "    .dataframe thead th {\n",
       "        text-align: right;\n",
       "    }\n",
       "</style>\n",
       "<table border=\"1\" class=\"dataframe\">\n",
       "  <thead>\n",
       "    <tr style=\"text-align: right;\">\n",
       "      <th></th>\n",
       "      <th>instrumentid</th>\n",
       "      <th>symbol</th>\n",
       "      <th>name</th>\n",
       "    </tr>\n",
       "  </thead>\n",
       "  <tbody>\n",
       "    <tr>\n",
       "      <th>0</th>\n",
       "      <td>USOPT0000001D1</td>\n",
       "      <td>1R</td>\n",
       "      <td>NFX (OPIS) Mont Belvieu Non-LST Propane Future</td>\n",
       "    </tr>\n",
       "    <tr>\n",
       "      <th>1</th>\n",
       "      <td>USOPT0000002D1</td>\n",
       "      <td>7Q</td>\n",
       "      <td>NFX Mont Belvieu Non- LST Natural Gasoline Fut...</td>\n",
       "    </tr>\n",
       "    <tr>\n",
       "      <th>2</th>\n",
       "      <td>USOPT0000003D1</td>\n",
       "      <td>8K</td>\n",
       "      <td>NFX (OPIS) Conway Propane Future</td>\n",
       "    </tr>\n",
       "    <tr>\n",
       "      <th>3</th>\n",
       "      <td>USOPT0000004D1</td>\n",
       "      <td>8M</td>\n",
       "      <td>NFX (OPIS) Conway Normal Butane Future</td>\n",
       "    </tr>\n",
       "    <tr>\n",
       "      <th>4</th>\n",
       "      <td>USOPT0000005D1</td>\n",
       "      <td>A</td>\n",
       "      <td>Agilent Technologies Inc</td>\n",
       "    </tr>\n",
       "  </tbody>\n",
       "</table>\n",
       "</div>"
      ],
      "text/plain": [
       "     instrumentid symbol                                               name\n",
       "0  USOPT0000001D1     1R     NFX (OPIS) Mont Belvieu Non-LST Propane Future\n",
       "1  USOPT0000002D1     7Q  NFX Mont Belvieu Non- LST Natural Gasoline Fut...\n",
       "2  USOPT0000003D1     8K                   NFX (OPIS) Conway Propane Future\n",
       "3  USOPT0000004D1     8M             NFX (OPIS) Conway Normal Butane Future\n",
       "4  USOPT0000005D1      A                           Agilent Technologies Inc"
      ]
     },
     "execution_count": 4,
     "metadata": {},
     "output_type": "execute_result"
    }
   ],
   "source": [
    "id_ticker_map = pd.read_csv(\"../Option_Implied_Beta_Tobias/instrumentid_and_symbol.csv\")\n",
    "id_ticker_map.shape\n",
    "id_ticker_map.head(5)\n"
   ]
  },
  {
   "cell_type": "markdown",
   "metadata": {
    "nbpresent": {
     "id": "55dbc4c6-46fa-4a38-aa77-316a41a1f9e0"
    }
   },
   "source": [
    "##### Implied volatilities of Index $\\sigma^{Q}_{M,t}$\n",
    "- Ein Tag: 14 Tage, 41 Tage -> linear interpolieren auf 30 Tage\n",
    "- Interpolation aus Simon's vol surface paper"
   ]
  },
  {
   "cell_type": "markdown",
   "metadata": {},
   "source": [
    "##### Annualization\n",
    "- Annualise volatilites:\n",
    "$$\\sigma^{Q}_{M,365} = \\sigma^{Q}_{M,t} * \\frac{365}{t}$$"
   ]
  },
  {
   "cell_type": "code",
   "execution_count": 5,
   "metadata": {},
   "outputs": [],
   "source": [
    "def annualize_variance(df):\n",
    "    \"\"\"\n",
    "    Annualizes variance by multiplying by 365/'daystomaturity'\n",
    "    \n",
    "    @input: dataframe with columns ['instrumentID',\n",
    "                                     'loctimestamp',\n",
    "                                     'daystomaturity', \n",
    "                                     'bakshiVariance']\n",
    "    \"\"\"\n",
    "    df['bakshi_variance_ann'] = df['bakshiVariance'] * 365/df['daystomaturity']\n",
    "    df.drop(columns=['bakshiVariance'], inplace=True)\n",
    "    return df"
   ]
  },
  {
   "cell_type": "markdown",
   "metadata": {},
   "source": [
    "##### Interpolation\n",
    "- Target time to maturity are 30 days, $\\tau_j = 30$\n",
    "$$\\sigma^{Q}_{M,30} = \\sigma^{Q}_{M,\\tau_l} + \\frac{30 - \\tau_l}{\\tau_h - \\tau_l}(\\sigma^{Q}_{M,\\tau_h}-\\sigma^{Q}_{M,\\tau_l})$$\n",
    "Where $\\tau_h$ ($\\tau_l$) represents the next longer (shorter) observed time to maturity, relative to the targeted time to maturity $\\tau_j = 30$"
   ]
  },
  {
   "cell_type": "code",
   "execution_count": 6,
   "metadata": {},
   "outputs": [],
   "source": [
    "def interpolate_maturities(sp500_implied_var):\n",
    "    \"\"\"\n",
    "    Interpolates maturities linearly to 30 days\n",
    "    \n",
    "    @input: dataframe of one instrument id with columns ['instrumentID',\n",
    "                                     'loctimestamp',\n",
    "                                     'daystomaturity', \n",
    "                                     'bakshi_variance_ann']\n",
    "    \"\"\"\n",
    "    \n",
    "    # set index to date\n",
    "    sp500_implied_var.set_index('loctimestamp', inplace=True)\n",
    "\n",
    "    # store where 30 days maturity exists\n",
    "    thirty_dtm = sp500_implied_var[sp500_implied_var['daystomaturity'] == 30].reset_index()\n",
    "    thirty_dtm_dates = sp500_implied_var[sp500_implied_var['daystomaturity'] == 30].index\n",
    "    # store every date where 30 daystomaturity does not exist\n",
    "    to_interpolate = sp500_implied_var.drop(thirty_dtm_dates).reset_index()\n",
    "\n",
    "    # insert empty 30 daystomaturity row for every date\n",
    "    to_interpolate_target_rows = pd.DataFrame(columns=['loctimestamp',\n",
    "                                                        'instrumentID',\n",
    "                                                        'daystomaturity', \n",
    "                                                        'bakshi_variance_ann'])\n",
    "    to_interpolate_target_rows['loctimestamp'] = to_interpolate['loctimestamp'].unique()\n",
    "    to_interpolate_target_rows['instrumentID'] = to_interpolate['instrumentID']\n",
    "    to_interpolate_target_rows['daystomaturity'] = 30\n",
    "\n",
    "    # append data to interpolate with empty rows where interpolation result will be stored\n",
    "    sp500_implied_var = to_interpolate.append(to_interpolate_target_rows, sort=False).append(thirty_dtm, sort=False)\n",
    "    sp500_implied_var.sort_values(by=['loctimestamp', 'daystomaturity'], inplace=True)\n",
    "    sp500_implied_var['bakshi_variance_ann'] = pd.to_numeric(sp500_implied_var['bakshi_variance_ann'])\n",
    "\n",
    "    # interpolate: For every date, interpolate linearly by index=daystomaturity values\n",
    "    result = sp500_implied_var.groupby(by=['loctimestamp']).apply(lambda g: g.drop(columns=['loctimestamp'])\n",
    "                                                                  .set_index('daystomaturity')\n",
    "                                                                  .interpolate(method='values')).reset_index()\n",
    "    # Only return 30 daystomaturity\n",
    "    return result[result['daystomaturity'] == 30]"
   ]
  },
  {
   "cell_type": "markdown",
   "metadata": {},
   "source": [
    "##### Interpolation not on volatility surface, but later on beta term structure\n",
    "\n",
    "Estimate the beta for observed maturities. This way we prevent issues with stocks that only have one maturity and don’t allow reliable interpolation of Q variance to 30 days (due to term structure in variance). Finally, we check the term structure of the recovered Q betas and potentially interpolate the beta to 30 days."
   ]
  },
  {
   "cell_type": "code",
   "execution_count": 13,
   "metadata": {
    "nbpresent": {
     "id": "21f3b684-160c-495b-b7c3-9150c46a3e01"
    }
   },
   "outputs": [
    {
     "data": {
      "text/html": [
       "<div>\n",
       "<style scoped>\n",
       "    .dataframe tbody tr th:only-of-type {\n",
       "        vertical-align: middle;\n",
       "    }\n",
       "\n",
       "    .dataframe tbody tr th {\n",
       "        vertical-align: top;\n",
       "    }\n",
       "\n",
       "    .dataframe thead th {\n",
       "        text-align: right;\n",
       "    }\n",
       "</style>\n",
       "<table border=\"1\" class=\"dataframe\">\n",
       "  <thead>\n",
       "    <tr style=\"text-align: right;\">\n",
       "      <th></th>\n",
       "      <th>instrumentID</th>\n",
       "      <th>loctimestamp</th>\n",
       "      <th>daystomaturity</th>\n",
       "      <th>bakshiVariance</th>\n",
       "    </tr>\n",
       "  </thead>\n",
       "  <tbody>\n",
       "    <tr>\n",
       "      <th>0</th>\n",
       "      <td>USOPT0007588D1</td>\n",
       "      <td>2004-01-02</td>\n",
       "      <td>15</td>\n",
       "      <td>0.001360</td>\n",
       "    </tr>\n",
       "    <tr>\n",
       "      <th>1</th>\n",
       "      <td>USOPT0007588D1</td>\n",
       "      <td>2004-01-02</td>\n",
       "      <td>50</td>\n",
       "      <td>0.004610</td>\n",
       "    </tr>\n",
       "    <tr>\n",
       "      <th>2</th>\n",
       "      <td>USOPT0007588D1</td>\n",
       "      <td>2004-01-02</td>\n",
       "      <td>78</td>\n",
       "      <td>0.007467</td>\n",
       "    </tr>\n",
       "    <tr>\n",
       "      <th>3</th>\n",
       "      <td>USOPT0007588D1</td>\n",
       "      <td>2004-01-02</td>\n",
       "      <td>169</td>\n",
       "      <td>0.015998</td>\n",
       "    </tr>\n",
       "    <tr>\n",
       "      <th>4</th>\n",
       "      <td>USOPT0007588D1</td>\n",
       "      <td>2004-01-02</td>\n",
       "      <td>260</td>\n",
       "      <td>0.024475</td>\n",
       "    </tr>\n",
       "  </tbody>\n",
       "</table>\n",
       "</div>"
      ],
      "text/plain": [
       "     instrumentID loctimestamp  daystomaturity  bakshiVariance\n",
       "0  USOPT0007588D1   2004-01-02              15        0.001360\n",
       "1  USOPT0007588D1   2004-01-02              50        0.004610\n",
       "2  USOPT0007588D1   2004-01-02              78        0.007467\n",
       "3  USOPT0007588D1   2004-01-02             169        0.015998\n",
       "4  USOPT0007588D1   2004-01-02             260        0.024475"
      ]
     },
     "execution_count": 13,
     "metadata": {},
     "output_type": "execute_result"
    },
    {
     "data": {
      "text/plain": [
       "(58244, 4)"
      ]
     },
     "execution_count": 13,
     "metadata": {},
     "output_type": "execute_result"
    }
   ],
   "source": [
    "sp500_options = pd.read_csv(\"../Option_Implied_Beta_Tobias/CRAMnoarbEOD_USOPT0007588D1_measuresByMaturity.csv\", \n",
    "                            sep=\";\", \n",
    "                            usecols=['instrumentID',\n",
    "                                     'loctimestamp',\n",
    "                                     'daystomaturity', \n",
    "                                     'bakshiVariance'],\n",
    "                            parse_dates=['loctimestamp'],\n",
    "                            infer_datetime_format=True)\n",
    "\n",
    "# check if observed maturities are the same for every stock on a given date\n",
    "sp500_options.head()\n",
    "#sp500_options.groupby(by=['loctimestamp', 'instrumentID']).daystomaturity.nunique()\n",
    "\n",
    "# Annualize\n",
    "sp500_implied_var = annualize_variance(sp500_options)\n",
    "# interpolate\n",
    "#sp500_implied_var = interpolate_maturities(sp500_implied_var)\n",
    "\n",
    "sp500_implied_var.shape\n",
    "# Export to csv\n",
    "#sp500_implied_var.to_csv('../Option_Implied_Beta_Tobias/processed_data/sp500_implied_vol.csv', index=False)"
   ]
  },
  {
   "cell_type": "markdown",
   "metadata": {
    "nbpresent": {
     "id": "8f7d2dc9-fac4-4a39-9e03-15207426f801"
    }
   },
   "source": [
    "##### Implied volatilities of every single stock i $\\sigma^{Q}_{i,t}$\n",
    "Read in risk neutral measures for single stocks and combine in dataframe\n",
    "\n",
    "##### Interpolation"
   ]
  },
  {
   "cell_type": "code",
   "execution_count": 39,
   "metadata": {
    "nbpresent": {
     "id": "1087182d-35e2-4996-9457-61beaeda9962"
    }
   },
   "outputs": [
    {
     "name": "stdout",
     "output_type": "stream",
     "text": [
      "shape: (1468488, 4)\n",
      "Unique instrument id: (487,)\n"
     ]
    },
    {
     "data": {
      "text/html": [
       "<div>\n",
       "<style scoped>\n",
       "    .dataframe tbody tr th:only-of-type {\n",
       "        vertical-align: middle;\n",
       "    }\n",
       "\n",
       "    .dataframe tbody tr th {\n",
       "        vertical-align: top;\n",
       "    }\n",
       "\n",
       "    .dataframe thead th {\n",
       "        text-align: right;\n",
       "    }\n",
       "</style>\n",
       "<table border=\"1\" class=\"dataframe\">\n",
       "  <thead>\n",
       "    <tr style=\"text-align: right;\">\n",
       "      <th></th>\n",
       "      <th>instrumentID</th>\n",
       "      <th>loctimestamp</th>\n",
       "      <th>daystomaturity</th>\n",
       "      <th>bakshi_variance_ann</th>\n",
       "    </tr>\n",
       "  </thead>\n",
       "  <tbody>\n",
       "    <tr>\n",
       "      <th>1</th>\n",
       "      <td>USOPT0002207D1</td>\n",
       "      <td>2004-01-02</td>\n",
       "      <td>30</td>\n",
       "      <td>0.073859</td>\n",
       "    </tr>\n",
       "    <tr>\n",
       "      <th>8</th>\n",
       "      <td>USOPT0002207D1</td>\n",
       "      <td>2004-01-05</td>\n",
       "      <td>30</td>\n",
       "      <td>0.080492</td>\n",
       "    </tr>\n",
       "    <tr>\n",
       "      <th>15</th>\n",
       "      <td>USOPT0002207D1</td>\n",
       "      <td>2004-01-06</td>\n",
       "      <td>30</td>\n",
       "      <td>0.110247</td>\n",
       "    </tr>\n",
       "    <tr>\n",
       "      <th>22</th>\n",
       "      <td>USOPT0002207D1</td>\n",
       "      <td>2004-01-07</td>\n",
       "      <td>30</td>\n",
       "      <td>0.115185</td>\n",
       "    </tr>\n",
       "    <tr>\n",
       "      <th>29</th>\n",
       "      <td>USOPT0002207D1</td>\n",
       "      <td>2004-01-08</td>\n",
       "      <td>30</td>\n",
       "      <td>0.114663</td>\n",
       "    </tr>\n",
       "  </tbody>\n",
       "</table>\n",
       "</div>"
      ],
      "text/plain": [
       "      instrumentID loctimestamp daystomaturity  bakshi_variance_ann\n",
       "1   USOPT0002207D1   2004-01-02             30             0.073859\n",
       "8   USOPT0002207D1   2004-01-05             30             0.080492\n",
       "15  USOPT0002207D1   2004-01-06             30             0.110247\n",
       "22  USOPT0002207D1   2004-01-07             30             0.115185\n",
       "29  USOPT0002207D1   2004-01-08             30             0.114663"
      ]
     },
     "execution_count": 39,
     "metadata": {},
     "output_type": "execute_result"
    }
   ],
   "source": [
    "# the path to your csv file directory\n",
    "mycsvdir = '../Option_Implied_Beta_Tobias/Single_Stock_Skewness/'\n",
    "\n",
    "# get all the csv files in that directory\n",
    "csvfiles_w_path = glob.glob(os.path.join(mycsvdir, '*.csv'))\n",
    "\n",
    "# loop through the files and read them in with pandas\n",
    "stock_risk_neutral_measures = pd.DataFrame(columns=['instrumentID', \n",
    "                                     'loctimestamp',\n",
    "                                     'daystomaturity', \n",
    "                                     'bakshi_variance_ann']) \n",
    "for csvfile in csvfiles_w_path:\n",
    "    df = pd.read_csv(csvfile, \n",
    "                     usecols=['loctimestamp',\n",
    "                                     'daystomaturity', \n",
    "                                     'bakshiVariance',\n",
    "                                     'interpolmaturity'],\n",
    "                     parse_dates=['loctimestamp'],\n",
    "                     infer_datetime_format=True)\n",
    "    # add column with instrument id\n",
    "    filename_wo_ext=os.path.basename(csvfile)\n",
    "    df['instrumentID'] = os.path.splitext(filename_wo_ext)[0].partition(\"_\")[0]\n",
    "    # drop interpolated maturities, we interpolate ourselves\n",
    "    df = df[df['interpolmaturity']==0].drop(columns='interpolmaturity')\n",
    "    # annualise bakshi variances\n",
    "    single_stock_implied_var = annualize_variance(df)\n",
    "    # interpolate following Walther, Ulrich(2019)\n",
    "    single_stock_implied_var = interpolate_maturities(single_stock_implied_var)\n",
    "\n",
    "    # append\n",
    "    stock_risk_neutral_measures = stock_risk_neutral_measures.append(single_stock_implied_var[['instrumentID',\n",
    "                                     'loctimestamp',\n",
    "                                     'daystomaturity', \n",
    "                                     'bakshi_variance_ann']], \n",
    "                                     sort=False)\n",
    "\n",
    "print(f\"shape: {stock_risk_neutral_measures.shape}\")\n",
    "print(f\"Unique instrument id: {stock_risk_neutral_measures.instrumentID.unique().shape}\")\n",
    "stock_risk_neutral_measures.head(5)"
   ]
  },
  {
   "cell_type": "code",
   "execution_count": 40,
   "metadata": {
    "nbpresent": {
     "id": "bf55569b-da98-407f-8661-abe93a08b72d"
    }
   },
   "outputs": [],
   "source": [
    "# Export to csv\n",
    "stock_risk_neutral_measures.to_csv('../Option_Implied_Beta_Tobias/processed_data/single_stocks_implied_vol.csv', index=False)"
   ]
  }
 ],
 "metadata": {
  "kernelspec": {
   "display_name": "densityresearch",
   "language": "python",
   "name": "densityresearch"
  },
  "language_info": {
   "codemirror_mode": {
    "name": "ipython",
    "version": 3
   },
   "file_extension": ".py",
   "mimetype": "text/x-python",
   "name": "python",
   "nbconvert_exporter": "python",
   "pygments_lexer": "ipython3",
   "version": "3.6.8"
  }
 },
 "nbformat": 4,
 "nbformat_minor": 2
}
