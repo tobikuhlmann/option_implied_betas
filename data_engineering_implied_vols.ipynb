{
 "cells": [
  {
   "cell_type": "markdown",
   "metadata": {
    "nbpresent": {
     "id": "28ea5f66-c563-4046-a48e-8d0ff213383c"
    }
   },
   "source": [
    "Tobias Kuhlmann, Karlsruhe Institute of Technology (KIT), tobias.kuhlmann@student.kit.edu"
   ]
  },
  {
   "cell_type": "code",
   "execution_count": 1,
   "metadata": {
    "nbpresent": {
     "id": "e253a17a-6fc8-4eea-97a8-b21f61fec87a"
    }
   },
   "outputs": [],
   "source": [
    "%matplotlib inline\n",
    "\n",
    "# Pretty Display of Variables\n",
    "from IPython.core.interactiveshell import InteractiveShell\n",
    "InteractiveShell.ast_node_interactivity = \"all\"\n",
    "\n",
    "# Double resolution plotting for retina display\n",
    "%config InlineBackend.figure_format ='retina'\n",
    "\n",
    "import numpy as np\n",
    "import pylab as pl\n",
    "import pandas as pd\n",
    "import matplotlib.pyplot as plt\n",
    "\n",
    "import glob\n",
    "import os\n",
    "\n",
    "import datetime as dt\n",
    "\n",
    "\n"
   ]
  },
  {
   "cell_type": "markdown",
   "metadata": {
    "nbpresent": {
     "id": "4ffd897c-afde-46fc-8021-dd49aed01647"
    }
   },
   "source": [
    "## Data\n",
    "\n",
    "##### Data needed\n",
    "- Return time series to calculate rolling window stock-stock correlations $\\rho^{P}_{ij,t}$\n",
    "- Stock weights in index over time \n",
    "- Implied volatilities of every single stock i $\\sigma^{Q}_{i,t}$\n",
    "- Implied volatilities of Index $\\sigma^{Q}_{M,t}$\n",
    "- Use stock-stock correlations, implied volatilities of single stocks and index implied volatility to calculate $\\alpha_t$\n"
   ]
  },
  {
   "cell_type": "code",
   "execution_count": 2,
   "metadata": {
    "nbpresent": {
     "id": "386d8627-b770-415f-9ad7-6430b08fd274"
    }
   },
   "outputs": [
    {
     "data": {
      "text/plain": [
       "['Single_Stock_Skewness',\n",
       " 'Fundamentals_SP500_Full.xlsx',\n",
       " 'usdOIScurve.csv',\n",
       " '.DS_Store',\n",
       " '0_Paper',\n",
       " 'Calculation_Process2.ipynb',\n",
       " '2019_04_26_Cpy_Python_Code-Skewness_v8.ipynb',\n",
       " 'instrumentid_and_symbol.csv',\n",
       " 'SP500',\n",
       " 'CRAMnoarbEOD_USOPT0007588D1_measuresByMaturity.csv',\n",
       " 'Fundamentals_SP500_Full copy.xlsx',\n",
       " '.ipynb_checkpoints',\n",
       " '~$Fundamentals_SP500_Full.xlsx']"
      ]
     },
     "execution_count": 2,
     "metadata": {},
     "output_type": "execute_result"
    }
   ],
   "source": [
    "# Validate relative file path and list files\n",
    "os.listdir(\"../Option_Implied_Beta_Tobias/\")"
   ]
  },
  {
   "cell_type": "markdown",
   "metadata": {
    "nbpresent": {
     "id": "867d2bf0-b895-4e6f-a8b6-09c9bc31c22d"
    }
   },
   "source": [
    "###### Import instrument id on ticker mapping"
   ]
  },
  {
   "cell_type": "code",
   "execution_count": 3,
   "metadata": {
    "nbpresent": {
     "id": "a2a9c59d-6869-43ca-b0e7-fa6b0ce367c0"
    }
   },
   "outputs": [
    {
     "data": {
      "text/plain": [
       "(7590, 3)"
      ]
     },
     "execution_count": 3,
     "metadata": {},
     "output_type": "execute_result"
    },
    {
     "data": {
      "text/html": [
       "<div>\n",
       "<style scoped>\n",
       "    .dataframe tbody tr th:only-of-type {\n",
       "        vertical-align: middle;\n",
       "    }\n",
       "\n",
       "    .dataframe tbody tr th {\n",
       "        vertical-align: top;\n",
       "    }\n",
       "\n",
       "    .dataframe thead th {\n",
       "        text-align: right;\n",
       "    }\n",
       "</style>\n",
       "<table border=\"1\" class=\"dataframe\">\n",
       "  <thead>\n",
       "    <tr style=\"text-align: right;\">\n",
       "      <th></th>\n",
       "      <th>instrumentid</th>\n",
       "      <th>symbol</th>\n",
       "      <th>name</th>\n",
       "    </tr>\n",
       "  </thead>\n",
       "  <tbody>\n",
       "    <tr>\n",
       "      <th>0</th>\n",
       "      <td>USOPT0000001D1</td>\n",
       "      <td>1R</td>\n",
       "      <td>NFX (OPIS) Mont Belvieu Non-LST Propane Future</td>\n",
       "    </tr>\n",
       "  </tbody>\n",
       "</table>\n",
       "</div>"
      ],
      "text/plain": [
       "     instrumentid symbol                                            name\n",
       "0  USOPT0000001D1     1R  NFX (OPIS) Mont Belvieu Non-LST Propane Future"
      ]
     },
     "execution_count": 3,
     "metadata": {},
     "output_type": "execute_result"
    }
   ],
   "source": [
    "id_ticker_map = pd.read_csv(\"../Option_Implied_Beta_Tobias/instrumentid_and_symbol.csv\")\n",
    "id_ticker_map.shape\n",
    "id_ticker_map.head(1)\n"
   ]
  },
  {
   "cell_type": "markdown",
   "metadata": {
    "nbpresent": {
     "id": "55dbc4c6-46fa-4a38-aa77-316a41a1f9e0"
    }
   },
   "source": [
    "##### Implied volatilities of Index $\\sigma^{Q}_{M,t}$\n",
    "- Question: Daiana file: Bereits bereinigt? Maturities 30 days out, interpolated out\n",
    "- Ein Tag: 14 Tage, 41 Tage -> linear interpolieren auf 30 Tage\n",
    "- Interpolation aus Simon's vol surface paper\n"
   ]
  },
  {
   "cell_type": "code",
   "execution_count": null,
   "metadata": {
    "nbpresent": {
     "id": "21f3b684-160c-495b-b7c3-9150c46a3e01"
    }
   },
   "outputs": [],
   "source": [
    "sp500_options = pd.read_csv(\"../Option_Implied_Beta_Tobias/CRAMnoarbEOD_USOPT0007588D1_measuresByMaturity.csv\", sep=\";\")\n",
    "sp500_options.shape\n",
    "sp500_options.head(1)\n",
    "\n"
   ]
  },
  {
   "cell_type": "markdown",
   "metadata": {
    "nbpresent": {
     "id": "8f7d2dc9-fac4-4a39-9e03-15207426f801"
    }
   },
   "source": [
    "##### Implied volatilities of every single stock i $\\sigma^{Q}_{i,t}$\n",
    "Read in risk neutral measures for single stocks and combine in dataframe\n",
    "\n",
    "##### Data structures and implementation\n",
    "1. Create pandas data structure with dates as index\n",
    "2. Filter and interpolate for every csvfile=instrument\n",
    "3. append rowwise with instruments as columns and dates, maturities as index\n",
    "4. move back to long fomat"
   ]
  },
  {
   "cell_type": "code",
   "execution_count": null,
   "metadata": {
    "nbpresent": {
     "id": "1087182d-35e2-4996-9457-61beaeda9962"
    }
   },
   "outputs": [],
   "source": [
    "# the path to your csv file directory\n",
    "mycsvdir = '../Option_Implied_Beta_Tobias/Single_Stock_Skewness/'\n",
    "\n",
    "# get all the csv files in that directory\n",
    "csvfiles_w_path = glob.glob(os.path.join(mycsvdir, '*.csv'))\n",
    "\n",
    "# loop through the files and read them in with pandas\n",
    "stock_risk_neutral_measures = pd.DataFrame(columns=['id', \n",
    "                                     'loctimestamp',\n",
    "                                     'daystomaturity', \n",
    "                                     'bakshiVariance',\n",
    "                                     'SVIX']) \n",
    "for csvfile in csvfiles_w_path[0:1]:\n",
    "    df = pd.read_csv(csvfile, usecols=['loctimestamp',\n",
    "                                     'daystomaturity', \n",
    "                                     'bakshiVariance',\n",
    "                                     'interpolmaturity'])\n",
    "    # add column with instrument id\n",
    "    filename_wo_ext=os.path.basename(csvfile)\n",
    "    df['id'] = os.path.splitext(filename_wo_ext)[0].partition(\"_\")[0]\n",
    "    # drop interpolated maturities, we interpolate ourselves\n",
    "    df = df[df['interpolmaturity']==0].drop(columns='interpolmaturity')\n",
    "    # interpolate following Walther, Ulrich(2019)\n",
    "    \n",
    "    # append\n",
    "    stock_risk_neutral_measures = stock_risk_neutral_measures.append(df[['id',\n",
    "                                     'loctimestamp',\n",
    "                                     'daystomaturity', \n",
    "                                     'bakshiVariance',]])\n",
    "\n",
    "print(f\"shape: {stock_risk_neutral_measures.shape}\")\n",
    "print(f\"Unique instrument id: {stock_risk_neutral_measures.id.unique().shape}\")\n",
    "stock_risk_neutral_measures.head(5)"
   ]
  },
  {
   "cell_type": "code",
   "execution_count": null,
   "metadata": {
    "nbpresent": {
     "id": "bf55569b-da98-407f-8661-abe93a08b72d"
    }
   },
   "outputs": [],
   "source": []
  },
  {
   "cell_type": "code",
   "execution_count": null,
   "metadata": {
    "nbpresent": {
     "id": "3122e910-66cb-4e95-8417-f41a51cd7cb9"
    }
   },
   "outputs": [],
   "source": []
  },
  {
   "cell_type": "code",
   "execution_count": null,
   "metadata": {
    "nbpresent": {
     "id": "52023634-268f-4d98-99c9-b8e61551cf68"
    }
   },
   "outputs": [],
   "source": []
  }
 ],
 "metadata": {
  "kernelspec": {
   "display_name": "densityresearch",
   "language": "python",
   "name": "densityresearch"
  },
  "language_info": {
   "codemirror_mode": {
    "name": "ipython",
    "version": 3
   },
   "file_extension": ".py",
   "mimetype": "text/x-python",
   "name": "python",
   "nbconvert_exporter": "python",
   "pygments_lexer": "ipython3",
   "version": "3.6.8"
  }
 },
 "nbformat": 4,
 "nbformat_minor": 2
}
